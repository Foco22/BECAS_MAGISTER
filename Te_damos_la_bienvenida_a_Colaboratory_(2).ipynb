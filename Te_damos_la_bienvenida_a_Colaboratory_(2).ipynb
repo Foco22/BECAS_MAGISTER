{
  "nbformat": 4,
  "nbformat_minor": 0,
  "metadata": {
    "colab": {
      "name": "Te_damos_la_bienvenida_a_Colaboratory (2).ipynb",
      "provenance": [],
      "collapsed_sections": [],
      "include_colab_link": true
    },
    "kernelspec": {
      "display_name": "Python 3",
      "name": "python3"
    }
  },
  "cells": [
    {
      "cell_type": "markdown",
      "metadata": {
        "id": "view-in-github",
        "colab_type": "text"
      },
      "source": [
        "<a href=\"https://colab.research.google.com/github/Foco22/BECAS_MAGISTER/blob/master/Te_damos_la_bienvenida_a_Colaboratory_(2).ipynb\" target=\"_parent\"><img src=\"https://colab.research.google.com/assets/colab-badge.svg\" alt=\"Open In Colab\"/></a>"
      ]
    },
    {
      "cell_type": "code",
      "metadata": {
        "id": "ECeAsZcDo4fd",
        "colab_type": "code",
        "colab": {
          "base_uri": "https://localhost:8080/",
          "height": 591
        },
        "outputId": "182b6819-0479-4b52-ff10-3ffc76dcb2d0"
      },
      "source": [
        "!pip install \"camelot-py[cv]\""
      ],
      "execution_count": 1,
      "outputs": [
        {
          "output_type": "stream",
          "text": [
            "Collecting camelot-py[cv]\n",
            "\u001b[?25l  Downloading https://files.pythonhosted.org/packages/ed/78/123007d6aff9811bd087ff5dd68e06a9df62b2fdbf7685d74c9d6f247921/camelot_py-0.8.2-py3-none-any.whl (42kB)\n",
            "\u001b[K     |████████████████████████████████| 51kB 2.3MB/s \n",
            "\u001b[?25hCollecting PyPDF2>=1.26.0\n",
            "\u001b[?25l  Downloading https://files.pythonhosted.org/packages/b4/01/68fcc0d43daf4c6bdbc6b33cc3f77bda531c86b174cac56ef0ffdb96faab/PyPDF2-1.26.0.tar.gz (77kB)\n",
            "\u001b[K     |████████████████████████████████| 81kB 3.9MB/s \n",
            "\u001b[?25hRequirement already satisfied: chardet>=3.0.4 in /usr/local/lib/python3.6/dist-packages (from camelot-py[cv]) (3.0.4)\n",
            "Requirement already satisfied: click>=6.7 in /usr/local/lib/python3.6/dist-packages (from camelot-py[cv]) (7.1.2)\n",
            "Collecting pdfminer.six>=20200726\n",
            "\u001b[?25l  Downloading https://files.pythonhosted.org/packages/98/12/ab5ebafc4cb2b49847de7bfc26f2d152f42a4af136263152d070c61dfd7d/pdfminer.six-20200726-py3-none-any.whl (5.6MB)\n",
            "\u001b[K     |████████████████████████████████| 5.6MB 7.8MB/s \n",
            "\u001b[?25hRequirement already satisfied: openpyxl>=2.5.8 in /usr/local/lib/python3.6/dist-packages (from camelot-py[cv]) (2.5.9)\n",
            "Requirement already satisfied: numpy>=1.13.3 in /usr/local/lib/python3.6/dist-packages (from camelot-py[cv]) (1.18.5)\n",
            "Requirement already satisfied: pandas>=0.23.4 in /usr/local/lib/python3.6/dist-packages (from camelot-py[cv]) (1.0.5)\n",
            "Requirement already satisfied: opencv-python>=3.4.2.17; extra == \"cv\" in /usr/local/lib/python3.6/dist-packages (from camelot-py[cv]) (4.1.2.30)\n",
            "Requirement already satisfied: sortedcontainers in /usr/local/lib/python3.6/dist-packages (from pdfminer.six>=20200726->camelot-py[cv]) (2.2.2)\n",
            "Collecting cryptography\n",
            "\u001b[?25l  Downloading https://files.pythonhosted.org/packages/c0/9c/647e559a6e8be493dc2a7a5d15d26cb501ca60ec299b356f23839a673a83/cryptography-3.1-cp35-abi3-manylinux2010_x86_64.whl (2.6MB)\n",
            "\u001b[K     |████████████████████████████████| 2.6MB 46.6MB/s \n",
            "\u001b[?25hRequirement already satisfied: jdcal in /usr/local/lib/python3.6/dist-packages (from openpyxl>=2.5.8->camelot-py[cv]) (1.4.1)\n",
            "Requirement already satisfied: et-xmlfile in /usr/local/lib/python3.6/dist-packages (from openpyxl>=2.5.8->camelot-py[cv]) (1.0.1)\n",
            "Requirement already satisfied: python-dateutil>=2.6.1 in /usr/local/lib/python3.6/dist-packages (from pandas>=0.23.4->camelot-py[cv]) (2.8.1)\n",
            "Requirement already satisfied: pytz>=2017.2 in /usr/local/lib/python3.6/dist-packages (from pandas>=0.23.4->camelot-py[cv]) (2018.9)\n",
            "Requirement already satisfied: six>=1.4.1 in /usr/local/lib/python3.6/dist-packages (from cryptography->pdfminer.six>=20200726->camelot-py[cv]) (1.15.0)\n",
            "Requirement already satisfied: cffi!=1.11.3,>=1.8 in /usr/local/lib/python3.6/dist-packages (from cryptography->pdfminer.six>=20200726->camelot-py[cv]) (1.14.2)\n",
            "Requirement already satisfied: pycparser in /usr/local/lib/python3.6/dist-packages (from cffi!=1.11.3,>=1.8->cryptography->pdfminer.six>=20200726->camelot-py[cv]) (2.20)\n",
            "Building wheels for collected packages: PyPDF2\n",
            "  Building wheel for PyPDF2 (setup.py) ... \u001b[?25l\u001b[?25hdone\n",
            "  Created wheel for PyPDF2: filename=PyPDF2-1.26.0-cp36-none-any.whl size=61086 sha256=d47aec69b2cb28c02caa50543ed0a68041f0b682e90cf56315f47e96718efd53\n",
            "  Stored in directory: /root/.cache/pip/wheels/53/84/19/35bc977c8bf5f0c23a8a011aa958acd4da4bbd7a229315c1b7\n",
            "Successfully built PyPDF2\n",
            "Installing collected packages: PyPDF2, cryptography, pdfminer.six, camelot-py\n",
            "Successfully installed PyPDF2-1.26.0 camelot-py-0.8.2 cryptography-3.1 pdfminer.six-20200726\n"
          ],
          "name": "stdout"
        }
      ]
    },
    {
      "cell_type": "code",
      "metadata": {
        "id": "0RZuavKC7PXV",
        "colab_type": "code",
        "colab": {
          "base_uri": "https://localhost:8080/",
          "height": 1000
        },
        "outputId": "7f964cdf-d4f3-4955-cdcb-9dea25f53dbd"
      },
      "source": [
        "!apt install python3-tk ghostscript"
      ],
      "execution_count": 2,
      "outputs": [
        {
          "output_type": "stream",
          "text": [
            "Reading package lists... Done\n",
            "Building dependency tree       \n",
            "Reading state information... Done\n",
            "python3-tk is already the newest version (3.6.9-1~18.04).\n",
            "The following package was automatically installed and is no longer required:\n",
            "  libnvidia-common-440\n",
            "Use 'apt autoremove' to remove it.\n",
            "The following additional packages will be installed:\n",
            "  fonts-droid-fallback fonts-noto-mono gsfonts libcupsfilters1 libcupsimage2\n",
            "  libgs9 libgs9-common libijs-0.35 libjbig2dec0 poppler-data\n",
            "Suggested packages:\n",
            "  fonts-noto ghostscript-x poppler-utils fonts-japanese-mincho\n",
            "  | fonts-ipafont-mincho fonts-japanese-gothic | fonts-ipafont-gothic\n",
            "  fonts-arphic-ukai fonts-arphic-uming fonts-nanum\n",
            "The following NEW packages will be installed:\n",
            "  fonts-droid-fallback fonts-noto-mono ghostscript gsfonts libcupsfilters1\n",
            "  libcupsimage2 libgs9 libgs9-common libijs-0.35 libjbig2dec0 poppler-data\n",
            "0 upgraded, 11 newly installed, 0 to remove and 39 not upgraded.\n",
            "Need to get 14.1 MB of archives.\n",
            "After this operation, 49.9 MB of additional disk space will be used.\n",
            "Get:1 http://archive.ubuntu.com/ubuntu bionic/main amd64 fonts-droid-fallback all 1:6.0.1r16-1.1 [1,805 kB]\n",
            "Get:2 http://archive.ubuntu.com/ubuntu bionic/main amd64 poppler-data all 0.4.8-2 [1,479 kB]\n",
            "Get:3 http://archive.ubuntu.com/ubuntu bionic/main amd64 fonts-noto-mono all 20171026-2 [75.5 kB]\n",
            "Get:4 http://archive.ubuntu.com/ubuntu bionic-updates/main amd64 libcupsimage2 amd64 2.2.7-1ubuntu2.8 [18.6 kB]\n",
            "Get:5 http://archive.ubuntu.com/ubuntu bionic/main amd64 libijs-0.35 amd64 0.35-13 [15.5 kB]\n",
            "Get:6 http://archive.ubuntu.com/ubuntu bionic/main amd64 libjbig2dec0 amd64 0.13-6 [55.9 kB]\n",
            "Get:7 http://archive.ubuntu.com/ubuntu bionic-updates/main amd64 libgs9-common all 9.26~dfsg+0-0ubuntu0.18.04.13 [5,092 kB]\n",
            "Get:8 http://archive.ubuntu.com/ubuntu bionic-updates/main amd64 libgs9 amd64 9.26~dfsg+0-0ubuntu0.18.04.13 [2,263 kB]\n",
            "Get:9 http://archive.ubuntu.com/ubuntu bionic-updates/main amd64 ghostscript amd64 9.26~dfsg+0-0ubuntu0.18.04.13 [51.0 kB]\n",
            "Get:10 http://archive.ubuntu.com/ubuntu bionic/main amd64 gsfonts all 1:8.11+urwcyr1.0.7~pre44-4.4 [3,120 kB]\n",
            "Get:11 http://archive.ubuntu.com/ubuntu bionic-updates/main amd64 libcupsfilters1 amd64 1.20.2-0ubuntu3.1 [108 kB]\n",
            "Fetched 14.1 MB in 2s (7,009 kB/s)\n",
            "Selecting previously unselected package fonts-droid-fallback.\n",
            "(Reading database ... 144579 files and directories currently installed.)\n",
            "Preparing to unpack .../00-fonts-droid-fallback_1%3a6.0.1r16-1.1_all.deb ...\n",
            "Unpacking fonts-droid-fallback (1:6.0.1r16-1.1) ...\n",
            "Selecting previously unselected package poppler-data.\n",
            "Preparing to unpack .../01-poppler-data_0.4.8-2_all.deb ...\n",
            "Unpacking poppler-data (0.4.8-2) ...\n",
            "Selecting previously unselected package fonts-noto-mono.\n",
            "Preparing to unpack .../02-fonts-noto-mono_20171026-2_all.deb ...\n",
            "Unpacking fonts-noto-mono (20171026-2) ...\n",
            "Selecting previously unselected package libcupsimage2:amd64.\n",
            "Preparing to unpack .../03-libcupsimage2_2.2.7-1ubuntu2.8_amd64.deb ...\n",
            "Unpacking libcupsimage2:amd64 (2.2.7-1ubuntu2.8) ...\n",
            "Selecting previously unselected package libijs-0.35:amd64.\n",
            "Preparing to unpack .../04-libijs-0.35_0.35-13_amd64.deb ...\n",
            "Unpacking libijs-0.35:amd64 (0.35-13) ...\n",
            "Selecting previously unselected package libjbig2dec0:amd64.\n",
            "Preparing to unpack .../05-libjbig2dec0_0.13-6_amd64.deb ...\n",
            "Unpacking libjbig2dec0:amd64 (0.13-6) ...\n",
            "Selecting previously unselected package libgs9-common.\n",
            "Preparing to unpack .../06-libgs9-common_9.26~dfsg+0-0ubuntu0.18.04.13_all.deb ...\n",
            "Unpacking libgs9-common (9.26~dfsg+0-0ubuntu0.18.04.13) ...\n",
            "Selecting previously unselected package libgs9:amd64.\n",
            "Preparing to unpack .../07-libgs9_9.26~dfsg+0-0ubuntu0.18.04.13_amd64.deb ...\n",
            "Unpacking libgs9:amd64 (9.26~dfsg+0-0ubuntu0.18.04.13) ...\n",
            "Selecting previously unselected package ghostscript.\n",
            "Preparing to unpack .../08-ghostscript_9.26~dfsg+0-0ubuntu0.18.04.13_amd64.deb ...\n",
            "Unpacking ghostscript (9.26~dfsg+0-0ubuntu0.18.04.13) ...\n",
            "Selecting previously unselected package gsfonts.\n",
            "Preparing to unpack .../09-gsfonts_1%3a8.11+urwcyr1.0.7~pre44-4.4_all.deb ...\n",
            "Unpacking gsfonts (1:8.11+urwcyr1.0.7~pre44-4.4) ...\n",
            "Selecting previously unselected package libcupsfilters1:amd64.\n",
            "Preparing to unpack .../10-libcupsfilters1_1.20.2-0ubuntu3.1_amd64.deb ...\n",
            "Unpacking libcupsfilters1:amd64 (1.20.2-0ubuntu3.1) ...\n",
            "Setting up libgs9-common (9.26~dfsg+0-0ubuntu0.18.04.13) ...\n",
            "Setting up fonts-droid-fallback (1:6.0.1r16-1.1) ...\n",
            "Setting up gsfonts (1:8.11+urwcyr1.0.7~pre44-4.4) ...\n",
            "Setting up poppler-data (0.4.8-2) ...\n",
            "Setting up fonts-noto-mono (20171026-2) ...\n",
            "Setting up libcupsfilters1:amd64 (1.20.2-0ubuntu3.1) ...\n",
            "Setting up libcupsimage2:amd64 (2.2.7-1ubuntu2.8) ...\n",
            "Setting up libjbig2dec0:amd64 (0.13-6) ...\n",
            "Setting up libijs-0.35:amd64 (0.35-13) ...\n",
            "Setting up libgs9:amd64 (9.26~dfsg+0-0ubuntu0.18.04.13) ...\n",
            "Setting up ghostscript (9.26~dfsg+0-0ubuntu0.18.04.13) ...\n",
            "Processing triggers for man-db (2.8.3-2ubuntu0.1) ...\n",
            "Processing triggers for fontconfig (2.12.6-0ubuntu2) ...\n",
            "Processing triggers for libc-bin (2.27-3ubuntu1) ...\n",
            "/sbin/ldconfig.real: /usr/local/lib/python3.6/dist-packages/ideep4py/lib/libmkldnn.so.0 is not a symbolic link\n",
            "\n"
          ],
          "name": "stdout"
        }
      ]
    },
    {
      "cell_type": "code",
      "metadata": {
        "id": "zcwd4yL_6A_I",
        "colab_type": "code",
        "colab": {
          "base_uri": "https://localhost:8080/",
          "height": 70
        },
        "outputId": "e6d43996-057a-446b-ec01-61086eddfa86"
      },
      "source": [
        "import camelot\n",
        "import pandas as pd\n",
        "import numpy as np \n",
        "import matplotlib.pyplot as plt\n",
        "import seaborn as sns"
      ],
      "execution_count": 3,
      "outputs": [
        {
          "output_type": "stream",
          "text": [
            "/usr/local/lib/python3.6/dist-packages/statsmodels/tools/_testing.py:19: FutureWarning: pandas.util.testing is deprecated. Use the functions in the public API at pandas.testing instead.\n",
            "  import pandas.util.testing as tm\n"
          ],
          "name": "stderr"
        }
      ]
    },
    {
      "cell_type": "markdown",
      "metadata": {
        "id": "ionI8Z5JLcPP",
        "colab_type": "text"
      },
      "source": [
        "# ***Exportacion y Preparacion de los datos***\n"
      ]
    },
    {
      "cell_type": "code",
      "metadata": {
        "id": "gSYzD8WoeZng",
        "colab_type": "code",
        "colab": {
          "resources": {
            "http://localhost:8080/nbextensions/google.colab/files.js": {
              "data": "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",
              "ok": true,
              "headers": [
                [
                  "content-type",
                  "application/javascript"
                ]
              ],
              "status": 200,
              "status_text": ""
            }
          },
          "base_uri": "https://localhost:8080/",
          "height": 458
        },
        "outputId": "dd9c57e0-5a96-4433-abab-fce51f703f47"
      },
      "source": [
        "df = extraccion_informacion_2019()\n",
        "df"
      ],
      "execution_count": 135,
      "outputs": [
        {
          "output_type": "display_data",
          "data": {
            "text/html": [
              "\n",
              "     <input type=\"file\" id=\"files-70a611b6-5782-429d-a644-81201f4dc0cc\" name=\"files[]\" multiple disabled\n",
              "        style=\"border:none\" />\n",
              "     <output id=\"result-70a611b6-5782-429d-a644-81201f4dc0cc\">\n",
              "      Upload widget is only available when the cell has been executed in the\n",
              "      current browser session. Please rerun this cell to enable.\n",
              "      </output>\n",
              "      <script src=\"/nbextensions/google.colab/files.js\"></script> "
            ],
            "text/plain": [
              "<IPython.core.display.HTML object>"
            ]
          },
          "metadata": {
            "tags": []
          }
        },
        {
          "output_type": "stream",
          "text": [
            "Saving RES_FALLO_MAG_7088_2019.pdf to RES_FALLO_MAG_7088_2019 (10).pdf\n"
          ],
          "name": "stdout"
        },
        {
          "output_type": "execute_result",
          "data": {
            "text/html": [
              "<div>\n",
              "<style scoped>\n",
              "    .dataframe tbody tr th:only-of-type {\n",
              "        vertical-align: middle;\n",
              "    }\n",
              "\n",
              "    .dataframe tbody tr th {\n",
              "        vertical-align: top;\n",
              "    }\n",
              "\n",
              "    .dataframe thead th {\n",
              "        text-align: right;\n",
              "    }\n",
              "</style>\n",
              "<table border=\"1\" class=\"dataframe\">\n",
              "  <thead>\n",
              "    <tr style=\"text-align: right;\">\n",
              "      <th></th>\n",
              "      <th>INDICE</th>\n",
              "      <th>SEXO</th>\n",
              "      <th>ESTADO</th>\n",
              "      <th>PUNTAJE</th>\n",
              "      <th>INSTITUCION DE DESTINO</th>\n",
              "      <th>PERIODO</th>\n",
              "    </tr>\n",
              "  </thead>\n",
              "  <tbody>\n",
              "    <tr>\n",
              "      <th>0</th>\n",
              "      <td>0</td>\n",
              "      <td>FEMENINO</td>\n",
              "      <td>FUERA DE BASES</td>\n",
              "      <td>NaN</td>\n",
              "      <td>UNIVERSIDAD DE BARCELONA</td>\n",
              "      <td>2019</td>\n",
              "    </tr>\n",
              "    <tr>\n",
              "      <th>1</th>\n",
              "      <td>1</td>\n",
              "      <td>FEMENINO</td>\n",
              "      <td>FUERA DE BASES</td>\n",
              "      <td>NaN</td>\n",
              "      <td>NEW YORK UNIVERSITY</td>\n",
              "      <td>2019</td>\n",
              "    </tr>\n",
              "    <tr>\n",
              "      <th>2</th>\n",
              "      <td>2</td>\n",
              "      <td>MASCULINO</td>\n",
              "      <td>FUERA DE BASES</td>\n",
              "      <td>NaN</td>\n",
              "      <td>KU LEUVEN (KATHOLIEKE UNIVERSITEIT LEUVEN)</td>\n",
              "      <td>2019</td>\n",
              "    </tr>\n",
              "    <tr>\n",
              "      <th>3</th>\n",
              "      <td>3</td>\n",
              "      <td>FEMENINO</td>\n",
              "      <td>FUERA DE BASES</td>\n",
              "      <td>NaN</td>\n",
              "      <td>CAMPUS DOCENT SANT JOAN DE DEU ADSCRITO A LA U...</td>\n",
              "      <td>2019</td>\n",
              "    </tr>\n",
              "    <tr>\n",
              "      <th>4</th>\n",
              "      <td>4</td>\n",
              "      <td>MASCULINO</td>\n",
              "      <td>FUERA DE BASES</td>\n",
              "      <td>NaN</td>\n",
              "      <td>KINGS COLLEGE LONDON</td>\n",
              "      <td>2019</td>\n",
              "    </tr>\n",
              "    <tr>\n",
              "      <th>...</th>\n",
              "      <td>...</td>\n",
              "      <td>...</td>\n",
              "      <td>...</td>\n",
              "      <td>...</td>\n",
              "      <td>...</td>\n",
              "      <td>...</td>\n",
              "    </tr>\n",
              "    <tr>\n",
              "      <th>1270</th>\n",
              "      <td>1270</td>\n",
              "      <td>FEMENINO</td>\n",
              "      <td>SELECCIONADA</td>\n",
              "      <td>4,620</td>\n",
              "      <td>UNIVERSITY OF CHICAGO</td>\n",
              "      <td>2019</td>\n",
              "    </tr>\n",
              "    <tr>\n",
              "      <th>1271</th>\n",
              "      <td>1271</td>\n",
              "      <td>FEMENINO</td>\n",
              "      <td>SELECCIONADA</td>\n",
              "      <td>4,620</td>\n",
              "      <td>NEW YORK UNIVERSITY</td>\n",
              "      <td>2019</td>\n",
              "    </tr>\n",
              "    <tr>\n",
              "      <th>1272</th>\n",
              "      <td>1272</td>\n",
              "      <td>FEMENINO</td>\n",
              "      <td>SELECCIONADA</td>\n",
              "      <td>4,619</td>\n",
              "      <td>MCGILL UNIVERSITY</td>\n",
              "      <td>2019</td>\n",
              "    </tr>\n",
              "    <tr>\n",
              "      <th>1273</th>\n",
              "      <td>1273</td>\n",
              "      <td>MASCULINO</td>\n",
              "      <td>SELECCIONADA</td>\n",
              "      <td>4,619</td>\n",
              "      <td>UNIVERSITY OF QUEENSLAND</td>\n",
              "      <td>2019</td>\n",
              "    </tr>\n",
              "    <tr>\n",
              "      <th>1274</th>\n",
              "      <td>1274</td>\n",
              "      <td>MASCULINO</td>\n",
              "      <td>SELECCIONADA</td>\n",
              "      <td>4,619</td>\n",
              "      <td>NEW YORK UNIVERSITY</td>\n",
              "      <td>2019</td>\n",
              "    </tr>\n",
              "  </tbody>\n",
              "</table>\n",
              "<p>1275 rows × 6 columns</p>\n",
              "</div>"
            ],
            "text/plain": [
              "      INDICE  ... PERIODO\n",
              "0          0  ...    2019\n",
              "1          1  ...    2019\n",
              "2          2  ...    2019\n",
              "3          3  ...    2019\n",
              "4          4  ...    2019\n",
              "...      ...  ...     ...\n",
              "1270    1270  ...    2019\n",
              "1271    1271  ...    2019\n",
              "1272    1272  ...    2019\n",
              "1273    1273  ...    2019\n",
              "1274    1274  ...    2019\n",
              "\n",
              "[1275 rows x 6 columns]"
            ]
          },
          "metadata": {
            "tags": []
          },
          "execution_count": 135
        }
      ]
    },
    {
      "cell_type": "code",
      "metadata": {
        "id": "DHqzlnwULgiC",
        "colab_type": "code",
        "colab": {}
      },
      "source": [
        "def extraccion_informacion_2019():\n",
        "    \n",
        "    from google.colab import files\n",
        "    uploaded = files.upload()  \n",
        "\n",
        "    tables_1 = camelot.read_pdf('RES_FALLO_MAG_7088_2019.pdf', pages='1-33')\n",
        "    tables_1.export('puntajes_mg_1.csv', f='csv', compress=True)\n",
        "\n",
        "\n",
        "    conteo = 0\n",
        "    lista_dataframes = []\n",
        "    for x in tables_1:\n",
        "        conteo = conteo +1 \n",
        "        x.to_csv('pagina 20191 {}.csv'.format(conteo)) \n",
        "        lista_dataframes.append('pagina 20191 {}.csv'.format(conteo))\n",
        "    df1 = pd.DataFrame()\n",
        "    for file in lista_dataframes:\n",
        "         df1 = pd.concat([df1, pd.read_csv(file)], ignore_index=True)\n",
        "\n",
        "    df1 = df1[['FOLIO','INSTITUCION DE DESTINO']]\n",
        "\n",
        "    tables_2 = camelot.read_pdf('RES_FALLO_MAG_7088_2019.pdf', pages='34-61')\n",
        "    tables_2.export('puntajes_mg_2.csv', f='csv', compress=True)\n",
        "\n",
        "\n",
        "    conteo = 0\n",
        "    lista_dataframes = []\n",
        "    for x in tables_2:\n",
        "        conteo = conteo +1 \n",
        "        x.to_csv('pagina 20192 {}.csv'.format(conteo)) \n",
        "        lista_dataframes.append('pagina 20192 {}.csv'.format(conteo))\n",
        "    df2 = pd.DataFrame()\n",
        "    for file in lista_dataframes:\n",
        "         df2 = pd.concat([df2, pd.read_csv(file)], ignore_index=True)\n",
        "\n",
        "    df = pd.merge(df2, df1, how='left', on=['FOLIO'])\n",
        "   \n",
        "    df.drop('Unnamed: 0', inplace = True, axis = 1)\n",
        "    df.drop('Unnamed: 1', inplace = True, axis = 1)\n",
        "    df.drop('FOLIO', inplace = True, axis = 1)\n",
        "    df.drop('NOMBRE', inplace = True, axis = 1)\n",
        "    df.drop('#', inplace = True, axis = 1)\n",
        "    df.drop('INSTITUCION DE DESTINO_x', inplace = True, axis = 1)\n",
        "    df = df.reset_index()\n",
        "    df.rename(columns = {'index':'INDICE'}, inplace = True)\n",
        "    df.rename(columns = {'INSTITUCION DE DESTINO_y':'INSTITUCION DE DESTINO'}, inplace = True)\n",
        "    df['PERIODO'] = 2019\n",
        "\n",
        "    return df"
      ],
      "execution_count": 134,
      "outputs": []
    },
    {
      "cell_type": "code",
      "metadata": {
        "id": "o10d7vWx5t4o",
        "colab_type": "code",
        "colab": {}
      },
      "source": [
        "def extraccion_informacion_2018():\n",
        "\n",
        "    from google.colab import files\n",
        "    uploaded = files.upload()  \n",
        "\n",
        "    tables = camelot.read_pdf('REX-7050-2018.pdf', pages='36-65')\n",
        "    tables.export('puntajes_mg_2018.csv', f='csv', compress=True)\n",
        "    conteo = 0\n",
        "    lista_dataframes = []\n",
        "    for x in tables:\n",
        "        conteo = conteo +1 \n",
        "        x.to_csv('pagina 2018 {}.csv'.format(conteo)) \n",
        "        lista_dataframes.append('pagina 2018 {}.csv'.format(conteo))\n",
        "    df = pd.DataFrame()\n",
        "    for file in lista_dataframes:\n",
        "        df = pd.concat([df, pd.read_csv(file)], ignore_index=True)\n",
        "\n",
        "    dff = df.fillna('')\n",
        "    dff['FOLIO'] = dff['FOLIO'].astype(str)\n",
        "    dff['llave'] = dff[['FOLIO', 'SEXO', 'NOMBRE']].agg(' '.join, axis=1)\n",
        "    dff = dff['llave'].str.split(' ', expand=True)\n",
        "    dff = dff.iloc[:,1:3]\n",
        "\n",
        "    valores = 0\n",
        "    for x in dff[1]:\n",
        "        if (x != 'FEMENINO') and (x != 'MASCULINO'):\n",
        "          dff.iloc[valores,0] = dff.iloc[valores,1]\n",
        "        valores =  valores +1\n",
        "        \n",
        "    dff = dff[1]\n",
        "    df = pd.concat([df, dff], axis=1, sort=False)\n",
        "    df['ESTADO'] = df['ESTADO'].fillna('FUERA DE BASES')\n",
        "    df.drop('Unnamed: 0', inplace = True, axis = 1)\n",
        "    df.drop('Unnamed: 1', inplace = True, axis = 1)\n",
        "    df.drop('#', inplace = True, axis = 1)\n",
        "    df.drop('FOLIO', inplace = True, axis = 1)\n",
        "    df.drop('SEXO', inplace = True, axis = 1)\n",
        "    df.drop('NOMBRE', inplace = True, axis = 1)\n",
        "    df.rename(columns = {1:'SEXO'}, inplace = True)\n",
        "    df = df.reset_index()\n",
        "    df.rename(columns = {'index':'INDICE'}, inplace = True)\n",
        "    df['PERIODO'] = 2018\n",
        "      \n",
        "    return df"
      ],
      "execution_count": 7,
      "outputs": []
    },
    {
      "cell_type": "code",
      "metadata": {
        "id": "QQ9_nb2JFOLZ",
        "colab_type": "code",
        "colab": {}
      },
      "source": [
        "def extraccion_informacion_2017():\n",
        "\n",
        "    from google.colab import files\n",
        "    uploaded = files.upload()  \n",
        "\n",
        "    tables = camelot.read_pdf('REX-6100_2017.pdf', pages='8-12')\n",
        "    tables.export('puntajes_mg.csv', f='csv', compress=True)\n",
        "\n",
        "    conteo = 0\n",
        "    lista_dataframes = []\n",
        "    for x in tables:\n",
        "        conteo = conteo +1 \n",
        "        x.to_csv('pagina 2017 {}.csv'.format(conteo)) \n",
        "        lista_dataframes.append('pagina 2017 {}.csv'.format(conteo))\n",
        "    df = pd.DataFrame()\n",
        "    for file in lista_dataframes:\n",
        "         df = pd.concat([df, pd.read_csv(file)], ignore_index=True)\n",
        "\n",
        "    df.drop('Unnamed: 0', inplace = True, axis = 1)\n",
        "    df.drop('Unnamed: 1', inplace = True, axis = 1)\n",
        "    df.drop('FOLIO', inplace = True, axis = 1)\n",
        "    df.drop('NOMBRE', inplace = True, axis = 1)\n",
        "    df.drop('#', inplace = True, axis = 1)\n",
        "    df = df.reset_index()\n",
        "    df.rename(columns = {'index':'INDICE'}, inplace = True)\n",
        "    df['SEXO'] = df['SEXO'].str.split(' ', expand=True)[0]\n",
        "    df['PERIODO'] = 2017\n",
        "\n",
        "    return df"
      ],
      "execution_count": 8,
      "outputs": []
    },
    {
      "cell_type": "code",
      "metadata": {
        "id": "hsv4-SZRm8b_",
        "colab_type": "code",
        "colab": {}
      },
      "source": [
        "df_2019 = df"
      ],
      "execution_count": 138,
      "outputs": []
    },
    {
      "cell_type": "code",
      "metadata": {
        "id": "z6gGxMa9FQvB",
        "colab_type": "code",
        "colab": {
          "resources": {
            "http://localhost:8080/nbextensions/google.colab/files.js": {
              "data": "Ly8gQ29weXJpZ2h0IDIwMTcgR29vZ2xlIExMQwovLwovLyBMaWNlbnNlZCB1bmRlciB0aGUgQXBhY2hlIExpY2Vuc2UsIFZlcnNpb24gMi4wICh0aGUgIkxpY2Vuc2UiKTsKLy8geW91IG1heSBub3QgdXNlIHRoaXMgZmlsZSBleGNlcHQgaW4gY29tcGxpYW5jZSB3aXRoIHRoZSBMaWNlbnNlLgovLyBZb3UgbWF5IG9idGFpbiBhIGNvcHkgb2YgdGhlIExpY2Vuc2UgYXQKLy8KLy8gICAgICBodHRwOi8vd3d3LmFwYWNoZS5vcmcvbGljZW5zZXMvTElDRU5TRS0yLjAKLy8KLy8gVW5sZXNzIHJlcXVpcmVkIGJ5IGFwcGxpY2FibGUgbGF3IG9yIGFncmVlZCB0byBpbiB3cml0aW5nLCBzb2Z0d2FyZQovLyBkaXN0cmlidXRlZCB1bmRlciB0aGUgTGljZW5zZSBpcyBkaXN0cmlidXRlZCBvbiBhbiAiQVMgSVMiIEJBU0lTLAovLyBXSVRIT1VUIFdBUlJBTlRJRVMgT1IgQ09ORElUSU9OUyBPRiBBTlkgS0lORCwgZWl0aGVyIGV4cHJlc3Mgb3IgaW1wbGllZC4KLy8gU2VlIHRoZSBMaWNlbnNlIGZvciB0aGUgc3BlY2lmaWMgbGFuZ3VhZ2UgZ292ZXJuaW5nIHBlcm1pc3Npb25zIGFuZAovLyBsaW1pdGF0aW9ucyB1bmRlciB0aGUgTGljZW5zZS4KCi8qKgogKiBAZmlsZW92ZXJ2aWV3IEhlbHBlcnMgZm9yIGdvb2dsZS5jb2xhYiBQeXRob24gbW9kdWxlLgogKi8KKGZ1bmN0aW9uKHNjb3BlKSB7CmZ1bmN0aW9uIHNwYW4odGV4dCwgc3R5bGVBdHRyaWJ1dGVzID0ge30pIHsKICBjb25zdCBlbGVtZW50ID0gZG9jdW1lbnQuY3JlYXRlRWxlbWVudCgnc3BhbicpOwogIGVsZW1lbnQudGV4dENvbnRlbnQgPSB0ZXh0OwogIGZvciAoY29uc3Qga2V5IG9mIE9iamVjdC5rZXlzKHN0eWxlQXR0cmlidXRlcykpIHsKICAgIGVsZW1lbnQuc3R5bGVba2V5XSA9IHN0eWxlQXR0cmlidXRlc1trZXldOwogIH0KICByZXR1cm4gZWxlbWVudDsKfQoKLy8gTWF4IG51bWJlciBvZiBieXRlcyB3aGljaCB3aWxsIGJlIHVwbG9hZGVkIGF0IGEgdGltZS4KY29uc3QgTUFYX1BBWUxPQURfU0laRSA9IDEwMCAqIDEwMjQ7CgpmdW5jdGlvbiBfdXBsb2FkRmlsZXMoaW5wdXRJZCwgb3V0cHV0SWQpIHsKICBjb25zdCBzdGVwcyA9IHVwbG9hZEZpbGVzU3RlcChpbnB1dElkLCBvdXRwdXRJZCk7CiAgY29uc3Qgb3V0cHV0RWxlbWVudCA9IGRvY3VtZW50LmdldEVsZW1lbnRCeUlkKG91dHB1dElkKTsKICAvLyBDYWNoZSBzdGVwcyBvbiB0aGUgb3V0cHV0RWxlbWVudCB0byBtYWtlIGl0IGF2YWlsYWJsZSBmb3IgdGhlIG5leHQgY2FsbAogIC8vIHRvIHVwbG9hZEZpbGVzQ29udGludWUgZnJvbSBQeXRob24uCiAgb3V0cHV0RWxlbWVudC5zdGVwcyA9IHN0ZXBzOwoKICByZXR1cm4gX3VwbG9hZEZpbGVzQ29udGludWUob3V0cHV0SWQpOwp9CgovLyBUaGlzIGlzIHJvdWdobHkgYW4gYXN5bmMgZ2VuZXJhdG9yIChub3Qgc3VwcG9ydGVkIGluIHRoZSBicm93c2VyIHlldCksCi8vIHdoZXJlIHRoZXJlIGFyZSBtdWx0aXBsZSBhc3luY2hyb25vdXMgc3RlcHMgYW5kIHRoZSBQeXRob24gc2lkZSBpcyBnb2luZwovLyB0byBwb2xsIGZvciBjb21wbGV0aW9uIG9mIGVhY2ggc3RlcC4KLy8gVGhpcyB1c2VzIGEgUHJvbWlzZSB0byBibG9jayB0aGUgcHl0aG9uIHNpZGUgb24gY29tcGxldGlvbiBvZiBlYWNoIHN0ZXAsCi8vIHRoZW4gcGFzc2VzIHRoZSByZXN1bHQgb2YgdGhlIHByZXZpb3VzIHN0ZXAgYXMgdGhlIGlucHV0IHRvIHRoZSBuZXh0IHN0ZXAuCmZ1bmN0aW9uIF91cGxvYWRGaWxlc0NvbnRpbnVlKG91dHB1dElkKSB7CiAgY29uc3Qgb3V0cHV0RWxlbWVudCA9IGRvY3VtZW50LmdldEVsZW1lbnRCeUlkKG91dHB1dElkKTsKICBjb25zdCBzdGVwcyA9IG91dHB1dEVsZW1lbnQuc3RlcHM7CgogIGNvbnN0IG5leHQgPSBzdGVwcy5uZXh0KG91dHB1dEVsZW1lbnQubGFzdFByb21pc2VWYWx1ZSk7CiAgcmV0dXJuIFByb21pc2UucmVzb2x2ZShuZXh0LnZhbHVlLnByb21pc2UpLnRoZW4oKHZhbHVlKSA9PiB7CiAgICAvLyBDYWNoZSB0aGUgbGFzdCBwcm9taXNlIHZhbHVlIHRvIG1ha2UgaXQgYXZhaWxhYmxlIHRvIHRoZSBuZXh0CiAgICAvLyBzdGVwIG9mIHRoZSBnZW5lcmF0b3IuCiAgICBvdXRwdXRFbGVtZW50Lmxhc3RQcm9taXNlVmFsdWUgPSB2YWx1ZTsKICAgIHJldHVybiBuZXh0LnZhbHVlLnJlc3BvbnNlOwogIH0pOwp9CgovKioKICogR2VuZXJhdG9yIGZ1bmN0aW9uIHdoaWNoIGlzIGNhbGxlZCBiZXR3ZWVuIGVhY2ggYXN5bmMgc3RlcCBvZiB0aGUgdXBsb2FkCiAqIHByb2Nlc3MuCiAqIEBwYXJhbSB7c3RyaW5nfSBpbnB1dElkIEVsZW1lbnQgSUQgb2YgdGhlIGlucHV0IGZpbGUgcGlja2VyIGVsZW1lbnQuCiAqIEBwYXJhbSB7c3RyaW5nfSBvdXRwdXRJZCBFbGVtZW50IElEIG9mIHRoZSBvdXRwdXQgZGlzcGxheS4KICogQHJldHVybiB7IUl0ZXJhYmxlPCFPYmplY3Q+fSBJdGVyYWJsZSBvZiBuZXh0IHN0ZXBzLgogKi8KZnVuY3Rpb24qIHVwbG9hZEZpbGVzU3RlcChpbnB1dElkLCBvdXRwdXRJZCkgewogIGNvbnN0IGlucHV0RWxlbWVudCA9IGRvY3VtZW50LmdldEVsZW1lbnRCeUlkKGlucHV0SWQpOwogIGlucHV0RWxlbWVudC5kaXNhYmxlZCA9IGZhbHNlOwoKICBjb25zdCBvdXRwdXRFbGVtZW50ID0gZG9jdW1lbnQuZ2V0RWxlbWVudEJ5SWQob3V0cHV0SWQpOwogIG91dHB1dEVsZW1lbnQuaW5uZXJIVE1MID0gJyc7CgogIGNvbnN0IHBpY2tlZFByb21pc2UgPSBuZXcgUHJvbWlzZSgocmVzb2x2ZSkgPT4gewogICAgaW5wdXRFbGVtZW50LmFkZEV2ZW50TGlzdGVuZXIoJ2NoYW5nZScsIChlKSA9PiB7CiAgICAgIHJlc29sdmUoZS50YXJnZXQuZmlsZXMpOwogICAgfSk7CiAgfSk7CgogIGNvbnN0IGNhbmNlbCA9IGRvY3VtZW50LmNyZWF0ZUVsZW1lbnQoJ2J1dHRvbicpOwogIGlucHV0RWxlbWVudC5wYXJlbnRFbGVtZW50LmFwcGVuZENoaWxkKGNhbmNlbCk7CiAgY2FuY2VsLnRleHRDb250ZW50ID0gJ0NhbmNlbCB1cGxvYWQnOwogIGNvbnN0IGNhbmNlbFByb21pc2UgPSBuZXcgUHJvbWlzZSgocmVzb2x2ZSkgPT4gewogICAgY2FuY2VsLm9uY2xpY2sgPSAoKSA9PiB7CiAgICAgIHJlc29sdmUobnVsbCk7CiAgICB9OwogIH0pOwoKICAvLyBXYWl0IGZvciB0aGUgdXNlciB0byBwaWNrIHRoZSBmaWxlcy4KICBjb25zdCBmaWxlcyA9IHlpZWxkIHsKICAgIHByb21pc2U6IFByb21pc2UucmFjZShbcGlja2VkUHJvbWlzZSwgY2FuY2VsUHJvbWlzZV0pLAogICAgcmVzcG9uc2U6IHsKICAgICAgYWN0aW9uOiAnc3RhcnRpbmcnLAogICAgfQogIH07CgogIGNhbmNlbC5yZW1vdmUoKTsKCiAgLy8gRGlzYWJsZSB0aGUgaW5wdXQgZWxlbWVudCBzaW5jZSBmdXJ0aGVyIHBpY2tzIGFyZSBub3QgYWxsb3dlZC4KICBpbnB1dEVsZW1lbnQuZGlzYWJsZWQgPSB0cnVlOwoKICBpZiAoIWZpbGVzKSB7CiAgICByZXR1cm4gewogICAgICByZXNwb25zZTogewogICAgICAgIGFjdGlvbjogJ2NvbXBsZXRlJywKICAgICAgfQogICAgfTsKICB9CgogIGZvciAoY29uc3QgZmlsZSBvZiBmaWxlcykgewogICAgY29uc3QgbGkgPSBkb2N1bWVudC5jcmVhdGVFbGVtZW50KCdsaScpOwogICAgbGkuYXBwZW5kKHNwYW4oZmlsZS5uYW1lLCB7Zm9udFdlaWdodDogJ2JvbGQnfSkpOwogICAgbGkuYXBwZW5kKHNwYW4oCiAgICAgICAgYCgke2ZpbGUudHlwZSB8fCAnbi9hJ30pIC0gJHtmaWxlLnNpemV9IGJ5dGVzLCBgICsKICAgICAgICBgbGFzdCBtb2RpZmllZDogJHsKICAgICAgICAgICAgZmlsZS5sYXN0TW9kaWZpZWREYXRlID8gZmlsZS5sYXN0TW9kaWZpZWREYXRlLnRvTG9jYWxlRGF0ZVN0cmluZygpIDoKICAgICAgICAgICAgICAgICAgICAgICAgICAgICAgICAgICAgJ24vYSd9IC0gYCkpOwogICAgY29uc3QgcGVyY2VudCA9IHNwYW4oJzAlIGRvbmUnKTsKICAgIGxpLmFwcGVuZENoaWxkKHBlcmNlbnQpOwoKICAgIG91dHB1dEVsZW1lbnQuYXBwZW5kQ2hpbGQobGkpOwoKICAgIGNvbnN0IGZpbGVEYXRhUHJvbWlzZSA9IG5ldyBQcm9taXNlKChyZXNvbHZlKSA9PiB7CiAgICAgIGNvbnN0IHJlYWRlciA9IG5ldyBGaWxlUmVhZGVyKCk7CiAgICAgIHJlYWRlci5vbmxvYWQgPSAoZSkgPT4gewogICAgICAgIHJlc29sdmUoZS50YXJnZXQucmVzdWx0KTsKICAgICAgfTsKICAgICAgcmVhZGVyLnJlYWRBc0FycmF5QnVmZmVyKGZpbGUpOwogICAgfSk7CiAgICAvLyBXYWl0IGZvciB0aGUgZGF0YSB0byBiZSByZWFkeS4KICAgIGxldCBmaWxlRGF0YSA9IHlpZWxkIHsKICAgICAgcHJvbWlzZTogZmlsZURhdGFQcm9taXNlLAogICAgICByZXNwb25zZTogewogICAgICAgIGFjdGlvbjogJ2NvbnRpbnVlJywKICAgICAgfQogICAgfTsKCiAgICAvLyBVc2UgYSBjaHVua2VkIHNlbmRpbmcgdG8gYXZvaWQgbWVzc2FnZSBzaXplIGxpbWl0cy4gU2VlIGIvNjIxMTU2NjAuCiAgICBsZXQgcG9zaXRpb24gPSAwOwogICAgd2hpbGUgKHBvc2l0aW9uIDwgZmlsZURhdGEuYnl0ZUxlbmd0aCkgewogICAgICBjb25zdCBsZW5ndGggPSBNYXRoLm1pbihmaWxlRGF0YS5ieXRlTGVuZ3RoIC0gcG9zaXRpb24sIE1BWF9QQVlMT0FEX1NJWkUpOwogICAgICBjb25zdCBjaHVuayA9IG5ldyBVaW50OEFycmF5KGZpbGVEYXRhLCBwb3NpdGlvbiwgbGVuZ3RoKTsKICAgICAgcG9zaXRpb24gKz0gbGVuZ3RoOwoKICAgICAgY29uc3QgYmFzZTY0ID0gYnRvYShTdHJpbmcuZnJvbUNoYXJDb2RlLmFwcGx5KG51bGwsIGNodW5rKSk7CiAgICAgIHlpZWxkIHsKICAgICAgICByZXNwb25zZTogewogICAgICAgICAgYWN0aW9uOiAnYXBwZW5kJywKICAgICAgICAgIGZpbGU6IGZpbGUubmFtZSwKICAgICAgICAgIGRhdGE6IGJhc2U2NCwKICAgICAgICB9LAogICAgICB9OwogICAgICBwZXJjZW50LnRleHRDb250ZW50ID0KICAgICAgICAgIGAke01hdGgucm91bmQoKHBvc2l0aW9uIC8gZmlsZURhdGEuYnl0ZUxlbmd0aCkgKiAxMDApfSUgZG9uZWA7CiAgICB9CiAgfQoKICAvLyBBbGwgZG9uZS4KICB5aWVsZCB7CiAgICByZXNwb25zZTogewogICAgICBhY3Rpb246ICdjb21wbGV0ZScsCiAgICB9CiAgfTsKfQoKc2NvcGUuZ29vZ2xlID0gc2NvcGUuZ29vZ2xlIHx8IHt9OwpzY29wZS5nb29nbGUuY29sYWIgPSBzY29wZS5nb29nbGUuY29sYWIgfHwge307CnNjb3BlLmdvb2dsZS5jb2xhYi5fZmlsZXMgPSB7CiAgX3VwbG9hZEZpbGVzLAogIF91cGxvYWRGaWxlc0NvbnRpbnVlLAp9Owp9KShzZWxmKTsK",
              "ok": true,
              "headers": [
                [
                  "content-type",
                  "application/javascript"
                ]
              ],
              "status": 200,
              "status_text": ""
            }
          },
          "base_uri": "https://localhost:8080/",
          "height": 184
        },
        "outputId": "b2b7a4d6-c544-41ef-e71e-28e212941da2"
      },
      "source": [
        "df_2017 = extraccion_informacion_2017()\n",
        "df_2018 = extraccion_informacion_2018()\n",
        "df_2019 = extraccion_informacion_2019()"
      ],
      "execution_count": 9,
      "outputs": [
        {
          "output_type": "display_data",
          "data": {
            "text/html": [
              "\n",
              "     <input type=\"file\" id=\"files-e8ab9e9c-7920-4493-b148-66ae5135d6fd\" name=\"files[]\" multiple disabled\n",
              "        style=\"border:none\" />\n",
              "     <output id=\"result-e8ab9e9c-7920-4493-b148-66ae5135d6fd\">\n",
              "      Upload widget is only available when the cell has been executed in the\n",
              "      current browser session. Please rerun this cell to enable.\n",
              "      </output>\n",
              "      <script src=\"/nbextensions/google.colab/files.js\"></script> "
            ],
            "text/plain": [
              "<IPython.core.display.HTML object>"
            ]
          },
          "metadata": {
            "tags": []
          }
        },
        {
          "output_type": "stream",
          "text": [
            "Saving REX-6100_2017.pdf to REX-6100_2017.pdf\n"
          ],
          "name": "stdout"
        },
        {
          "output_type": "display_data",
          "data": {
            "text/html": [
              "\n",
              "     <input type=\"file\" id=\"files-8d47d4b3-8eed-4922-b2f5-dbc6af9b5447\" name=\"files[]\" multiple disabled\n",
              "        style=\"border:none\" />\n",
              "     <output id=\"result-8d47d4b3-8eed-4922-b2f5-dbc6af9b5447\">\n",
              "      Upload widget is only available when the cell has been executed in the\n",
              "      current browser session. Please rerun this cell to enable.\n",
              "      </output>\n",
              "      <script src=\"/nbextensions/google.colab/files.js\"></script> "
            ],
            "text/plain": [
              "<IPython.core.display.HTML object>"
            ]
          },
          "metadata": {
            "tags": []
          }
        },
        {
          "output_type": "stream",
          "text": [
            "Saving REX-7050-2018.pdf to REX-7050-2018.pdf\n"
          ],
          "name": "stdout"
        },
        {
          "output_type": "display_data",
          "data": {
            "text/html": [
              "\n",
              "     <input type=\"file\" id=\"files-aacb1f3f-6d1e-4ffb-9a62-17ace9ebf892\" name=\"files[]\" multiple disabled\n",
              "        style=\"border:none\" />\n",
              "     <output id=\"result-aacb1f3f-6d1e-4ffb-9a62-17ace9ebf892\">\n",
              "      Upload widget is only available when the cell has been executed in the\n",
              "      current browser session. Please rerun this cell to enable.\n",
              "      </output>\n",
              "      <script src=\"/nbextensions/google.colab/files.js\"></script> "
            ],
            "text/plain": [
              "<IPython.core.display.HTML object>"
            ]
          },
          "metadata": {
            "tags": []
          }
        },
        {
          "output_type": "stream",
          "text": [
            "Saving RES_FALLO_MAG_7088_2019.pdf to RES_FALLO_MAG_7088_2019 (1).pdf\n"
          ],
          "name": "stdout"
        }
      ]
    },
    {
      "cell_type": "code",
      "metadata": {
        "id": "ac4HjOGxBEVQ",
        "colab_type": "code",
        "colab": {}
      },
      "source": [
        "\n",
        "df_2017 = df_2017[['INDICE', 'SEXO', 'INSTITUCIÓN DE DESTINO', 'ESTADO', 'PUNTAJE', 'PERIODO']]\n",
        "df_2018 = df_2018[['INDICE', 'SEXO', 'INSTITUCIÓN DE DESTINO', 'ESTADO', 'PUNTAJE', 'PERIODO']]\n",
        "df_2019.rename(columns = {'INSTITUCION DE DESTINO':'INSTITUCIÓN DE DESTINO'}, inplace = True)\n",
        "df_2019 = df_2019[['INDICE', 'SEXO', 'INSTITUCIÓN DE DESTINO', 'ESTADO', 'PUNTAJE', 'PERIODO']]\n",
        "frames = [df_2017, df_2018, df_2019]\n",
        "df = pd.concat(frames)"
      ],
      "execution_count": 140,
      "outputs": []
    },
    {
      "cell_type": "code",
      "metadata": {
        "id": "gxxFKvHoMbgG",
        "colab_type": "code",
        "colab": {}
      },
      "source": [
        "df = df.reset_index()\n",
        "df.drop('INDICE', inplace = True, axis = 1)\n",
        "df.rename(columns = {'index':'INDICE'}, inplace = True)"
      ],
      "execution_count": 141,
      "outputs": []
    },
    {
      "cell_type": "code",
      "metadata": {
        "id": "y7K21iyvPJuh",
        "colab_type": "code",
        "colab": {
          "base_uri": "https://localhost:8080/",
          "height": 195
        },
        "outputId": "d0e24368-adaf-4e9a-f0cd-76e10a85f606"
      },
      "source": [
        "df.head()"
      ],
      "execution_count": 142,
      "outputs": [
        {
          "output_type": "execute_result",
          "data": {
            "text/html": [
              "<div>\n",
              "<style scoped>\n",
              "    .dataframe tbody tr th:only-of-type {\n",
              "        vertical-align: middle;\n",
              "    }\n",
              "\n",
              "    .dataframe tbody tr th {\n",
              "        vertical-align: top;\n",
              "    }\n",
              "\n",
              "    .dataframe thead th {\n",
              "        text-align: right;\n",
              "    }\n",
              "</style>\n",
              "<table border=\"1\" class=\"dataframe\">\n",
              "  <thead>\n",
              "    <tr style=\"text-align: right;\">\n",
              "      <th></th>\n",
              "      <th>INDICE</th>\n",
              "      <th>SEXO</th>\n",
              "      <th>INSTITUCIÓN DE DESTINO</th>\n",
              "      <th>ESTADO</th>\n",
              "      <th>PUNTAJE</th>\n",
              "      <th>PERIODO</th>\n",
              "    </tr>\n",
              "  </thead>\n",
              "  <tbody>\n",
              "    <tr>\n",
              "      <th>0</th>\n",
              "      <td>0</td>\n",
              "      <td>FEMENINO</td>\n",
              "      <td>UNIVERSIDAD AUTONOMA DE BARCELONA</td>\n",
              "      <td>FUERA DE BASES</td>\n",
              "      <td>NaN</td>\n",
              "      <td>2017</td>\n",
              "    </tr>\n",
              "    <tr>\n",
              "      <th>1</th>\n",
              "      <td>1</td>\n",
              "      <td>FEMENINO</td>\n",
              "      <td>UNIVERSITY OF AUCKLAND</td>\n",
              "      <td>FUERA DE BASES</td>\n",
              "      <td>NaN</td>\n",
              "      <td>2017</td>\n",
              "    </tr>\n",
              "    <tr>\n",
              "      <th>2</th>\n",
              "      <td>2</td>\n",
              "      <td>MASCULINO</td>\n",
              "      <td>UNIVERSIDAD AUTONOMA DE BARCELONA</td>\n",
              "      <td>FUERA DE BASES</td>\n",
              "      <td>NaN</td>\n",
              "      <td>2017</td>\n",
              "    </tr>\n",
              "    <tr>\n",
              "      <th>3</th>\n",
              "      <td>3</td>\n",
              "      <td>FEMENINO</td>\n",
              "      <td>UNIVERSITY OF BIRMINGHAM</td>\n",
              "      <td>FUERA DE BASES</td>\n",
              "      <td>NaN</td>\n",
              "      <td>2017</td>\n",
              "    </tr>\n",
              "    <tr>\n",
              "      <th>4</th>\n",
              "      <td>4</td>\n",
              "      <td>FEMENINO</td>\n",
              "      <td>UNIVERSITY COLLEGE LONDON</td>\n",
              "      <td>FUERA DE BASES</td>\n",
              "      <td>NaN</td>\n",
              "      <td>2017</td>\n",
              "    </tr>\n",
              "  </tbody>\n",
              "</table>\n",
              "</div>"
            ],
            "text/plain": [
              "   INDICE       SEXO  ... PUNTAJE PERIODO\n",
              "0       0   FEMENINO  ...     NaN    2017\n",
              "1       1   FEMENINO  ...     NaN    2017\n",
              "2       2  MASCULINO  ...     NaN    2017\n",
              "3       3   FEMENINO  ...     NaN    2017\n",
              "4       4   FEMENINO  ...     NaN    2017\n",
              "\n",
              "[5 rows x 6 columns]"
            ]
          },
          "metadata": {
            "tags": []
          },
          "execution_count": 142
        }
      ]
    },
    {
      "cell_type": "code",
      "metadata": {
        "id": "Oofd3I6mMxmD",
        "colab_type": "code",
        "colab": {}
      },
      "source": [
        "conteo= 0\n",
        "for i in df['ESTADO']: \n",
        "    if i == 'NO SELECCIONADO':\n",
        "        df.iloc[conteo,3] = 'NO SELECCIONADA'\n",
        "    elif  i == 'SELECCIONADO':\n",
        "        df.iloc[conteo,3] = 'SELECCIONADA'\n",
        "    conteo =  conteo + 1"
      ],
      "execution_count": 143,
      "outputs": []
    },
    {
      "cell_type": "code",
      "metadata": {
        "id": "cJkjjIauP-JX",
        "colab_type": "code",
        "colab": {
          "base_uri": "https://localhost:8080/",
          "height": 402
        },
        "outputId": "a08efdf7-c1a2-405f-d0ef-7247deadf3e4"
      },
      "source": [
        "df"
      ],
      "execution_count": 144,
      "outputs": [
        {
          "output_type": "execute_result",
          "data": {
            "text/html": [
              "<div>\n",
              "<style scoped>\n",
              "    .dataframe tbody tr th:only-of-type {\n",
              "        vertical-align: middle;\n",
              "    }\n",
              "\n",
              "    .dataframe tbody tr th {\n",
              "        vertical-align: top;\n",
              "    }\n",
              "\n",
              "    .dataframe thead th {\n",
              "        text-align: right;\n",
              "    }\n",
              "</style>\n",
              "<table border=\"1\" class=\"dataframe\">\n",
              "  <thead>\n",
              "    <tr style=\"text-align: right;\">\n",
              "      <th></th>\n",
              "      <th>INDICE</th>\n",
              "      <th>SEXO</th>\n",
              "      <th>INSTITUCIÓN DE DESTINO</th>\n",
              "      <th>ESTADO</th>\n",
              "      <th>PUNTAJE</th>\n",
              "      <th>PERIODO</th>\n",
              "    </tr>\n",
              "  </thead>\n",
              "  <tbody>\n",
              "    <tr>\n",
              "      <th>0</th>\n",
              "      <td>0</td>\n",
              "      <td>FEMENINO</td>\n",
              "      <td>UNIVERSIDAD AUTONOMA DE BARCELONA</td>\n",
              "      <td>FUERA DE BASES</td>\n",
              "      <td>NaN</td>\n",
              "      <td>2017</td>\n",
              "    </tr>\n",
              "    <tr>\n",
              "      <th>1</th>\n",
              "      <td>1</td>\n",
              "      <td>FEMENINO</td>\n",
              "      <td>UNIVERSITY OF AUCKLAND</td>\n",
              "      <td>FUERA DE BASES</td>\n",
              "      <td>NaN</td>\n",
              "      <td>2017</td>\n",
              "    </tr>\n",
              "    <tr>\n",
              "      <th>2</th>\n",
              "      <td>2</td>\n",
              "      <td>MASCULINO</td>\n",
              "      <td>UNIVERSIDAD AUTONOMA DE BARCELONA</td>\n",
              "      <td>FUERA DE BASES</td>\n",
              "      <td>NaN</td>\n",
              "      <td>2017</td>\n",
              "    </tr>\n",
              "    <tr>\n",
              "      <th>3</th>\n",
              "      <td>3</td>\n",
              "      <td>FEMENINO</td>\n",
              "      <td>UNIVERSITY OF BIRMINGHAM</td>\n",
              "      <td>FUERA DE BASES</td>\n",
              "      <td>NaN</td>\n",
              "      <td>2017</td>\n",
              "    </tr>\n",
              "    <tr>\n",
              "      <th>4</th>\n",
              "      <td>4</td>\n",
              "      <td>FEMENINO</td>\n",
              "      <td>UNIVERSITY COLLEGE LONDON</td>\n",
              "      <td>FUERA DE BASES</td>\n",
              "      <td>NaN</td>\n",
              "      <td>2017</td>\n",
              "    </tr>\n",
              "    <tr>\n",
              "      <th>...</th>\n",
              "      <td>...</td>\n",
              "      <td>...</td>\n",
              "      <td>...</td>\n",
              "      <td>...</td>\n",
              "      <td>...</td>\n",
              "      <td>...</td>\n",
              "    </tr>\n",
              "    <tr>\n",
              "      <th>2913</th>\n",
              "      <td>1270</td>\n",
              "      <td>FEMENINO</td>\n",
              "      <td>UNIVERSITY OF CHICAGO</td>\n",
              "      <td>SELECCIONADA</td>\n",
              "      <td>4,620</td>\n",
              "      <td>2019</td>\n",
              "    </tr>\n",
              "    <tr>\n",
              "      <th>2914</th>\n",
              "      <td>1271</td>\n",
              "      <td>FEMENINO</td>\n",
              "      <td>NEW YORK UNIVERSITY</td>\n",
              "      <td>SELECCIONADA</td>\n",
              "      <td>4,620</td>\n",
              "      <td>2019</td>\n",
              "    </tr>\n",
              "    <tr>\n",
              "      <th>2915</th>\n",
              "      <td>1272</td>\n",
              "      <td>FEMENINO</td>\n",
              "      <td>MCGILL UNIVERSITY</td>\n",
              "      <td>SELECCIONADA</td>\n",
              "      <td>4,619</td>\n",
              "      <td>2019</td>\n",
              "    </tr>\n",
              "    <tr>\n",
              "      <th>2916</th>\n",
              "      <td>1273</td>\n",
              "      <td>MASCULINO</td>\n",
              "      <td>UNIVERSITY OF QUEENSLAND</td>\n",
              "      <td>SELECCIONADA</td>\n",
              "      <td>4,619</td>\n",
              "      <td>2019</td>\n",
              "    </tr>\n",
              "    <tr>\n",
              "      <th>2917</th>\n",
              "      <td>1274</td>\n",
              "      <td>MASCULINO</td>\n",
              "      <td>NEW YORK UNIVERSITY</td>\n",
              "      <td>SELECCIONADA</td>\n",
              "      <td>4,619</td>\n",
              "      <td>2019</td>\n",
              "    </tr>\n",
              "  </tbody>\n",
              "</table>\n",
              "<p>2918 rows × 6 columns</p>\n",
              "</div>"
            ],
            "text/plain": [
              "      INDICE       SEXO  ... PUNTAJE PERIODO\n",
              "0          0   FEMENINO  ...     NaN    2017\n",
              "1          1   FEMENINO  ...     NaN    2017\n",
              "2          2  MASCULINO  ...     NaN    2017\n",
              "3          3   FEMENINO  ...     NaN    2017\n",
              "4          4   FEMENINO  ...     NaN    2017\n",
              "...      ...        ...  ...     ...     ...\n",
              "2913    1270   FEMENINO  ...   4,620    2019\n",
              "2914    1271   FEMENINO  ...   4,620    2019\n",
              "2915    1272   FEMENINO  ...   4,619    2019\n",
              "2916    1273  MASCULINO  ...   4,619    2019\n",
              "2917    1274  MASCULINO  ...   4,619    2019\n",
              "\n",
              "[2918 rows x 6 columns]"
            ]
          },
          "metadata": {
            "tags": []
          },
          "execution_count": 144
        }
      ]
    },
    {
      "cell_type": "markdown",
      "metadata": {
        "id": "PXWiddLJO-WV",
        "colab_type": "text"
      },
      "source": [
        "# ***Analisis y Exploracion de los datos***\n",
        "\n"
      ]
    },
    {
      "cell_type": "code",
      "metadata": {
        "id": "DpwiyvWIPE-L",
        "colab_type": "code",
        "colab": {
          "base_uri": "https://localhost:8080/",
          "height": 195
        },
        "outputId": "39abeb27-dc31-4d8f-f165-c32124663dd7"
      },
      "source": [
        "df_datos = df\n",
        "df_datos.head()"
      ],
      "execution_count": 145,
      "outputs": [
        {
          "output_type": "execute_result",
          "data": {
            "text/html": [
              "<div>\n",
              "<style scoped>\n",
              "    .dataframe tbody tr th:only-of-type {\n",
              "        vertical-align: middle;\n",
              "    }\n",
              "\n",
              "    .dataframe tbody tr th {\n",
              "        vertical-align: top;\n",
              "    }\n",
              "\n",
              "    .dataframe thead th {\n",
              "        text-align: right;\n",
              "    }\n",
              "</style>\n",
              "<table border=\"1\" class=\"dataframe\">\n",
              "  <thead>\n",
              "    <tr style=\"text-align: right;\">\n",
              "      <th></th>\n",
              "      <th>INDICE</th>\n",
              "      <th>SEXO</th>\n",
              "      <th>INSTITUCIÓN DE DESTINO</th>\n",
              "      <th>ESTADO</th>\n",
              "      <th>PUNTAJE</th>\n",
              "      <th>PERIODO</th>\n",
              "    </tr>\n",
              "  </thead>\n",
              "  <tbody>\n",
              "    <tr>\n",
              "      <th>0</th>\n",
              "      <td>0</td>\n",
              "      <td>FEMENINO</td>\n",
              "      <td>UNIVERSIDAD AUTONOMA DE BARCELONA</td>\n",
              "      <td>FUERA DE BASES</td>\n",
              "      <td>NaN</td>\n",
              "      <td>2017</td>\n",
              "    </tr>\n",
              "    <tr>\n",
              "      <th>1</th>\n",
              "      <td>1</td>\n",
              "      <td>FEMENINO</td>\n",
              "      <td>UNIVERSITY OF AUCKLAND</td>\n",
              "      <td>FUERA DE BASES</td>\n",
              "      <td>NaN</td>\n",
              "      <td>2017</td>\n",
              "    </tr>\n",
              "    <tr>\n",
              "      <th>2</th>\n",
              "      <td>2</td>\n",
              "      <td>MASCULINO</td>\n",
              "      <td>UNIVERSIDAD AUTONOMA DE BARCELONA</td>\n",
              "      <td>FUERA DE BASES</td>\n",
              "      <td>NaN</td>\n",
              "      <td>2017</td>\n",
              "    </tr>\n",
              "    <tr>\n",
              "      <th>3</th>\n",
              "      <td>3</td>\n",
              "      <td>FEMENINO</td>\n",
              "      <td>UNIVERSITY OF BIRMINGHAM</td>\n",
              "      <td>FUERA DE BASES</td>\n",
              "      <td>NaN</td>\n",
              "      <td>2017</td>\n",
              "    </tr>\n",
              "    <tr>\n",
              "      <th>4</th>\n",
              "      <td>4</td>\n",
              "      <td>FEMENINO</td>\n",
              "      <td>UNIVERSITY COLLEGE LONDON</td>\n",
              "      <td>FUERA DE BASES</td>\n",
              "      <td>NaN</td>\n",
              "      <td>2017</td>\n",
              "    </tr>\n",
              "  </tbody>\n",
              "</table>\n",
              "</div>"
            ],
            "text/plain": [
              "   INDICE       SEXO  ... PUNTAJE PERIODO\n",
              "0       0   FEMENINO  ...     NaN    2017\n",
              "1       1   FEMENINO  ...     NaN    2017\n",
              "2       2  MASCULINO  ...     NaN    2017\n",
              "3       3   FEMENINO  ...     NaN    2017\n",
              "4       4   FEMENINO  ...     NaN    2017\n",
              "\n",
              "[5 rows x 6 columns]"
            ]
          },
          "metadata": {
            "tags": []
          },
          "execution_count": 145
        }
      ]
    },
    {
      "cell_type": "code",
      "metadata": {
        "id": "h_ZWahWytxlo",
        "colab_type": "code",
        "colab": {
          "base_uri": "https://localhost:8080/",
          "height": 405
        },
        "outputId": "96173321-bbb5-4f48-caf6-0079c1341dd0"
      },
      "source": [
        "plt.figure(figsize=(6,6))\n",
        "sns.set_color_codes(\"muted\")\n",
        "\n",
        "sns.set_style('whitegrid')\n",
        "#g = sns.barplot(y=\"INDICE\", x=\"ESTADO\", data=df_datos.groupby('ESTADO').count()['INDICE'].reset_index(),\n",
        "#            label=\"SELECCIONADA\", color=\"b\")\n",
        "sns.countplot(x = 'PERIODO', data = df_datos, hue = 'ESTADO')\n",
        "plt.title('Cantidad de postulaciones por periodo segmentado por estado', fontsize = 14)\n",
        "plt.ylabel('Cantidad de postulantes')\n",
        "plt.legend()\n",
        "sns.despine(left=True, bottom=True)"
      ],
      "execution_count": 146,
      "outputs": [
        {
          "output_type": "display_data",
          "data": {
            "image/png": "[encoded data removed]",
            "text/plain": [
              "<Figure size 432x432 with 1 Axes>"
            ]
          },
          "metadata": {
            "tags": []
          }
        }
      ]
    },
    {
      "cell_type": "code",
      "metadata": {
        "id": "pQq-z5LN_H1a",
        "colab_type": "code",
        "colab": {
          "base_uri": "https://localhost:8080/",
          "height": 297
        },
        "outputId": "41dc103e-b6fb-45fe-ef41-274e7e47bc16"
      },
      "source": [
        "# Pie chart\n",
        "labels = list(df_datos.groupby('ESTADO').count()['INDICE'].index)\n",
        "sizes = list(df_datos.groupby('ESTADO').count()['INDICE'].values)\n",
        "#colors\n",
        "colors = ['orange','#66b3ff','lightskyblue']\n",
        "#explsion\n",
        "explode = (0.05,0.05,0.05)\n",
        " \n",
        "fig1, ax1 = plt.subplots()\n",
        "ax1.pie(sizes, explode=explode, labels=labels, colors=colors, autopct='%1.1f%%',\n",
        "        shadow=True, startangle=90)\n",
        "\n",
        "# Equal aspect ratio ensures that pie is drawn as a circle\n",
        "plt.title('Distribution de Postulacion por Estado', fontsize = 14)\n",
        "plt.tight_layout()\n",
        "plt.show()\n"
      ],
      "execution_count": 147,
      "outputs": [
        {
          "output_type": "display_data",
          "data": {
            "image/png": "[encoded data removed]",
            "text/plain": [
              "<Figure size 432x288 with 1 Axes>"
            ]
          },
          "metadata": {
            "tags": []
          }
        }
      ]
    },
    {
      "cell_type": "code",
      "metadata": {
        "id": "Rtmcum6DFHBI",
        "colab_type": "code",
        "colab": {
          "base_uri": "https://localhost:8080/",
          "height": 297
        },
        "outputId": "56f83c2a-b553-4eaa-d808-3aa9267ea2a7"
      },
      "source": [
        "# Pie chart\n",
        "labels = list(df_datos.groupby('SEXO').count()['INDICE'].index)\n",
        "sizes = list(df_datos.groupby('SEXO').count()['INDICE'].values)\n",
        "#colors\n",
        "colors = ['orange','#66b3ff']\n",
        "#explsion\n",
        "explode = (0.05,0.05)\n",
        " \n",
        "fig1, ax1 = plt.subplots()\n",
        "ax1.pie(sizes, explode=explode, labels=labels, colors=colors, autopct='%1.1f%%',\n",
        "        shadow=True, startangle=90)\n",
        "\n",
        "# Equal aspect ratio ensures that pie is drawn as a circle\n",
        "plt.title('Distribution de postulantes por sexo')\n",
        "plt.tight_layout()\n",
        "plt.show()"
      ],
      "execution_count": 148,
      "outputs": [
        {
          "output_type": "display_data",
          "data": {
            "image/png": "[encoded data removed]",
            "text/plain": [
              "<Figure size 432x288 with 1 Axes>"
            ]
          },
          "metadata": {
            "tags": []
          }
        }
      ]
    },
    {
      "cell_type": "code",
      "metadata": {
        "id": "5AntHKVSQx_H",
        "colab_type": "code",
        "colab": {
          "base_uri": "https://localhost:8080/",
          "height": 388
        },
        "outputId": "53391ee1-2cf6-493c-a474-e69547084814"
      },
      "source": [
        "plt.figure(figsize=(8,6))\n",
        "\n",
        "sns.set_style('whitegrid')\n",
        "sns.countplot(x= 'ESTADO', data = df_datos, hue = 'SEXO')\n",
        "plt.ylabel('Cantidad de persona')\n",
        "sns.despine(left=True, bottom=True)"
      ],
      "execution_count": 149,
      "outputs": [
        {
          "output_type": "display_data",
          "data": {
            "image/png": "[encoded data removed]",
            "text/plain": [
              "<Figure size 576x432 with 1 Axes>"
            ]
          },
          "metadata": {
            "tags": []
          }
        }
      ]
    },
    {
      "cell_type": "markdown",
      "metadata": {
        "id": "MwFF41pXFMtK",
        "colab_type": "text"
      },
      "source": [
        "De aqui en adelante, solo se analizara la informacion de los seleccionados y no seleccionados, por lo que se filtrara la base por este subconjunto para el posterior analisis.\n"
      ]
    },
    {
      "cell_type": "code",
      "metadata": {
        "id": "_17Kk6BvQ9zo",
        "colab_type": "code",
        "colab": {
          "base_uri": "https://localhost:8080/",
          "height": 204
        },
        "outputId": "3b722007-fe42-463f-8e31-dee919f494d0"
      },
      "source": [
        "#df_datos = df_datos.loc[df_datos['ESTADO'] != 'FUERA DE BASES']\n",
        "#df_datos.head()"
      ],
      "execution_count": null,
      "outputs": [
        {
          "output_type": "execute_result",
          "data": {
            "text/html": [
              "<div>\n",
              "<style scoped>\n",
              "    .dataframe tbody tr th:only-of-type {\n",
              "        vertical-align: middle;\n",
              "    }\n",
              "\n",
              "    .dataframe tbody tr th {\n",
              "        vertical-align: top;\n",
              "    }\n",
              "\n",
              "    .dataframe thead th {\n",
              "        text-align: right;\n",
              "    }\n",
              "</style>\n",
              "<table border=\"1\" class=\"dataframe\">\n",
              "  <thead>\n",
              "    <tr style=\"text-align: right;\">\n",
              "      <th></th>\n",
              "      <th>#</th>\n",
              "      <th>FOLIO</th>\n",
              "      <th>SEXO</th>\n",
              "      <th>NOMBRE</th>\n",
              "      <th>ESTADO</th>\n",
              "      <th>INSTITUCION DE DESTINO</th>\n",
              "      <th>PUNTAJE</th>\n",
              "    </tr>\n",
              "  </thead>\n",
              "  <tbody>\n",
              "    <tr>\n",
              "      <th>234</th>\n",
              "      <td>1.0</td>\n",
              "      <td>73200636.0</td>\n",
              "      <td>FEMENINO</td>\n",
              "      <td>DELANO BAUDET PIA ALEJANDRA</td>\n",
              "      <td>NO SELECCIONADA</td>\n",
              "      <td>BOSTON UNIVERSITY</td>\n",
              "      <td>4,618</td>\n",
              "    </tr>\n",
              "    <tr>\n",
              "      <th>235</th>\n",
              "      <td>2.0</td>\n",
              "      <td>73200185.0</td>\n",
              "      <td>FEMENINO</td>\n",
              "      <td>ANDRADE SEPULVEDA KAREEN NICOLE</td>\n",
              "      <td>NO SELECCIONADA</td>\n",
              "      <td>UNIVERSIDADE DE SAO PAULO</td>\n",
              "      <td>4,617</td>\n",
              "    </tr>\n",
              "    <tr>\n",
              "      <th>236</th>\n",
              "      <td>3.0</td>\n",
              "      <td>73200547.0</td>\n",
              "      <td>FEMENINO</td>\n",
              "      <td>PEREZ PAREDES DANIELA ALEJANDRA</td>\n",
              "      <td>NO SELECCIONADA</td>\n",
              "      <td>UNIVERSITY OF MELBOURNE</td>\n",
              "      <td>4,615</td>\n",
              "    </tr>\n",
              "    <tr>\n",
              "      <th>237</th>\n",
              "      <td>4.0</td>\n",
              "      <td>73200569.0</td>\n",
              "      <td>MASCULINO</td>\n",
              "      <td>CARMONA FONATINE PEDRO LEON</td>\n",
              "      <td>NO SELECCIONADA</td>\n",
              "      <td>UNIVERSITY OF EDINBURGH</td>\n",
              "      <td>4,614</td>\n",
              "    </tr>\n",
              "    <tr>\n",
              "      <th>238</th>\n",
              "      <td>5.0</td>\n",
              "      <td>73200040.0</td>\n",
              "      <td>FEMENINO</td>\n",
              "      <td>YAÑEZ TORRES MARIA FLORENCIA</td>\n",
              "      <td>NO SELECCIONADA</td>\n",
              "      <td>UNIVERSITY OF SYDNEY</td>\n",
              "      <td>4,614</td>\n",
              "    </tr>\n",
              "  </tbody>\n",
              "</table>\n",
              "</div>"
            ],
            "text/plain": [
              "       #       FOLIO  ...     INSTITUCION DE DESTINO PUNTAJE\n",
              "234  1.0  73200636.0  ...          BOSTON UNIVERSITY   4,618\n",
              "235  2.0  73200185.0  ...  UNIVERSIDADE DE SAO PAULO   4,617\n",
              "236  3.0  73200547.0  ...    UNIVERSITY OF MELBOURNE   4,615\n",
              "237  4.0  73200569.0  ...    UNIVERSITY OF EDINBURGH   4,614\n",
              "238  5.0  73200040.0  ...       UNIVERSITY OF SYDNEY   4,614\n",
              "\n",
              "[5 rows x 7 columns]"
            ]
          },
          "metadata": {
            "tags": []
          },
          "execution_count": 163
        }
      ]
    },
    {
      "cell_type": "code",
      "metadata": {
        "id": "h0VJkjanU3rr",
        "colab_type": "code",
        "colab": {}
      },
      "source": [
        "dummies = pd.get_dummies(df_datos['ESTADO'])\n",
        "df_datos = pd.concat([df_datos, dummies], axis=1, sort=False)\n"
      ],
      "execution_count": 150,
      "outputs": []
    },
    {
      "cell_type": "code",
      "metadata": {
        "id": "fi8nO1ZJL758",
        "colab_type": "code",
        "colab": {
          "base_uri": "https://localhost:8080/",
          "height": 185
        },
        "outputId": "ab814101-90a8-4e4a-b0c2-552f3dded5cf"
      },
      "source": [
        "df_datos.head()\n",
        "\n",
        "df_datos.isnull().sum()"
      ],
      "execution_count": 152,
      "outputs": [
        {
          "output_type": "execute_result",
          "data": {
            "text/plain": [
              "INDICE                      0\n",
              "SEXO                        0\n",
              "INSTITUCIÓN DE DESTINO      0\n",
              "ESTADO                      0\n",
              "PUNTAJE                   510\n",
              "PERIODO                     0\n",
              "FUERA DE BASES              0\n",
              "NO SELECCIONADA             0\n",
              "SELECCIONADA                0\n",
              "dtype: int64"
            ]
          },
          "metadata": {
            "tags": []
          },
          "execution_count": 152
        }
      ]
    },
    {
      "cell_type": "markdown",
      "metadata": {
        "id": "7p2phqSHG1VN",
        "colab_type": "text"
      },
      "source": [
        "# ***Revision por Universidades***\n"
      ]
    },
    {
      "cell_type": "markdown",
      "metadata": {
        "id": "71Gwa249HETy",
        "colab_type": "text"
      },
      "source": [
        "En esta seccion, se realizara un analisis por universidad de las postulaciones en Chile. Uno de los puntos importantes que quiero investigar es saber si hay universidades mas propensas a aceptar a mas postulantes que otros.  Espero poder obtener algunas resultados en esta linea de analisis\n",
        "\n",
        "\n"
      ]
    },
    {
      "cell_type": "code",
      "metadata": {
        "id": "KisWrB6CH-hn",
        "colab_type": "code",
        "colab": {}
      },
      "source": [
        "def universidades_populares(n):\n",
        "       \n",
        "       #Tabla pivot\n",
        "       pivot = df_datos.pivot_table(index=['INSTITUCIÓN DE DESTINO'], values=['NO SELECCIONADA', 'SELECCIONADA', 'FUERA DE BASES'], aggfunc='sum')\n",
        "       pivot['POSTULACIONES'] = pivot['NO SELECCIONADA'] +pivot['SELECCIONADA'] + pivot['FUERA DE BASES']\n",
        "       pivot = pivot.sort_values(by='POSTULACIONES', ascending=False)  \n",
        "       pivot['Tasa de Aceptacion'] = round(pivot['SELECCIONADA']/pivot['POSTULACIONES'],3)*100\n",
        "       pivot = pivot.reset_index()\n",
        "       \n",
        "       pivot_n = pivot[:n+1]\n",
        "\n",
        "       #Grafico\n",
        "       f, ax = plt.subplots(figsize=(10, 10))\n",
        "       sns.set_color_codes(\"pastel\")\n",
        "       \n",
        "       g = sns.barplot(y='INSTITUCIÓN DE DESTINO', x=\"POSTULACIONES\", data=pivot_n,\n",
        "            label=\"POSTULACIONES\", color=\"b\")\n",
        "       \n",
        "       sns.set_color_codes(\"muted\")\n",
        "       g = sns.barplot(y=\"INSTITUCIÓN DE DESTINO\", x=\"SELECCIONADA\", data=pivot_n,\n",
        "            label=\"SELECCIONADA\", color=\"b\")\n",
        "\n",
        "       \n",
        "       # Agregar labels\n",
        "       ax.legend(ncol=2, loc=\"lower right\", frameon=True)\n",
        "       \n",
        "       plt.title('Radiografia de los {} universidades mas solicitadas en las postulaciones de BECAS'.format(n))\n",
        "       plt.xticks(rotation=90)\n",
        "\n",
        "       sns.despine(left=True, bottom=True)  "
      ],
      "execution_count": 153,
      "outputs": []
    },
    {
      "cell_type": "code",
      "metadata": {
        "id": "oXQJFfsvItRX",
        "colab_type": "code",
        "colab": {
          "base_uri": "https://localhost:8080/",
          "height": 630
        },
        "outputId": "e722f6e2-536d-4257-d021-e73b9f8aa927"
      },
      "source": [
        "universidades_populares(25)  "
      ],
      "execution_count": 154,
      "outputs": [
        {
          "output_type": "display_data",
          "data": {
            "image/png": "[encoded data removed]",
            "text/plain": [
              "<Figure size 720x720 with 1 Axes>"
            ]
          },
          "metadata": {
            "tags": []
          }
        }
      ]
    },
    {
      "cell_type": "code",
      "metadata": {
        "id": "IROfqUw6JJP8",
        "colab_type": "code",
        "colab": {
          "base_uri": "https://localhost:8080/",
          "height": 542
        },
        "outputId": "1846dbed-757a-4f93-84b0-6f4e94c698e1"
      },
      "source": [
        "def universidades_populares(n):\n",
        "       \n",
        "       import plotly.express as px\n",
        "\n",
        "       #Tabla pivot\n",
        "       pivot = df_datos.pivot_table(index=['INSTITUCIÓN DE DESTINO'], values=['NO SELECCIONADA', 'SELECCIONADA', 'FUERA DE BASES'], aggfunc='sum')\n",
        "       pivot['POSTULACIONES'] = pivot['NO SELECCIONADA'] +pivot['SELECCIONADA'] + pivot['FUERA DE BASES']\n",
        "       pivot = pivot.sort_values(by='POSTULACIONES', ascending=False)  \n",
        "       pivot['Tasa de Aceptacion (%)'] = round(pivot['SELECCIONADA']/pivot['POSTULACIONES'],3)*100\n",
        "       pivot = pivot.reset_index()\n",
        "       \n",
        "       pivot_n = pivot[:n+1]\n",
        "       \n",
        "       #Grafico\n",
        "       df = px.data.gapminder()\n",
        "       fig = px.scatter(pivot_n, x=\"Tasa de Aceptacion (%)\", y='SELECCIONADA',\n",
        "\t         size='POSTULACIONES', color=\"INSTITUCIÓN DE DESTINO\", template = 'none', color_discrete_sequence=px.colors.qualitative.G10,\n",
        "                  size_max=70, title='Tasa de aceptacion de las {} Universidades con mayor cantidad de postulaciones'.format(n),\n",
        "                   hover_data=['INSTITUCIÓN DE DESTINO']).for_each_trace(lambda t: t.update(name=t.name.split(\"=\")[1]))\n",
        "         #px.title('Nivel de Aceptacion de las {} Universidad mas solicitadas por los postulante a las Becas Chile'.format(n))\n",
        "       #fig.layout.showlegend = False\n",
        "\n",
        "       fig.show()\n",
        "  \n",
        "universidades_populares(10)"
      ],
      "execution_count": 155,
      "outputs": [
        {
          "output_type": "display_data",
          "data": {
            "text/html": [
              "<html>\n",
              "<head><meta charset=\"utf-8\" /></head>\n",
              "<body>\n",
              "    <div>\n",
              "            <script src=\"https://cdnjs.cloudflare.com/ajax/libs/mathjax/2.7.5/MathJax.js?config=TeX-AMS-MML_SVG\"></script><script type=\"text/javascript\">if (window.MathJax) {MathJax.Hub.Config({SVG: {font: \"STIX-Web\"}});}</script>\n",
              "                <script type=\"text/javascript\">window.PlotlyConfig = {MathJaxConfig: 'local'};</script>\n",
              "        <script src=\"https://cdn.plot.ly/plotly-latest.min.js\"></script>    \n",
              "            <div id=\"fe11c3e3-48ec-43fe-ad6d-4f476dfc4189\" class=\"plotly-graph-div\" style=\"height:525px; width:100%;\"></div>\n",
              "            <script type=\"text/javascript\">\n",
              "                \n",
              "                    window.PLOTLYENV=window.PLOTLYENV || {};\n",
              "                    \n",
              "                if (document.getElementById(\"fe11c3e3-48ec-43fe-ad6d-4f476dfc4189\")) {\n",
              "                    Plotly.newPlot(\n",
              "                        'fe11c3e3-48ec-43fe-ad6d-4f476dfc4189',\n",
              "                        [{\"customdata\": [[\"UNIVERSIDAD DE BARCELONA\"]], \"hoverlabel\": {\"namelength\": 0}, \"hovertemplate\": \"INSTITUCI\\u00d3N DE DESTINO=%{customdata[0]}<br>Tasa de Aceptacion (%)=%{x}<br>SELECCIONADA=%{y}<br>POSTULACIONES=%{marker.size}\", \"legendgroup\": \"INSTITUCI\\u00d3N DE DESTINO=UNIVERSIDAD DE BARCELONA\", \"marker\": {\"color\": \"#3366CC\", \"size\": [413.0], \"sizemode\": \"area\", \"sizeref\": 0.08428571428571428, \"symbol\": \"circle\"}, \"mode\": \"markers\", \"name\": \"UNIVERSIDAD DE BARCELONA\", \"showlegend\": true, \"type\": \"scatter\", \"x\": [16.2], \"xaxis\": \"x\", \"y\": [67], \"yaxis\": \"y\"}, {\"customdata\": [[\"UNIVERSIDAD AUTONOMA DE BARCELONA\"]], \"hoverlabel\": {\"namelength\": 0}, \"hovertemplate\": \"INSTITUCI\\u00d3N DE DESTINO=%{customdata[0]}<br>Tasa de Aceptacion (%)=%{x}<br>SELECCIONADA=%{y}<br>POSTULACIONES=%{marker.size}\", \"legendgroup\": \"INSTITUCI\\u00d3N DE DESTINO=UNIVERSIDAD AUTONOMA DE BARCELONA\", \"marker\": {\"color\": \"#DC3912\", \"size\": [211.0], \"sizemode\": \"area\", \"sizeref\": 0.08428571428571428, \"symbol\": \"circle\"}, \"mode\": \"markers\", \"name\": \"UNIVERSIDAD AUTONOMA DE BARCELONA\", \"showlegend\": true, \"type\": \"scatter\", \"x\": [12.3], \"xaxis\": \"x\", \"y\": [26], \"yaxis\": \"y\"}, {\"customdata\": [[\"UNIVERSITY COLLEGE LONDON\"]], \"hoverlabel\": {\"namelength\": 0}, \"hovertemplate\": \"INSTITUCI\\u00d3N DE DESTINO=%{customdata[0]}<br>Tasa de Aceptacion (%)=%{x}<br>SELECCIONADA=%{y}<br>POSTULACIONES=%{marker.size}\", \"legendgroup\": \"INSTITUCI\\u00d3N DE DESTINO=UNIVERSITY COLLEGE LONDON\", \"marker\": {\"color\": \"#FF9900\", \"size\": [195.0], \"sizemode\": \"area\", \"sizeref\": 0.08428571428571428, \"symbol\": \"circle\"}, \"mode\": \"markers\", \"name\": \"UNIVERSITY COLLEGE LONDON\", \"showlegend\": true, \"type\": \"scatter\", \"x\": [34.4], \"xaxis\": \"x\", \"y\": [67], \"yaxis\": \"y\"}, {\"customdata\": [[\"UNIVERSITY OF MELBOURNE\"]], \"hoverlabel\": {\"namelength\": 0}, \"hovertemplate\": \"INSTITUCI\\u00d3N DE DESTINO=%{customdata[0]}<br>Tasa de Aceptacion (%)=%{x}<br>SELECCIONADA=%{y}<br>POSTULACIONES=%{marker.size}\", \"legendgroup\": \"INSTITUCI\\u00d3N DE DESTINO=UNIVERSITY OF MELBOURNE\", \"marker\": {\"color\": \"#109618\", \"size\": [105.0], \"sizemode\": \"area\", \"sizeref\": 0.08428571428571428, \"symbol\": \"circle\"}, \"mode\": \"markers\", \"name\": \"UNIVERSITY OF MELBOURNE\", \"showlegend\": true, \"type\": \"scatter\", \"x\": [24.8], \"xaxis\": \"x\", \"y\": [26], \"yaxis\": \"y\"}, {\"customdata\": [[\"UNIVERSITY OF EDINBURGH\"]], \"hoverlabel\": {\"namelength\": 0}, \"hovertemplate\": \"INSTITUCI\\u00d3N DE DESTINO=%{customdata[0]}<br>Tasa de Aceptacion (%)=%{x}<br>SELECCIONADA=%{y}<br>POSTULACIONES=%{marker.size}\", \"legendgroup\": \"INSTITUCI\\u00d3N DE DESTINO=UNIVERSITY OF EDINBURGH\", \"marker\": {\"color\": \"#990099\", \"size\": [75.0], \"sizemode\": \"area\", \"sizeref\": 0.08428571428571428, \"symbol\": \"circle\"}, \"mode\": \"markers\", \"name\": \"UNIVERSITY OF EDINBURGH\", \"showlegend\": true, \"type\": \"scatter\", \"x\": [26.700000000000003], \"xaxis\": \"x\", \"y\": [20], \"yaxis\": \"y\"}, {\"customdata\": [[\"LONDON SCHOOL OF ECONOMICS AND POLITICAL SCIENCE\"]], \"hoverlabel\": {\"namelength\": 0}, \"hovertemplate\": \"INSTITUCI\\u00d3N DE DESTINO=%{customdata[0]}<br>Tasa de Aceptacion (%)=%{x}<br>SELECCIONADA=%{y}<br>POSTULACIONES=%{marker.size}\", \"legendgroup\": \"INSTITUCI\\u00d3N DE DESTINO=LONDON SCHOOL OF ECONOMICS AND POLITICAL SCIENCE\", \"marker\": {\"color\": \"#0099C6\", \"size\": [72.0], \"sizemode\": \"area\", \"sizeref\": 0.08428571428571428, \"symbol\": \"circle\"}, \"mode\": \"markers\", \"name\": \"LONDON SCHOOL OF ECONOMICS AND POLITICAL SCIENCE\", \"showlegend\": true, \"type\": \"scatter\", \"x\": [37.5], \"xaxis\": \"x\", \"y\": [27], \"yaxis\": \"y\"}, {\"customdata\": [[\"UNIVERSIDAD POLITECNICA DE CATALU\\u00d1A\"]], \"hoverlabel\": {\"namelength\": 0}, \"hovertemplate\": \"INSTITUCI\\u00d3N DE DESTINO=%{customdata[0]}<br>Tasa de Aceptacion (%)=%{x}<br>SELECCIONADA=%{y}<br>POSTULACIONES=%{marker.size}\", \"legendgroup\": \"INSTITUCI\\u00d3N DE DESTINO=UNIVERSIDAD POLITECNICA DE CATALU\\u00d1A\", \"marker\": {\"color\": \"#DD4477\", \"size\": [62.0], \"sizemode\": \"area\", \"sizeref\": 0.08428571428571428, \"symbol\": \"circle\"}, \"mode\": \"markers\", \"name\": \"UNIVERSIDAD POLITECNICA DE CATALU\\u00d1A\", \"showlegend\": true, \"type\": \"scatter\", \"x\": [14.499999999999998], \"xaxis\": \"x\", \"y\": [9], \"yaxis\": \"y\"}, {\"customdata\": [[\"LONDON SCHOOL ECONOMICS & POLITICAL SCIENCE\"]], \"hoverlabel\": {\"namelength\": 0}, \"hovertemplate\": \"INSTITUCI\\u00d3N DE DESTINO=%{customdata[0]}<br>Tasa de Aceptacion (%)=%{x}<br>SELECCIONADA=%{y}<br>POSTULACIONES=%{marker.size}\", \"legendgroup\": \"INSTITUCI\\u00d3N DE DESTINO=LONDON SCHOOL ECONOMICS & POLITICAL SCIENCE\", \"marker\": {\"color\": \"#66AA00\", \"size\": [57.0], \"sizemode\": \"area\", \"sizeref\": 0.08428571428571428, \"symbol\": \"circle\"}, \"mode\": \"markers\", \"name\": \"LONDON SCHOOL ECONOMICS & POLITICAL SCIENCE\", \"showlegend\": true, \"type\": \"scatter\", \"x\": [42.1], \"xaxis\": \"x\", \"y\": [24], \"yaxis\": \"y\"}, {\"customdata\": [[\"UNIVERSIDAD COMPLUTENSE DE MADRID\"]], \"hoverlabel\": {\"namelength\": 0}, \"hovertemplate\": \"INSTITUCI\\u00d3N DE DESTINO=%{customdata[0]}<br>Tasa de Aceptacion (%)=%{x}<br>SELECCIONADA=%{y}<br>POSTULACIONES=%{marker.size}\", \"legendgroup\": \"INSTITUCI\\u00d3N DE DESTINO=UNIVERSIDAD COMPLUTENSE DE MADRID\", \"marker\": {\"color\": \"#B82E2E\", \"size\": [52.0], \"sizemode\": \"area\", \"sizeref\": 0.08428571428571428, \"symbol\": \"circle\"}, \"mode\": \"markers\", \"name\": \"UNIVERSIDAD COMPLUTENSE DE MADRID\", \"showlegend\": true, \"type\": \"scatter\", \"x\": [17.299999999999997], \"xaxis\": \"x\", \"y\": [9], \"yaxis\": \"y\"}, {\"customdata\": [[\"NEW YORK UNIVERSITY\"]], \"hoverlabel\": {\"namelength\": 0}, \"hovertemplate\": \"INSTITUCI\\u00d3N DE DESTINO=%{customdata[0]}<br>Tasa de Aceptacion (%)=%{x}<br>SELECCIONADA=%{y}<br>POSTULACIONES=%{marker.size}\", \"legendgroup\": \"INSTITUCI\\u00d3N DE DESTINO=NEW YORK UNIVERSITY\", \"marker\": {\"color\": \"#316395\", \"size\": [48.0], \"sizemode\": \"area\", \"sizeref\": 0.08428571428571428, \"symbol\": \"circle\"}, \"mode\": \"markers\", \"name\": \"NEW YORK UNIVERSITY\", \"showlegend\": true, \"type\": \"scatter\", \"x\": [35.4], \"xaxis\": \"x\", \"y\": [17], \"yaxis\": \"y\"}, {\"customdata\": [[\"THE UNIVERSITY OF QUEENSLAND\"]], \"hoverlabel\": {\"namelength\": 0}, \"hovertemplate\": \"INSTITUCI\\u00d3N DE DESTINO=%{customdata[0]}<br>Tasa de Aceptacion (%)=%{x}<br>SELECCIONADA=%{y}<br>POSTULACIONES=%{marker.size}\", \"legendgroup\": \"INSTITUCI\\u00d3N DE DESTINO=THE UNIVERSITY OF QUEENSLAND\", \"marker\": {\"color\": \"#3366CC\", \"size\": [39.0], \"sizemode\": \"area\", \"sizeref\": 0.08428571428571428, \"symbol\": \"circle\"}, \"mode\": \"markers\", \"name\": \"THE UNIVERSITY OF QUEENSLAND\", \"showlegend\": true, \"type\": \"scatter\", \"x\": [23.1], \"xaxis\": \"x\", \"y\": [9], \"yaxis\": \"y\"}],\n",
              "                        {\"legend\": {\"itemsizing\": \"constant\", \"tracegroupgap\": 0}, \"template\": {\"data\": {\"scatter\": [{\"type\": \"scatter\"}]}}, \"title\": {\"text\": \"Tasa de aceptacion de las 10 Universidades con mayor cantidad de postulaciones\"}, \"xaxis\": {\"anchor\": \"y\", \"domain\": [0.0, 1.0], \"title\": {\"text\": \"Tasa de Aceptacion (%)\"}}, \"yaxis\": {\"anchor\": \"x\", \"domain\": [0.0, 1.0], \"title\": {\"text\": \"SELECCIONADA\"}}},\n",
              "                        {\"responsive\": true}\n",
              "                    ).then(function(){\n",
              "                            \n",
              "var gd = document.getElementById('fe11c3e3-48ec-43fe-ad6d-4f476dfc4189');\n",
              "var x = new MutationObserver(function (mutations, observer) {{\n",
              "        var display = window.getComputedStyle(gd).display;\n",
              "        if (!display || display === 'none') {{\n",
              "            console.log([gd, 'removed!']);\n",
              "            Plotly.purge(gd);\n",
              "            observer.disconnect();\n",
              "        }}\n",
              "}});\n",
              "\n",
              "// Listen for the removal of the full notebook cells\n",
              "var notebookContainer = gd.closest('#notebook-container');\n",
              "if (notebookContainer) {{\n",
              "    x.observe(notebookContainer, {childList: true});\n",
              "}}\n",
              "\n",
              "// Listen for the clearing of the current output cell\n",
              "var outputEl = gd.closest('.output');\n",
              "if (outputEl) {{\n",
              "    x.observe(outputEl, {childList: true});\n",
              "}}\n",
              "\n",
              "                        })\n",
              "                };\n",
              "                \n",
              "            </script>\n",
              "        </div>\n",
              "</body>\n",
              "</html>"
            ]
          },
          "metadata": {
            "tags": []
          }
        }
      ]
    },
    {
      "cell_type": "markdown",
      "metadata": {
        "id": "Db77-BFlQyrX",
        "colab_type": "text"
      },
      "source": [
        "# ***Revision por Paises***\n",
        "\n",
        "\n"
      ]
    },
    {
      "cell_type": "markdown",
      "metadata": {
        "id": "rXs5mHIrM6Al",
        "colab_type": "text"
      },
      "source": [
        "En esta seccion, se realizara un analisis por paises, buscando analizar cuales son los paises mas solicitados por las becas, y si existen paises mas probables para poder obtener las becas del gobierno. Para poder hacer este trabajo, se incluye otro dataset con los paises de las universidades\n"
      ]
    },
    {
      "cell_type": "code",
      "metadata": {
        "id": "oxJgbIz3tvs0",
        "colab_type": "code",
        "colab": {}
      },
      "source": [
        "from plotly.offline import plot\n",
        "import plotly.graph_objects as go\n",
        "import plotly.io as pio"
      ],
      "execution_count": 65,
      "outputs": []
    },
    {
      "cell_type": "code",
      "metadata": {
        "id": "sW7XIr7lTSe3",
        "colab_type": "code",
        "colab": {
          "resources": {
            "http://localhost:8080/nbextensions/google.colab/files.js": {
              "data": "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",
              "ok": true,
              "headers": [
                [
                  "content-type",
                  "application/javascript"
                ]
              ],
              "status": 200,
              "status_text": ""
            }
          },
          "base_uri": "https://localhost:8080/",
          "height": 73
        },
        "outputId": "7f7953e4-5072-4e65-ff2c-484093125bca"
      },
      "source": [
        "from google.colab import files\n",
        "uploaded = files.upload()"
      ],
      "execution_count": 156,
      "outputs": [
        {
          "output_type": "display_data",
          "data": {
            "text/html": [
              "\n",
              "     <input type=\"file\" id=\"files-c16281b3-8867-458c-a107-27d19eebddc4\" name=\"files[]\" multiple disabled\n",
              "        style=\"border:none\" />\n",
              "     <output id=\"result-c16281b3-8867-458c-a107-27d19eebddc4\">\n",
              "      Upload widget is only available when the cell has been executed in the\n",
              "      current browser session. Please rerun this cell to enable.\n",
              "      </output>\n",
              "      <script src=\"/nbextensions/google.colab/files.js\"></script> "
            ],
            "text/plain": [
              "<IPython.core.display.HTML object>"
            ]
          },
          "metadata": {
            "tags": []
          }
        },
        {
          "output_type": "stream",
          "text": [
            "Saving mapeo_total.csv to mapeo_total (2).csv\n"
          ],
          "name": "stdout"
        }
      ]
    },
    {
      "cell_type": "code",
      "metadata": {
        "id": "4MTBBzsVTWti",
        "colab_type": "code",
        "colab": {
          "base_uri": "https://localhost:8080/",
          "height": 195
        },
        "outputId": "2461d819-2cda-4c68-faed-8c84ac5e78bf"
      },
      "source": [
        "import io\n",
        "universidad = pd.read_csv(io.BytesIO(uploaded['mapeo_total.csv']), sep =';')\n",
        "# Dataset is now stored in a Pandas Dataframe\n",
        "\n",
        "#universidad = universidad.iloc[:,1:3]\n",
        "universidad.head()"
      ],
      "execution_count": 157,
      "outputs": [
        {
          "output_type": "execute_result",
          "data": {
            "text/html": [
              "<div>\n",
              "<style scoped>\n",
              "    .dataframe tbody tr th:only-of-type {\n",
              "        vertical-align: middle;\n",
              "    }\n",
              "\n",
              "    .dataframe tbody tr th {\n",
              "        vertical-align: top;\n",
              "    }\n",
              "\n",
              "    .dataframe thead th {\n",
              "        text-align: right;\n",
              "    }\n",
              "</style>\n",
              "<table border=\"1\" class=\"dataframe\">\n",
              "  <thead>\n",
              "    <tr style=\"text-align: right;\">\n",
              "      <th></th>\n",
              "      <th>INSTITUCIÓN DE DESTINO</th>\n",
              "      <th>PAISES</th>\n",
              "    </tr>\n",
              "  </thead>\n",
              "  <tbody>\n",
              "    <tr>\n",
              "      <th>0</th>\n",
              "      <td>UNIVERSIDAD AUTONOMA DE BARCELONA</td>\n",
              "      <td>Spain</td>\n",
              "    </tr>\n",
              "    <tr>\n",
              "      <th>1</th>\n",
              "      <td>UNIVERSITY OF AUCKLAND</td>\n",
              "      <td>New Zealand</td>\n",
              "    </tr>\n",
              "    <tr>\n",
              "      <th>2</th>\n",
              "      <td>UNIVERSITY OF BIRMINGHAM</td>\n",
              "      <td>United Kingdom</td>\n",
              "    </tr>\n",
              "    <tr>\n",
              "      <th>3</th>\n",
              "      <td>UNIVERSITY COLLEGE LONDON</td>\n",
              "      <td>United Kingdom</td>\n",
              "    </tr>\n",
              "    <tr>\n",
              "      <th>4</th>\n",
              "      <td>UNIVERSITY OF WARWICK</td>\n",
              "      <td>United Kingdom</td>\n",
              "    </tr>\n",
              "  </tbody>\n",
              "</table>\n",
              "</div>"
            ],
            "text/plain": [
              "              INSTITUCIÓN DE DESTINO          PAISES\n",
              "0  UNIVERSIDAD AUTONOMA DE BARCELONA           Spain\n",
              "1             UNIVERSITY OF AUCKLAND     New Zealand\n",
              "2           UNIVERSITY OF BIRMINGHAM  United Kingdom\n",
              "3          UNIVERSITY COLLEGE LONDON  United Kingdom\n",
              "4              UNIVERSITY OF WARWICK  United Kingdom"
            ]
          },
          "metadata": {
            "tags": []
          },
          "execution_count": 157
        }
      ]
    },
    {
      "cell_type": "code",
      "metadata": {
        "id": "-BNwmry0Ue1g",
        "colab_type": "code",
        "colab": {}
      },
      "source": [
        "df = pd.merge(df_datos, universidad, how='left', on=['INSTITUCIÓN DE DESTINO'])"
      ],
      "execution_count": 158,
      "outputs": []
    },
    {
      "cell_type": "code",
      "metadata": {
        "id": "ljyGfXpbOHRX",
        "colab_type": "code",
        "colab": {
          "base_uri": "https://localhost:8080/",
          "height": 586
        },
        "outputId": "01c92e03-8b0b-4805-8413-5d4bb65b4c50"
      },
      "source": [
        "df.loc[df['PAISES'].isnull()]"
      ],
      "execution_count": 161,
      "outputs": [
        {
          "output_type": "execute_result",
          "data": {
            "text/html": [
              "<div>\n",
              "<style scoped>\n",
              "    .dataframe tbody tr th:only-of-type {\n",
              "        vertical-align: middle;\n",
              "    }\n",
              "\n",
              "    .dataframe tbody tr th {\n",
              "        vertical-align: top;\n",
              "    }\n",
              "\n",
              "    .dataframe thead th {\n",
              "        text-align: right;\n",
              "    }\n",
              "</style>\n",
              "<table border=\"1\" class=\"dataframe\">\n",
              "  <thead>\n",
              "    <tr style=\"text-align: right;\">\n",
              "      <th></th>\n",
              "      <th>INDICE</th>\n",
              "      <th>SEXO</th>\n",
              "      <th>INSTITUCIÓN DE DESTINO</th>\n",
              "      <th>ESTADO</th>\n",
              "      <th>PUNTAJE</th>\n",
              "      <th>PERIODO</th>\n",
              "      <th>FUERA DE BASES</th>\n",
              "      <th>NO SELECCIONADA</th>\n",
              "      <th>SELECCIONADA</th>\n",
              "      <th>PAISES</th>\n",
              "    </tr>\n",
              "  </thead>\n",
              "  <tbody>\n",
              "    <tr>\n",
              "      <th>1646</th>\n",
              "      <td>3</td>\n",
              "      <td>FEMENINO</td>\n",
              "      <td>CAMPUS DOCENT SANT JOAN DE DEU ADSCRITO A LA U...</td>\n",
              "      <td>FUERA DE BASES</td>\n",
              "      <td>NaN</td>\n",
              "      <td>2019</td>\n",
              "      <td>1</td>\n",
              "      <td>0</td>\n",
              "      <td>0</td>\n",
              "      <td>NaN</td>\n",
              "    </tr>\n",
              "    <tr>\n",
              "      <th>1649</th>\n",
              "      <td>6</td>\n",
              "      <td>MASCULINO</td>\n",
              "      <td>HUMBOLDT UNIVERSITY OF BERLIN</td>\n",
              "      <td>FUERA DE BASES</td>\n",
              "      <td>NaN</td>\n",
              "      <td>2019</td>\n",
              "      <td>1</td>\n",
              "      <td>0</td>\n",
              "      <td>0</td>\n",
              "      <td>NaN</td>\n",
              "    </tr>\n",
              "    <tr>\n",
              "      <th>1659</th>\n",
              "      <td>16</td>\n",
              "      <td>MASCULINO</td>\n",
              "      <td>EAE BUSINESS SCHOOL</td>\n",
              "      <td>FUERA DE BASES</td>\n",
              "      <td>NaN</td>\n",
              "      <td>2019</td>\n",
              "      <td>1</td>\n",
              "      <td>0</td>\n",
              "      <td>0</td>\n",
              "      <td>NaN</td>\n",
              "    </tr>\n",
              "    <tr>\n",
              "      <th>1660</th>\n",
              "      <td>17</td>\n",
              "      <td>FEMENINO</td>\n",
              "      <td>NO PRESENTA</td>\n",
              "      <td>FUERA DE BASES</td>\n",
              "      <td>NaN</td>\n",
              "      <td>2019</td>\n",
              "      <td>1</td>\n",
              "      <td>0</td>\n",
              "      <td>0</td>\n",
              "      <td>NaN</td>\n",
              "    </tr>\n",
              "    <tr>\n",
              "      <th>1661</th>\n",
              "      <td>18</td>\n",
              "      <td>FEMENINO</td>\n",
              "      <td>UNIVERSIDAD AUTONOMA DE BARCELONA\\nUNIVERSIDAD...</td>\n",
              "      <td>FUERA DE BASES</td>\n",
              "      <td>NaN</td>\n",
              "      <td>2019</td>\n",
              "      <td>1</td>\n",
              "      <td>0</td>\n",
              "      <td>0</td>\n",
              "      <td>NaN</td>\n",
              "    </tr>\n",
              "    <tr>\n",
              "      <th>...</th>\n",
              "      <td>...</td>\n",
              "      <td>...</td>\n",
              "      <td>...</td>\n",
              "      <td>...</td>\n",
              "      <td>...</td>\n",
              "      <td>...</td>\n",
              "      <td>...</td>\n",
              "      <td>...</td>\n",
              "      <td>...</td>\n",
              "      <td>...</td>\n",
              "    </tr>\n",
              "    <tr>\n",
              "      <th>2629</th>\n",
              "      <td>986</td>\n",
              "      <td>MASCULINO</td>\n",
              "      <td>GEORGE WASHINGTON UNIVERSITY LAW SCHOOL\\nMAX-P...</td>\n",
              "      <td>NO SELECCIONADA</td>\n",
              "      <td>2,348</td>\n",
              "      <td>2019</td>\n",
              "      <td>0</td>\n",
              "      <td>1</td>\n",
              "      <td>0</td>\n",
              "      <td>NaN</td>\n",
              "    </tr>\n",
              "    <tr>\n",
              "      <th>2670</th>\n",
              "      <td>1027</td>\n",
              "      <td>FEMENINO</td>\n",
              "      <td>LONDON SCHOOL ECONOMICS &amp; POLITICAL SCIENCE\\nU...</td>\n",
              "      <td>SELECCIONADA</td>\n",
              "      <td>4,885</td>\n",
              "      <td>2019</td>\n",
              "      <td>0</td>\n",
              "      <td>0</td>\n",
              "      <td>1</td>\n",
              "      <td>NaN</td>\n",
              "    </tr>\n",
              "    <tr>\n",
              "      <th>2745</th>\n",
              "      <td>1102</td>\n",
              "      <td>MASCULINO</td>\n",
              "      <td>UNIVERSITA DEGLI STUDI DI SASSARI\\nUNIVERSITA ...</td>\n",
              "      <td>SELECCIONADA</td>\n",
              "      <td>4,775</td>\n",
              "      <td>2019</td>\n",
              "      <td>0</td>\n",
              "      <td>0</td>\n",
              "      <td>1</td>\n",
              "      <td>NaN</td>\n",
              "    </tr>\n",
              "    <tr>\n",
              "      <th>2747</th>\n",
              "      <td>1104</td>\n",
              "      <td>MASCULINO</td>\n",
              "      <td>UNIVERSIDAD AUTONOMA DE BARCELONA\\nUNIVERSIDAD...</td>\n",
              "      <td>SELECCIONADA</td>\n",
              "      <td>4,772</td>\n",
              "      <td>2019</td>\n",
              "      <td>0</td>\n",
              "      <td>0</td>\n",
              "      <td>1</td>\n",
              "      <td>NaN</td>\n",
              "    </tr>\n",
              "    <tr>\n",
              "      <th>2806</th>\n",
              "      <td>1163</td>\n",
              "      <td>MASCULINO</td>\n",
              "      <td>UNIVERSIDAD DE BARCELONA\\nUNIVERSIDAD POLITECN...</td>\n",
              "      <td>SELECCIONADA</td>\n",
              "      <td>4,716</td>\n",
              "      <td>2019</td>\n",
              "      <td>0</td>\n",
              "      <td>0</td>\n",
              "      <td>1</td>\n",
              "      <td>NaN</td>\n",
              "    </tr>\n",
              "  </tbody>\n",
              "</table>\n",
              "<p>91 rows × 10 columns</p>\n",
              "</div>"
            ],
            "text/plain": [
              "      INDICE       SEXO  ... SELECCIONADA PAISES\n",
              "1646       3   FEMENINO  ...            0    NaN\n",
              "1649       6  MASCULINO  ...            0    NaN\n",
              "1659      16  MASCULINO  ...            0    NaN\n",
              "1660      17   FEMENINO  ...            0    NaN\n",
              "1661      18   FEMENINO  ...            0    NaN\n",
              "...      ...        ...  ...          ...    ...\n",
              "2629     986  MASCULINO  ...            0    NaN\n",
              "2670    1027   FEMENINO  ...            1    NaN\n",
              "2745    1102  MASCULINO  ...            1    NaN\n",
              "2747    1104  MASCULINO  ...            1    NaN\n",
              "2806    1163  MASCULINO  ...            1    NaN\n",
              "\n",
              "[91 rows x 10 columns]"
            ]
          },
          "metadata": {
            "tags": []
          },
          "execution_count": 161
        }
      ]
    },
    {
      "cell_type": "markdown",
      "metadata": {
        "id": "sgBrCAyoNggn",
        "colab_type": "text"
      },
      "source": [
        "Se han encontrado postulaciones que tienen mas de dos universidades, por lo que, para no tener inconsistencia en la data, se ha decidio eliminar estos registros del analisis"
      ]
    },
    {
      "cell_type": "code",
      "metadata": {
        "id": "327CvYpxkG3F",
        "colab_type": "code",
        "colab": {}
      },
      "source": [
        "df_datos = df_datos.loc[df_datos['country'] != 'NO']"
      ],
      "execution_count": null,
      "outputs": []
    },
    {
      "cell_type": "code",
      "metadata": {
        "id": "24Wg9ijVosOR",
        "colab_type": "code",
        "colab": {
          "base_uri": "https://localhost:8080/",
          "height": 542
        },
        "outputId": "a187e179-98e0-4ca1-ef07-76138d94e19c"
      },
      "source": [
        "from plotly.offline import plot\n",
        "import plotly.graph_objects as go\n",
        "import plotly.io as pio\n",
        "\n",
        "\n",
        "df_paises = df_datos.groupby('country').count()['FOLIO'].reset_index()\n",
        "\n",
        "# 1) Infection Rates\n",
        "fig_cases = go.Figure(data = go.Choropleth(locations = df_paises['country'],\n",
        "                                     z = df_paises['FOLIO'],\n",
        "                                     locationmode = 'country names',\n",
        "                                     colorscale = 'Blues',\n",
        "                                     colorbar_title = \"Infections\"))\n",
        "\n",
        "fig_cases.update_layout(title_text = 'Cantidad de Postulante por pais',\n",
        "                  geo = dict(showframe = False,\n",
        "                           showcoastlines = False,\n",
        "                           projection_type = 'equirectangular'))\n"
      ],
      "execution_count": null,
      "outputs": [
        {
          "output_type": "display_data",
          "data": {
            "text/html": [
              "<html>\n",
              "<head><meta charset=\"utf-8\" /></head>\n",
              "<body>\n",
              "    <div>\n",
              "            <script src=\"https://cdnjs.cloudflare.com/ajax/libs/mathjax/2.7.5/MathJax.js?config=TeX-AMS-MML_SVG\"></script><script type=\"text/javascript\">if (window.MathJax) {MathJax.Hub.Config({SVG: {font: \"STIX-Web\"}});}</script>\n",
              "                <script type=\"text/javascript\">window.PlotlyConfig = {MathJaxConfig: 'local'};</script>\n",
              "        <script src=\"https://cdn.plot.ly/plotly-latest.min.js\"></script>    \n",
              "            <div id=\"6095f4b4-2fdb-45d3-a9ee-e3f8c12774ad\" class=\"plotly-graph-div\" style=\"height:525px; width:100%;\"></div>\n",
              "            <script type=\"text/javascript\">\n",
              "                \n",
              "                    window.PLOTLYENV=window.PLOTLYENV || {};\n",
              "                    \n",
              "                if (document.getElementById(\"6095f4b4-2fdb-45d3-a9ee-e3f8c12774ad\")) {\n",
              "                    Plotly.newPlot(\n",
              "                        '6095f4b4-2fdb-45d3-a9ee-e3f8c12774ad',\n",
              "                        [{\"colorbar\": {\"title\": {\"text\": \"Infections\"}}, \"colorscale\": [[0.0, \"rgb(247,251,255)\"], [0.125, \"rgb(222,235,247)\"], [0.25, \"rgb(198,219,239)\"], [0.375, \"rgb(158,202,225)\"], [0.5, \"rgb(107,174,214)\"], [0.625, \"rgb(66,146,198)\"], [0.75, \"rgb(33,113,181)\"], [0.875, \"rgb(8,81,156)\"], [1.0, \"rgb(8,48,107)\"]], \"locationmode\": \"country names\", \"locations\": [\"Argentina\", \"Australia\", \"Austria\", \"Belgium\", \"Brazil\", \"Canada\", \"Costa Rica\", \"Denmark\", \"Ecuador\", \"Finland\", \"France\", \"Germany\", \"Hong Kong\", \"Iceland\", \"Israel\", \"Italy\", \"Netherlands\", \"New Zealand\", \"Portugal\", \"Russia\", \"Spain\", \"Switzerland\", \"USA\", \"United Kingdom\"], \"type\": \"choropleth\", \"z\": [5, 112, 1, 6, 4, 16, 1, 9, 1, 1, 18, 7, 2, 1, 1, 14, 35, 4, 5, 1, 310, 1, 113, 317]}],\n",
              "                        {\"geo\": {\"projection\": {\"type\": \"equirectangular\"}, \"showcoastlines\": false, \"showframe\": false}, \"template\": {\"data\": {\"bar\": [{\"error_x\": {\"color\": \"#2a3f5f\"}, \"error_y\": {\"color\": \"#2a3f5f\"}, \"marker\": {\"line\": {\"color\": \"#E5ECF6\", \"width\": 0.5}}, \"type\": \"bar\"}], \"barpolar\": [{\"marker\": {\"line\": {\"color\": \"#E5ECF6\", \"width\": 0.5}}, \"type\": \"barpolar\"}], \"carpet\": [{\"aaxis\": {\"endlinecolor\": \"#2a3f5f\", \"gridcolor\": \"white\", \"linecolor\": \"white\", \"minorgridcolor\": \"white\", \"startlinecolor\": \"#2a3f5f\"}, \"baxis\": {\"endlinecolor\": \"#2a3f5f\", \"gridcolor\": \"white\", \"linecolor\": \"white\", \"minorgridcolor\": \"white\", \"startlinecolor\": \"#2a3f5f\"}, \"type\": \"carpet\"}], \"choropleth\": [{\"colorbar\": {\"outlinewidth\": 0, \"ticks\": \"\"}, \"type\": \"choropleth\"}], \"contour\": [{\"colorbar\": {\"outlinewidth\": 0, \"ticks\": \"\"}, \"colorscale\": [[0.0, \"#0d0887\"], [0.1111111111111111, \"#46039f\"], [0.2222222222222222, \"#7201a8\"], [0.3333333333333333, \"#9c179e\"], [0.4444444444444444, \"#bd3786\"], [0.5555555555555556, \"#d8576b\"], [0.6666666666666666, \"#ed7953\"], [0.7777777777777778, \"#fb9f3a\"], [0.8888888888888888, \"#fdca26\"], [1.0, \"#f0f921\"]], \"type\": \"contour\"}], \"contourcarpet\": [{\"colorbar\": {\"outlinewidth\": 0, \"ticks\": \"\"}, \"type\": \"contourcarpet\"}], \"heatmap\": [{\"colorbar\": {\"outlinewidth\": 0, \"ticks\": \"\"}, \"colorscale\": [[0.0, \"#0d0887\"], [0.1111111111111111, \"#46039f\"], [0.2222222222222222, \"#7201a8\"], [0.3333333333333333, \"#9c179e\"], [0.4444444444444444, \"#bd3786\"], [0.5555555555555556, \"#d8576b\"], [0.6666666666666666, \"#ed7953\"], [0.7777777777777778, \"#fb9f3a\"], [0.8888888888888888, \"#fdca26\"], [1.0, \"#f0f921\"]], \"type\": \"heatmap\"}], \"heatmapgl\": [{\"colorbar\": {\"outlinewidth\": 0, \"ticks\": \"\"}, \"colorscale\": [[0.0, \"#0d0887\"], [0.1111111111111111, \"#46039f\"], [0.2222222222222222, \"#7201a8\"], [0.3333333333333333, \"#9c179e\"], [0.4444444444444444, \"#bd3786\"], [0.5555555555555556, \"#d8576b\"], [0.6666666666666666, \"#ed7953\"], [0.7777777777777778, \"#fb9f3a\"], [0.8888888888888888, \"#fdca26\"], [1.0, \"#f0f921\"]], \"type\": \"heatmapgl\"}], \"histogram\": [{\"marker\": {\"colorbar\": {\"outlinewidth\": 0, \"ticks\": \"\"}}, \"type\": \"histogram\"}], \"histogram2d\": [{\"colorbar\": {\"outlinewidth\": 0, \"ticks\": \"\"}, \"colorscale\": [[0.0, \"#0d0887\"], [0.1111111111111111, \"#46039f\"], [0.2222222222222222, \"#7201a8\"], [0.3333333333333333, \"#9c179e\"], [0.4444444444444444, \"#bd3786\"], [0.5555555555555556, \"#d8576b\"], [0.6666666666666666, \"#ed7953\"], [0.7777777777777778, \"#fb9f3a\"], [0.8888888888888888, \"#fdca26\"], [1.0, \"#f0f921\"]], \"type\": \"histogram2d\"}], \"histogram2dcontour\": [{\"colorbar\": {\"outlinewidth\": 0, \"ticks\": \"\"}, \"colorscale\": [[0.0, \"#0d0887\"], [0.1111111111111111, \"#46039f\"], [0.2222222222222222, \"#7201a8\"], [0.3333333333333333, \"#9c179e\"], [0.4444444444444444, \"#bd3786\"], [0.5555555555555556, \"#d8576b\"], [0.6666666666666666, \"#ed7953\"], [0.7777777777777778, \"#fb9f3a\"], [0.8888888888888888, \"#fdca26\"], [1.0, \"#f0f921\"]], \"type\": \"histogram2dcontour\"}], \"mesh3d\": [{\"colorbar\": {\"outlinewidth\": 0, \"ticks\": \"\"}, \"type\": \"mesh3d\"}], \"parcoords\": [{\"line\": {\"colorbar\": {\"outlinewidth\": 0, \"ticks\": \"\"}}, \"type\": \"parcoords\"}], \"pie\": [{\"automargin\": true, \"type\": \"pie\"}], \"scatter\": [{\"marker\": {\"colorbar\": {\"outlinewidth\": 0, \"ticks\": \"\"}}, \"type\": \"scatter\"}], \"scatter3d\": [{\"line\": {\"colorbar\": {\"outlinewidth\": 0, \"ticks\": \"\"}}, \"marker\": {\"colorbar\": {\"outlinewidth\": 0, \"ticks\": \"\"}}, \"type\": \"scatter3d\"}], \"scattercarpet\": [{\"marker\": {\"colorbar\": {\"outlinewidth\": 0, \"ticks\": \"\"}}, \"type\": \"scattercarpet\"}], \"scattergeo\": [{\"marker\": {\"colorbar\": {\"outlinewidth\": 0, \"ticks\": \"\"}}, \"type\": \"scattergeo\"}], \"scattergl\": [{\"marker\": {\"colorbar\": {\"outlinewidth\": 0, \"ticks\": \"\"}}, \"type\": \"scattergl\"}], \"scattermapbox\": [{\"marker\": {\"colorbar\": {\"outlinewidth\": 0, \"ticks\": \"\"}}, \"type\": \"scattermapbox\"}], \"scatterpolar\": [{\"marker\": {\"colorbar\": {\"outlinewidth\": 0, \"ticks\": \"\"}}, \"type\": \"scatterpolar\"}], \"scatterpolargl\": [{\"marker\": {\"colorbar\": {\"outlinewidth\": 0, \"ticks\": \"\"}}, \"type\": \"scatterpolargl\"}], \"scatterternary\": [{\"marker\": {\"colorbar\": {\"outlinewidth\": 0, \"ticks\": \"\"}}, \"type\": \"scatterternary\"}], \"surface\": [{\"colorbar\": {\"outlinewidth\": 0, \"ticks\": \"\"}, \"colorscale\": [[0.0, \"#0d0887\"], [0.1111111111111111, \"#46039f\"], [0.2222222222222222, \"#7201a8\"], [0.3333333333333333, \"#9c179e\"], [0.4444444444444444, \"#bd3786\"], [0.5555555555555556, \"#d8576b\"], [0.6666666666666666, \"#ed7953\"], [0.7777777777777778, \"#fb9f3a\"], [0.8888888888888888, \"#fdca26\"], [1.0, \"#f0f921\"]], \"type\": \"surface\"}], \"table\": [{\"cells\": {\"fill\": {\"color\": \"#EBF0F8\"}, \"line\": {\"color\": \"white\"}}, \"header\": {\"fill\": {\"color\": \"#C8D4E3\"}, \"line\": {\"color\": \"white\"}}, \"type\": \"table\"}]}, \"layout\": {\"annotationdefaults\": {\"arrowcolor\": \"#2a3f5f\", \"arrowhead\": 0, \"arrowwidth\": 1}, \"coloraxis\": {\"colorbar\": {\"outlinewidth\": 0, \"ticks\": \"\"}}, \"colorscale\": {\"diverging\": [[0, \"#8e0152\"], [0.1, \"#c51b7d\"], [0.2, \"#de77ae\"], [0.3, \"#f1b6da\"], [0.4, \"#fde0ef\"], [0.5, \"#f7f7f7\"], [0.6, \"#e6f5d0\"], [0.7, \"#b8e186\"], [0.8, \"#7fbc41\"], [0.9, \"#4d9221\"], [1, \"#276419\"]], \"sequential\": [[0.0, \"#0d0887\"], [0.1111111111111111, \"#46039f\"], [0.2222222222222222, \"#7201a8\"], [0.3333333333333333, \"#9c179e\"], [0.4444444444444444, \"#bd3786\"], [0.5555555555555556, \"#d8576b\"], [0.6666666666666666, \"#ed7953\"], [0.7777777777777778, \"#fb9f3a\"], [0.8888888888888888, \"#fdca26\"], [1.0, \"#f0f921\"]], \"sequentialminus\": [[0.0, \"#0d0887\"], [0.1111111111111111, \"#46039f\"], [0.2222222222222222, \"#7201a8\"], [0.3333333333333333, \"#9c179e\"], [0.4444444444444444, \"#bd3786\"], [0.5555555555555556, \"#d8576b\"], [0.6666666666666666, \"#ed7953\"], [0.7777777777777778, \"#fb9f3a\"], [0.8888888888888888, \"#fdca26\"], [1.0, \"#f0f921\"]]}, \"colorway\": [\"#636efa\", \"#EF553B\", \"#00cc96\", \"#ab63fa\", \"#FFA15A\", \"#19d3f3\", \"#FF6692\", \"#B6E880\", \"#FF97FF\", \"#FECB52\"], \"font\": {\"color\": \"#2a3f5f\"}, \"geo\": {\"bgcolor\": \"white\", \"lakecolor\": \"white\", \"landcolor\": \"#E5ECF6\", \"showlakes\": true, \"showland\": true, \"subunitcolor\": \"white\"}, \"hoverlabel\": {\"align\": \"left\"}, \"hovermode\": \"closest\", \"mapbox\": {\"style\": \"light\"}, \"paper_bgcolor\": \"white\", \"plot_bgcolor\": \"#E5ECF6\", \"polar\": {\"angularaxis\": {\"gridcolor\": \"white\", \"linecolor\": \"white\", \"ticks\": \"\"}, \"bgcolor\": \"#E5ECF6\", \"radialaxis\": {\"gridcolor\": \"white\", \"linecolor\": \"white\", \"ticks\": \"\"}}, \"scene\": {\"xaxis\": {\"backgroundcolor\": \"#E5ECF6\", \"gridcolor\": \"white\", \"gridwidth\": 2, \"linecolor\": \"white\", \"showbackground\": true, \"ticks\": \"\", \"zerolinecolor\": \"white\"}, \"yaxis\": {\"backgroundcolor\": \"#E5ECF6\", \"gridcolor\": \"white\", \"gridwidth\": 2, \"linecolor\": \"white\", \"showbackground\": true, \"ticks\": \"\", \"zerolinecolor\": \"white\"}, \"zaxis\": {\"backgroundcolor\": \"#E5ECF6\", \"gridcolor\": \"white\", \"gridwidth\": 2, \"linecolor\": \"white\", \"showbackground\": true, \"ticks\": \"\", \"zerolinecolor\": \"white\"}}, \"shapedefaults\": {\"line\": {\"color\": \"#2a3f5f\"}}, \"ternary\": {\"aaxis\": {\"gridcolor\": \"white\", \"linecolor\": \"white\", \"ticks\": \"\"}, \"baxis\": {\"gridcolor\": \"white\", \"linecolor\": \"white\", \"ticks\": \"\"}, \"bgcolor\": \"#E5ECF6\", \"caxis\": {\"gridcolor\": \"white\", \"linecolor\": \"white\", \"ticks\": \"\"}}, \"title\": {\"x\": 0.05}, \"xaxis\": {\"automargin\": true, \"gridcolor\": \"white\", \"linecolor\": \"white\", \"ticks\": \"\", \"title\": {\"standoff\": 15}, \"zerolinecolor\": \"white\", \"zerolinewidth\": 2}, \"yaxis\": {\"automargin\": true, \"gridcolor\": \"white\", \"linecolor\": \"white\", \"ticks\": \"\", \"title\": {\"standoff\": 15}, \"zerolinecolor\": \"white\", \"zerolinewidth\": 2}}}, \"title\": {\"text\": \"Cantidad de Postulante por pais\"}},\n",
              "                        {\"responsive\": true}\n",
              "                    ).then(function(){\n",
              "                            \n",
              "var gd = document.getElementById('6095f4b4-2fdb-45d3-a9ee-e3f8c12774ad');\n",
              "var x = new MutationObserver(function (mutations, observer) {{\n",
              "        var display = window.getComputedStyle(gd).display;\n",
              "        if (!display || display === 'none') {{\n",
              "            console.log([gd, 'removed!']);\n",
              "            Plotly.purge(gd);\n",
              "            observer.disconnect();\n",
              "        }}\n",
              "}});\n",
              "\n",
              "// Listen for the removal of the full notebook cells\n",
              "var notebookContainer = gd.closest('#notebook-container');\n",
              "if (notebookContainer) {{\n",
              "    x.observe(notebookContainer, {childList: true});\n",
              "}}\n",
              "\n",
              "// Listen for the clearing of the current output cell\n",
              "var outputEl = gd.closest('.output');\n",
              "if (outputEl) {{\n",
              "    x.observe(outputEl, {childList: true});\n",
              "}}\n",
              "\n",
              "                        })\n",
              "                };\n",
              "                \n",
              "            </script>\n",
              "        </div>\n",
              "</body>\n",
              "</html>"
            ]
          },
          "metadata": {
            "tags": []
          }
        }
      ]
    },
    {
      "cell_type": "code",
      "metadata": {
        "id": "YaS2ijDhO8TQ",
        "colab_type": "code",
        "colab": {
          "base_uri": "https://localhost:8080/",
          "height": 638
        },
        "outputId": "2a4202ba-bd9b-4596-ff3a-df5d736087a4"
      },
      "source": [
        "def paises_populares(n):\n",
        "       \n",
        "       #Tabla pivot\n",
        "       pivot = df_datos.pivot_table(index=['country'], values=['NO SELECCIONADA', 'SELECCIONADA'], aggfunc='sum')\n",
        "       pivot['POSTULACIONES'] = pivot['NO SELECCIONADA'] +pivot['SELECCIONADA']\n",
        "       pivot = pivot.sort_values(by='POSTULACIONES', ascending=False)  \n",
        "       pivot['% Aceptados'] = round(pivot['SELECCIONADA']/pivot['POSTULACIONES'],3)*100\n",
        "       pivot = pivot.reset_index()\n",
        "       \n",
        "       pivot_n = pivot[:n+1]\n",
        "\n",
        "       #Grafico\n",
        "       f, ax = plt.subplots(figsize=(10, 10))\n",
        "       sns.set_color_codes(\"pastel\")\n",
        "       \n",
        "       g = sns.barplot(y='country', x=\"POSTULACIONES\", data=pivot_n,\n",
        "            label=\"POSTULACIONES\", color=\"b\")\n",
        "       \n",
        "       sns.set_color_codes(\"muted\")\n",
        "       g = sns.barplot(y=\"country\", x=\"SELECCIONADA\", data=pivot_n,\n",
        "            label=\"SELECCIONADA\", color=\"b\")\n",
        "\n",
        "       \n",
        "       # Agregar labels\n",
        "       ax.legend(ncol=2, loc=\"lower right\", frameon=True)\n",
        "       \n",
        "       plt.title('Radiografia de los {} paises mas solicitadas en las postulaciones de BECAS'.format(n))\n",
        "       plt.xticks(rotation=90)\n",
        "       plt.xlabel('Cantidad de postulaciones')\n",
        "       plt.ylabel('Paises')\n",
        "       sns.despine(left=True, bottom=True) \n",
        "\n",
        "paises_populares(10) "
      ],
      "execution_count": null,
      "outputs": [
        {
          "output_type": "display_data",
          "data": {
            "image/png": "[encoded data removed]",
            "text/plain": [
              "<Figure size 720x720 with 1 Axes>"
            ]
          },
          "metadata": {
            "tags": []
          }
        }
      ]
    },
    {
      "cell_type": "code",
      "metadata": {
        "id": "bCzn23NgP-OL",
        "colab_type": "code",
        "colab": {
          "base_uri": "https://localhost:8080/",
          "height": 542
        },
        "outputId": "af122a80-c346-4378-8a4c-dfb6cd6786b9"
      },
      "source": [
        "def paises_populares(n):\n",
        "       \n",
        "       import plotly.express as px\n",
        "\n",
        "       #Tabla pivot\n",
        "       pivot = df_datos.pivot_table(index=['country'], values=['NO SELECCIONADA', 'SELECCIONADA'], aggfunc='sum')\n",
        "       pivot['POSTULACIONES'] = pivot['NO SELECCIONADA'] +pivot['SELECCIONADA']\n",
        "       pivot = pivot.sort_values(by='POSTULACIONES', ascending=False)  \n",
        "       pivot['% Aceptados'] = round(pivot['SELECCIONADA']/pivot['POSTULACIONES'],3)*100\n",
        "       pivot = pivot.reset_index()\n",
        "       \n",
        "       pivot_n = pivot[:n+1]\n",
        "       \n",
        "       #Grafico\n",
        "       df = px.data.gapminder()\n",
        "       fig = px.scatter(pivot_n, x=\"SELECCIONADA\", y=\"% Aceptados\",\n",
        "\t         size='POSTULACIONES', color=\"country\", template = 'none', color_discrete_sequence=px.colors.qualitative.G10,\n",
        "                  size_max=70, title='Porcentaje de aceptacion de las {} paises con mas solicitudes a la BECAS de Magister'.format(n))\n",
        "       #px.title('Nivel de Aceptacion de las {} Universidad mas solicitadas por los postulante a las Becas Chile'.format(n))\n",
        "       fig.show()\n",
        "\n",
        "paises_populares(10)"
      ],
      "execution_count": null,
      "outputs": [
        {
          "output_type": "display_data",
          "data": {
            "text/html": [
              "<html>\n",
              "<head><meta charset=\"utf-8\" /></head>\n",
              "<body>\n",
              "    <div>\n",
              "            <script src=\"https://cdnjs.cloudflare.com/ajax/libs/mathjax/2.7.5/MathJax.js?config=TeX-AMS-MML_SVG\"></script><script type=\"text/javascript\">if (window.MathJax) {MathJax.Hub.Config({SVG: {font: \"STIX-Web\"}});}</script>\n",
              "                <script type=\"text/javascript\">window.PlotlyConfig = {MathJaxConfig: 'local'};</script>\n",
              "        <script src=\"https://cdn.plot.ly/plotly-latest.min.js\"></script>    \n",
              "            <div id=\"38f38bff-06ff-4597-9014-3db7700f3e1a\" class=\"plotly-graph-div\" style=\"height:525px; width:100%;\"></div>\n",
              "            <script type=\"text/javascript\">\n",
              "                \n",
              "                    window.PLOTLYENV=window.PLOTLYENV || {};\n",
              "                    \n",
              "                if (document.getElementById(\"38f38bff-06ff-4597-9014-3db7700f3e1a\")) {\n",
              "                    Plotly.newPlot(\n",
              "                        '38f38bff-06ff-4597-9014-3db7700f3e1a',\n",
              "                        [{\"hoverlabel\": {\"namelength\": 0}, \"hovertemplate\": \"country=United Kingdom<br>SELECCIONADA=%{x}<br>% Aceptados=%{y}<br>POSTULACIONES=%{marker.size}\", \"legendgroup\": \"country=United Kingdom\", \"marker\": {\"color\": \"#3366CC\", \"size\": [317.0], \"sizemode\": \"area\", \"sizeref\": 0.0646938775510204, \"symbol\": \"circle\"}, \"mode\": \"markers\", \"name\": \"country=United Kingdom\", \"showlegend\": true, \"type\": \"scatter\", \"x\": [119], \"xaxis\": \"x\", \"y\": [37.5], \"yaxis\": \"y\"}, {\"hoverlabel\": {\"namelength\": 0}, \"hovertemplate\": \"country=Spain<br>SELECCIONADA=%{x}<br>% Aceptados=%{y}<br>POSTULACIONES=%{marker.size}\", \"legendgroup\": \"country=Spain\", \"marker\": {\"color\": \"#DC3912\", \"size\": [310.0], \"sizemode\": \"area\", \"sizeref\": 0.0646938775510204, \"symbol\": \"circle\"}, \"mode\": \"markers\", \"name\": \"country=Spain\", \"showlegend\": true, \"type\": \"scatter\", \"x\": [40], \"xaxis\": \"x\", \"y\": [12.9], \"yaxis\": \"y\"}, {\"hoverlabel\": {\"namelength\": 0}, \"hovertemplate\": \"country=USA<br>SELECCIONADA=%{x}<br>% Aceptados=%{y}<br>POSTULACIONES=%{marker.size}\", \"legendgroup\": \"country=USA\", \"marker\": {\"color\": \"#FF9900\", \"size\": [113.0], \"sizemode\": \"area\", \"sizeref\": 0.0646938775510204, \"symbol\": \"circle\"}, \"mode\": \"markers\", \"name\": \"country=USA\", \"showlegend\": true, \"type\": \"scatter\", \"x\": [46], \"xaxis\": \"x\", \"y\": [40.699999999999996], \"yaxis\": \"y\"}, {\"hoverlabel\": {\"namelength\": 0}, \"hovertemplate\": \"country=Australia<br>SELECCIONADA=%{x}<br>% Aceptados=%{y}<br>POSTULACIONES=%{marker.size}\", \"legendgroup\": \"country=Australia\", \"marker\": {\"color\": \"#109618\", \"size\": [112.0], \"sizemode\": \"area\", \"sizeref\": 0.0646938775510204, \"symbol\": \"circle\"}, \"mode\": \"markers\", \"name\": \"country=Australia\", \"showlegend\": true, \"type\": \"scatter\", \"x\": [32], \"xaxis\": \"x\", \"y\": [28.599999999999998], \"yaxis\": \"y\"}, {\"hoverlabel\": {\"namelength\": 0}, \"hovertemplate\": \"country=Netherlands<br>SELECCIONADA=%{x}<br>% Aceptados=%{y}<br>POSTULACIONES=%{marker.size}\", \"legendgroup\": \"country=Netherlands\", \"marker\": {\"color\": \"#990099\", \"size\": [35.0], \"sizemode\": \"area\", \"sizeref\": 0.0646938775510204, \"symbol\": \"circle\"}, \"mode\": \"markers\", \"name\": \"country=Netherlands\", \"showlegend\": true, \"type\": \"scatter\", \"x\": [13], \"xaxis\": \"x\", \"y\": [37.1], \"yaxis\": \"y\"}, {\"hoverlabel\": {\"namelength\": 0}, \"hovertemplate\": \"country=France<br>SELECCIONADA=%{x}<br>% Aceptados=%{y}<br>POSTULACIONES=%{marker.size}\", \"legendgroup\": \"country=France\", \"marker\": {\"color\": \"#0099C6\", \"size\": [18.0], \"sizemode\": \"area\", \"sizeref\": 0.0646938775510204, \"symbol\": \"circle\"}, \"mode\": \"markers\", \"name\": \"country=France\", \"showlegend\": true, \"type\": \"scatter\", \"x\": [4], \"xaxis\": \"x\", \"y\": [22.2], \"yaxis\": \"y\"}, {\"hoverlabel\": {\"namelength\": 0}, \"hovertemplate\": \"country=Canada<br>SELECCIONADA=%{x}<br>% Aceptados=%{y}<br>POSTULACIONES=%{marker.size}\", \"legendgroup\": \"country=Canada\", \"marker\": {\"color\": \"#DD4477\", \"size\": [16.0], \"sizemode\": \"area\", \"sizeref\": 0.0646938775510204, \"symbol\": \"circle\"}, \"mode\": \"markers\", \"name\": \"country=Canada\", \"showlegend\": true, \"type\": \"scatter\", \"x\": [5], \"xaxis\": \"x\", \"y\": [31.2], \"yaxis\": \"y\"}, {\"hoverlabel\": {\"namelength\": 0}, \"hovertemplate\": \"country=Italy<br>SELECCIONADA=%{x}<br>% Aceptados=%{y}<br>POSTULACIONES=%{marker.size}\", \"legendgroup\": \"country=Italy\", \"marker\": {\"color\": \"#66AA00\", \"size\": [14.0], \"sizemode\": \"area\", \"sizeref\": 0.0646938775510204, \"symbol\": \"circle\"}, \"mode\": \"markers\", \"name\": \"country=Italy\", \"showlegend\": true, \"type\": \"scatter\", \"x\": [3], \"xaxis\": \"x\", \"y\": [21.4], \"yaxis\": \"y\"}, {\"hoverlabel\": {\"namelength\": 0}, \"hovertemplate\": \"country=Denmark<br>SELECCIONADA=%{x}<br>% Aceptados=%{y}<br>POSTULACIONES=%{marker.size}\", \"legendgroup\": \"country=Denmark\", \"marker\": {\"color\": \"#B82E2E\", \"size\": [9.0], \"sizemode\": \"area\", \"sizeref\": 0.0646938775510204, \"symbol\": \"circle\"}, \"mode\": \"markers\", \"name\": \"country=Denmark\", \"showlegend\": true, \"type\": \"scatter\", \"x\": [3], \"xaxis\": \"x\", \"y\": [33.300000000000004], \"yaxis\": \"y\"}, {\"hoverlabel\": {\"namelength\": 0}, \"hovertemplate\": \"country=Germany<br>SELECCIONADA=%{x}<br>% Aceptados=%{y}<br>POSTULACIONES=%{marker.size}\", \"legendgroup\": \"country=Germany\", \"marker\": {\"color\": \"#316395\", \"size\": [7.0], \"sizemode\": \"area\", \"sizeref\": 0.0646938775510204, \"symbol\": \"circle\"}, \"mode\": \"markers\", \"name\": \"country=Germany\", \"showlegend\": true, \"type\": \"scatter\", \"x\": [2], \"xaxis\": \"x\", \"y\": [28.599999999999998], \"yaxis\": \"y\"}, {\"hoverlabel\": {\"namelength\": 0}, \"hovertemplate\": \"country=Belgium<br>SELECCIONADA=%{x}<br>% Aceptados=%{y}<br>POSTULACIONES=%{marker.size}\", \"legendgroup\": \"country=Belgium\", \"marker\": {\"color\": \"#3366CC\", \"size\": [6.0], \"sizemode\": \"area\", \"sizeref\": 0.0646938775510204, \"symbol\": \"circle\"}, \"mode\": \"markers\", \"name\": \"country=Belgium\", \"showlegend\": true, \"type\": \"scatter\", \"x\": [1], \"xaxis\": \"x\", \"y\": [16.7], \"yaxis\": \"y\"}],\n",
              "                        {\"legend\": {\"itemsizing\": \"constant\", \"tracegroupgap\": 0}, \"template\": {\"data\": {\"scatter\": [{\"type\": \"scatter\"}]}}, \"title\": {\"text\": \"Porcentaje de aceptacion de las 10 paises con mas solicitudes a la BECAS de Magister\"}, \"xaxis\": {\"anchor\": \"y\", \"domain\": [0.0, 1.0], \"title\": {\"text\": \"SELECCIONADA\"}}, \"yaxis\": {\"anchor\": \"x\", \"domain\": [0.0, 1.0], \"title\": {\"text\": \"% Aceptados\"}}},\n",
              "                        {\"responsive\": true}\n",
              "                    ).then(function(){\n",
              "                            \n",
              "var gd = document.getElementById('38f38bff-06ff-4597-9014-3db7700f3e1a');\n",
              "var x = new MutationObserver(function (mutations, observer) {{\n",
              "        var display = window.getComputedStyle(gd).display;\n",
              "        if (!display || display === 'none') {{\n",
              "            console.log([gd, 'removed!']);\n",
              "            Plotly.purge(gd);\n",
              "            observer.disconnect();\n",
              "        }}\n",
              "}});\n",
              "\n",
              "// Listen for the removal of the full notebook cells\n",
              "var notebookContainer = gd.closest('#notebook-container');\n",
              "if (notebookContainer) {{\n",
              "    x.observe(notebookContainer, {childList: true});\n",
              "}}\n",
              "\n",
              "// Listen for the clearing of the current output cell\n",
              "var outputEl = gd.closest('.output');\n",
              "if (outputEl) {{\n",
              "    x.observe(outputEl, {childList: true});\n",
              "}}\n",
              "\n",
              "                        })\n",
              "                };\n",
              "                \n",
              "            </script>\n",
              "        </div>\n",
              "</body>\n",
              "</html>"
            ]
          },
          "metadata": {
            "tags": []
          }
        }
      ]
    },
    {
      "cell_type": "markdown",
      "metadata": {
        "id": "5vCNO8idzspM",
        "colab_type": "text"
      },
      "source": [
        "# ***Revision de Puntajes por paises y universidades***"
      ]
    },
    {
      "cell_type": "code",
      "metadata": {
        "id": "QqLM12BZQtUJ",
        "colab_type": "code",
        "colab": {
          "base_uri": "https://localhost:8080/",
          "height": 306
        },
        "outputId": "f1ae18da-d89e-468a-b484-a25c4bcc337b"
      },
      "source": [
        "df_datos.head()"
      ],
      "execution_count": null,
      "outputs": [
        {
          "output_type": "execute_result",
          "data": {
            "text/html": [
              "<div>\n",
              "<style scoped>\n",
              "    .dataframe tbody tr th:only-of-type {\n",
              "        vertical-align: middle;\n",
              "    }\n",
              "\n",
              "    .dataframe tbody tr th {\n",
              "        vertical-align: top;\n",
              "    }\n",
              "\n",
              "    .dataframe thead th {\n",
              "        text-align: right;\n",
              "    }\n",
              "</style>\n",
              "<table border=\"1\" class=\"dataframe\">\n",
              "  <thead>\n",
              "    <tr style=\"text-align: right;\">\n",
              "      <th></th>\n",
              "      <th>index</th>\n",
              "      <th>FOLIO</th>\n",
              "      <th>SEXO</th>\n",
              "      <th>NOMBRE</th>\n",
              "      <th>ESTADO</th>\n",
              "      <th>INSTITUCION DE DESTINO</th>\n",
              "      <th>NO SELECCIONADA</th>\n",
              "      <th>SELECCIONADA</th>\n",
              "      <th>country</th>\n",
              "      <th>PUNTAJES_NUMERO</th>\n",
              "    </tr>\n",
              "  </thead>\n",
              "  <tbody>\n",
              "    <tr>\n",
              "      <th>0</th>\n",
              "      <td>0</td>\n",
              "      <td>73200636.0</td>\n",
              "      <td>FEMENINO</td>\n",
              "      <td>DELANO BAUDET PIA ALEJANDRA</td>\n",
              "      <td>NO SELECCIONADA</td>\n",
              "      <td>BOSTON UNIVERSITY</td>\n",
              "      <td>1</td>\n",
              "      <td>0</td>\n",
              "      <td>USA</td>\n",
              "      <td>4.618</td>\n",
              "    </tr>\n",
              "    <tr>\n",
              "      <th>1</th>\n",
              "      <td>1</td>\n",
              "      <td>73200185.0</td>\n",
              "      <td>FEMENINO</td>\n",
              "      <td>ANDRADE SEPULVEDA KAREEN NICOLE</td>\n",
              "      <td>NO SELECCIONADA</td>\n",
              "      <td>UNIVERSIDADE DE SAO PAULO</td>\n",
              "      <td>1</td>\n",
              "      <td>0</td>\n",
              "      <td>Brazil</td>\n",
              "      <td>4.617</td>\n",
              "    </tr>\n",
              "    <tr>\n",
              "      <th>2</th>\n",
              "      <td>2</td>\n",
              "      <td>73200547.0</td>\n",
              "      <td>FEMENINO</td>\n",
              "      <td>PEREZ PAREDES DANIELA ALEJANDRA</td>\n",
              "      <td>NO SELECCIONADA</td>\n",
              "      <td>UNIVERSITY OF MELBOURNE</td>\n",
              "      <td>1</td>\n",
              "      <td>0</td>\n",
              "      <td>Australia</td>\n",
              "      <td>4.615</td>\n",
              "    </tr>\n",
              "    <tr>\n",
              "      <th>3</th>\n",
              "      <td>3</td>\n",
              "      <td>73200569.0</td>\n",
              "      <td>MASCULINO</td>\n",
              "      <td>CARMONA FONATINE PEDRO LEON</td>\n",
              "      <td>NO SELECCIONADA</td>\n",
              "      <td>UNIVERSITY OF EDINBURGH</td>\n",
              "      <td>1</td>\n",
              "      <td>0</td>\n",
              "      <td>United Kingdom</td>\n",
              "      <td>4.614</td>\n",
              "    </tr>\n",
              "    <tr>\n",
              "      <th>4</th>\n",
              "      <td>4</td>\n",
              "      <td>73200040.0</td>\n",
              "      <td>FEMENINO</td>\n",
              "      <td>YAÑEZ TORRES MARIA FLORENCIA</td>\n",
              "      <td>NO SELECCIONADA</td>\n",
              "      <td>UNIVERSITY OF SYDNEY</td>\n",
              "      <td>1</td>\n",
              "      <td>0</td>\n",
              "      <td>Australia</td>\n",
              "      <td>4.614</td>\n",
              "    </tr>\n",
              "  </tbody>\n",
              "</table>\n",
              "</div>"
            ],
            "text/plain": [
              "   index       FOLIO       SEXO  ... SELECCIONADA         country PUNTAJES_NUMERO\n",
              "0      0  73200636.0   FEMENINO  ...            0             USA           4.618\n",
              "1      1  73200185.0   FEMENINO  ...            0          Brazil           4.617\n",
              "2      2  73200547.0   FEMENINO  ...            0       Australia           4.615\n",
              "3      3  73200569.0  MASCULINO  ...            0  United Kingdom           4.614\n",
              "4      4  73200040.0   FEMENINO  ...            0       Australia           4.614\n",
              "\n",
              "[5 rows x 10 columns]"
            ]
          },
          "metadata": {
            "tags": []
          },
          "execution_count": 245
        }
      ]
    },
    {
      "cell_type": "code",
      "metadata": {
        "id": "gdjXbVq80glu",
        "colab_type": "code",
        "colab": {}
      },
      "source": [
        "def string_numero():\n",
        "    cantidad = 0\n",
        "    valores = []\n",
        "    resultado['PUNTAJE_NUMERO'] = 0\n",
        "    for i in resultado['PUNTAJE']:\n",
        "       numero = ''\n",
        "       numero_lista = list(i)\n",
        "       for x in numero_lista:\n",
        "            if x != ',':\n",
        "              numero = numero + x\n",
        "        \n",
        "       numero = float(numero)/1000\n",
        "       #print(numero)\n",
        "       #resultado['PUNTAJE_NUMERO'][cantidad] = numero\n",
        "       valores.append(numero)\n",
        "       cantidad = cantidad + 1\n",
        "    \n",
        "    valores = pd.DataFrame(valores, columns =['PUNTAJES_NUMERO'])\n",
        "    return valores"
      ],
      "execution_count": null,
      "outputs": []
    },
    {
      "cell_type": "code",
      "metadata": {
        "id": "kaWucmBp4aFo",
        "colab_type": "code",
        "colab": {}
      },
      "source": [
        "#resultado = pd.concat([resultado, df_puntajes], axis=1, sort=False)\n",
        "#resultado\n",
        "\n",
        "#resultado = resultado.reset_index()\n",
        "#resultado = pd.concat([resultado, df_puntajes], axis=1, sort=False)\n",
        "#resultado.drop('PUNTAJE', inplace = True, axis = 1)\n",
        "#resultado.drop('PUNTAJE_NUMERO', inplace = True, axis = 1)"
      ],
      "execution_count": null,
      "outputs": []
    },
    {
      "cell_type": "code",
      "metadata": {
        "id": "onzu1-LB703d",
        "colab_type": "code",
        "colab": {
          "base_uri": "https://localhost:8080/",
          "height": 410
        },
        "outputId": "c6ac21c8-40f4-41d7-bb7a-a19bc6bd6252"
      },
      "source": [
        "def histograma_puntaje():\n",
        "\n",
        "      plt.figure(figsize= (12,6))\n",
        "      sns.set_style(\"white\")\n",
        "\n",
        "      #Histograma de los puntajes por seleccionados y no seleccionados\n",
        "      sns.distplot(df_datos.loc[df_datos['ESTADO'] == 'NO SELECCIONADA']['PUNTAJES_NUMERO'], kde = False, bins = 10, label = 'NO SELECCIONADOS')\n",
        "      sns.distplot(df_datos.loc[df_datos['ESTADO'] == 'SELECCIONADA']['PUNTAJES_NUMERO'], kde = False, bins = 10, label = 'SELECCIONADOS')\n",
        "      \n",
        "      #Promedio de puntaje por seleccionado y no seleccionados\n",
        "      promedio_no = round(df_datos.loc[df_datos['ESTADO'] == 'NO SELECCIONADA']['PUNTAJES_NUMERO'].mean(),2)\n",
        "      promedio_si = round(df_datos.loc[df_datos['ESTADO'] == 'SELECCIONADA']['PUNTAJES_NUMERO'].mean(),2)\n",
        "\n",
        "      #Linea promedio para seleccionados y no seleccionados\n",
        "      plt.axvline(x=df_datos.loc[df_datos['ESTADO'] == 'NO SELECCIONADA']['PUNTAJES_NUMERO'].mean(), color='b', linestyle='--', label = 'Promedio No Seleccionados: {}'.format(promedio_no))\n",
        "      plt.axvline(x=df_datos.loc[df_datos['ESTADO'] == 'SELECCIONADA']['PUNTAJES_NUMERO'].mean(), color='r', linestyle='--', label = 'Promedio Seleccionados: {}'.format(promedio_si))\n",
        "\n",
        "      plt.title('Distribucion de los puntajes para los cantidados seleccionados y no seleccionados')\n",
        "\n",
        "      plt.legend()\n",
        "\n",
        "      sns.despine(left=True,top = True,bottom = False)\n",
        "\n",
        "histograma_puntaje()\n",
        "    "
      ],
      "execution_count": null,
      "outputs": [
        {
          "output_type": "display_data",
          "data": {
            "image/png": "[encoded data removed]",
            "text/plain": [
              "<Figure size 864x432 with 1 Axes>"
            ]
          },
          "metadata": {
            "tags": []
          }
        }
      ]
    },
    {
      "cell_type": "code",
      "metadata": {
        "id": "MZnpiham_mwA",
        "colab_type": "code",
        "colab": {
          "base_uri": "https://localhost:8080/",
          "height": 502
        },
        "outputId": "044218c2-e410-4cc4-af27-4902bf748566"
      },
      "source": [
        "paises_10 = list(df_datos.groupby('country').count()['FOLIO'].reset_index().sort_values(by='FOLIO', ascending = False)[:10]['country'])\n",
        "\n",
        "df_datos = df_datos[df_datos['country'].isin(paises_10)]\n",
        "plt.figure(figsize= (15,8))\n",
        "sns.boxplot(x = 'PUNTAJES_NUMERO', y = 'country', hue = 'ESTADO', data = df_datos)\n",
        "sns.despine(left=True,top = True,bottom = False)"
      ],
      "execution_count": null,
      "outputs": [
        {
          "output_type": "display_data",
          "data": {
            "image/png": "[encoded data removed]",
            "text/plain": [
              "<Figure size 1080x576 with 1 Axes>"
            ]
          },
          "metadata": {
            "tags": []
          }
        }
      ]
    },
    {
      "cell_type": "code",
      "metadata": {
        "id": "2m2kY9dt44UC",
        "colab_type": "code",
        "colab": {
          "base_uri": "https://localhost:8080/",
          "height": 498
        },
        "outputId": "dde1c379-11e9-40c6-f493-92aad98a70d4"
      },
      "source": [
        "def puntajes_universidades(n):\n",
        "\n",
        "      universidad_n = list(resultado.groupby('INSTITUCION DE DESTINO').count()['FOLIO'].reset_index().sort_values('FOLIO', ascending = False)[:n+1]['INSTITUCION DE DESTINO'])\n",
        "      \n",
        "      resultado_n = df_datos[df_datos['INSTITUCION DE DESTINO'].isin(universidad_n)]\n",
        "\n",
        "      plt.figure(figsize= (15,8))\n",
        "\n",
        "      sns.boxplot(x = 'PUNTAJES_NUMERO', y = 'INSTITUCION DE DESTINO', hue = 'ESTADO', data = resultado_n)\n",
        "\n",
        "      sns.despine(left=True,top = True,bottom = False)\n",
        "      \n",
        "puntajes_universidades(n)"
      ],
      "execution_count": null,
      "outputs": [
        {
          "output_type": "display_data",
          "data": {
            "image/png": "[encoded data removed]",
            "text/plain": [
              "<Figure size 1080x576 with 1 Axes>"
            ]
          },
          "metadata": {
            "tags": [],
            "needs_background": "light"
          }
        }
      ]
    }
  ]
}