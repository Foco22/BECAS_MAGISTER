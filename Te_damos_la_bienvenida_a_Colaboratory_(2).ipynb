{
  "nbformat": 4,
  "nbformat_minor": 0,
  "metadata": {
    "colab": {
      "name": "Te_damos_la_bienvenida_a_Colaboratory (2).ipynb",
      "provenance": [],
      "collapsed_sections": [],
      "include_colab_link": true
    },
    "kernelspec": {
      "display_name": "Python 3",
      "name": "python3"
    }
  },
  "cells": [
    {
      "cell_type": "markdown",
      "metadata": {
        "id": "view-in-github",
        "colab_type": "text"
      },
      "source": [
        "<a href=\"https://colab.research.google.com/github/Foco22/BECAS_MAGISTER/blob/master/Te_damos_la_bienvenida_a_Colaboratory_(2).ipynb\" target=\"_parent\"><img src=\"https://colab.research.google.com/assets/colab-badge.svg\" alt=\"Open In Colab\"/></a>"
      ]
    },
    {
      "cell_type": "code",
      "metadata": {
        "id": "ECeAsZcDo4fd",
        "colab_type": "code",
        "colab": {
          "base_uri": "https://localhost:8080/",
          "height": 637
        },
        "outputId": "a2011396-06a2-40e5-967b-8844d39c0945"
      },
      "source": [
        "!pip install \"camelot-py[cv]\""
      ],
      "execution_count": 1,
      "outputs": [
        {
          "output_type": "stream",
          "text": [
            "Collecting camelot-py[cv]\n",
            "\u001b[?25l  Downloading https://files.pythonhosted.org/packages/ed/78/123007d6aff9811bd087ff5dd68e06a9df62b2fdbf7685d74c9d6f247921/camelot_py-0.8.2-py3-none-any.whl (42kB)\n",
            "\u001b[K     |████████████████████████████████| 51kB 2.4MB/s \n",
            "\u001b[?25hRequirement already satisfied: openpyxl>=2.5.8 in /usr/local/lib/python3.6/dist-packages (from camelot-py[cv]) (2.5.9)\n",
            "Collecting pdfminer.six>=20200726\n",
            "\u001b[?25l  Downloading https://files.pythonhosted.org/packages/98/12/ab5ebafc4cb2b49847de7bfc26f2d152f42a4af136263152d070c61dfd7d/pdfminer.six-20200726-py3-none-any.whl (5.6MB)\n",
            "\u001b[K     |████████████████████████████████| 5.6MB 5.3MB/s \n",
            "\u001b[?25hRequirement already satisfied: chardet>=3.0.4 in /usr/local/lib/python3.6/dist-packages (from camelot-py[cv]) (3.0.4)\n",
            "Requirement already satisfied: pandas>=0.23.4 in /usr/local/lib/python3.6/dist-packages (from camelot-py[cv]) (1.0.5)\n",
            "Requirement already satisfied: click>=6.7 in /usr/local/lib/python3.6/dist-packages (from camelot-py[cv]) (7.1.2)\n",
            "Collecting PyPDF2>=1.26.0\n",
            "\u001b[?25l  Downloading https://files.pythonhosted.org/packages/b4/01/68fcc0d43daf4c6bdbc6b33cc3f77bda531c86b174cac56ef0ffdb96faab/PyPDF2-1.26.0.tar.gz (77kB)\n",
            "\u001b[K     |████████████████████████████████| 81kB 6.8MB/s \n",
            "\u001b[?25hRequirement already satisfied: numpy>=1.13.3 in /usr/local/lib/python3.6/dist-packages (from camelot-py[cv]) (1.18.5)\n",
            "Requirement already satisfied: opencv-python>=3.4.2.17; extra == \"cv\" in /usr/local/lib/python3.6/dist-packages (from camelot-py[cv]) (4.1.2.30)\n",
            "Requirement already satisfied: et-xmlfile in /usr/local/lib/python3.6/dist-packages (from openpyxl>=2.5.8->camelot-py[cv]) (1.0.1)\n",
            "Requirement already satisfied: jdcal in /usr/local/lib/python3.6/dist-packages (from openpyxl>=2.5.8->camelot-py[cv]) (1.4.1)\n",
            "Collecting cryptography\n",
            "\u001b[?25l  Downloading https://files.pythonhosted.org/packages/c0/9c/647e559a6e8be493dc2a7a5d15d26cb501ca60ec299b356f23839a673a83/cryptography-3.1-cp35-abi3-manylinux2010_x86_64.whl (2.6MB)\n",
            "\u001b[K     |████████████████████████████████| 2.6MB 43.0MB/s \n",
            "\u001b[?25hRequirement already satisfied: sortedcontainers in /usr/local/lib/python3.6/dist-packages (from pdfminer.six>=20200726->camelot-py[cv]) (2.2.2)\n",
            "Requirement already satisfied: pytz>=2017.2 in /usr/local/lib/python3.6/dist-packages (from pandas>=0.23.4->camelot-py[cv]) (2018.9)\n",
            "Requirement already satisfied: python-dateutil>=2.6.1 in /usr/local/lib/python3.6/dist-packages (from pandas>=0.23.4->camelot-py[cv]) (2.8.1)\n",
            "Requirement already satisfied: six>=1.4.1 in /usr/local/lib/python3.6/dist-packages (from cryptography->pdfminer.six>=20200726->camelot-py[cv]) (1.15.0)\n",
            "Requirement already satisfied: cffi!=1.11.3,>=1.8 in /usr/local/lib/python3.6/dist-packages (from cryptography->pdfminer.six>=20200726->camelot-py[cv]) (1.14.2)\n",
            "Requirement already satisfied: pycparser in /usr/local/lib/python3.6/dist-packages (from cffi!=1.11.3,>=1.8->cryptography->pdfminer.six>=20200726->camelot-py[cv]) (2.20)\n",
            "Building wheels for collected packages: PyPDF2\n",
            "  Building wheel for PyPDF2 (setup.py) ... \u001b[?25l\u001b[?25hdone\n",
            "  Created wheel for PyPDF2: filename=PyPDF2-1.26.0-cp36-none-any.whl size=61086 sha256=d9592d336b821bcd7d3902101e1af6583d35d91a9d9e24af288a2ba26e2785e2\n",
            "  Stored in directory: /root/.cache/pip/wheels/53/84/19/35bc977c8bf5f0c23a8a011aa958acd4da4bbd7a229315c1b7\n",
            "Successfully built PyPDF2\n",
            "Installing collected packages: cryptography, pdfminer.six, PyPDF2, camelot-py\n",
            "Successfully installed PyPDF2-1.26.0 camelot-py-0.8.2 cryptography-3.1 pdfminer.six-20200726\n"
          ],
          "name": "stdout"
        }
      ]
    },
    {
      "cell_type": "code",
      "metadata": {
        "id": "0RZuavKC7PXV",
        "colab_type": "code",
        "colab": {
          "base_uri": "https://localhost:8080/",
          "height": 1000
        },
        "outputId": "3e19fc6d-bbd9-46d1-80d0-5cf613725de2"
      },
      "source": [
        "!apt install python3-tk ghostscript"
      ],
      "execution_count": 2,
      "outputs": [
        {
          "output_type": "stream",
          "text": [
            "Reading package lists... Done\n",
            "Building dependency tree       \n",
            "Reading state information... Done\n",
            "python3-tk is already the newest version (3.6.9-1~18.04).\n",
            "The following package was automatically installed and is no longer required:\n",
            "  libnvidia-common-440\n",
            "Use 'apt autoremove' to remove it.\n",
            "The following additional packages will be installed:\n",
            "  fonts-droid-fallback fonts-noto-mono gsfonts libcupsfilters1 libcupsimage2\n",
            "  libgs9 libgs9-common libijs-0.35 libjbig2dec0 poppler-data\n",
            "Suggested packages:\n",
            "  fonts-noto ghostscript-x poppler-utils fonts-japanese-mincho\n",
            "  | fonts-ipafont-mincho fonts-japanese-gothic | fonts-ipafont-gothic\n",
            "  fonts-arphic-ukai fonts-arphic-uming fonts-nanum\n",
            "The following NEW packages will be installed:\n",
            "  fonts-droid-fallback fonts-noto-mono ghostscript gsfonts libcupsfilters1\n",
            "  libcupsimage2 libgs9 libgs9-common libijs-0.35 libjbig2dec0 poppler-data\n",
            "0 upgraded, 11 newly installed, 0 to remove and 39 not upgraded.\n",
            "Need to get 14.1 MB of archives.\n",
            "After this operation, 49.9 MB of additional disk space will be used.\n",
            "Get:1 http://archive.ubuntu.com/ubuntu bionic/main amd64 fonts-droid-fallback all 1:6.0.1r16-1.1 [1,805 kB]\n",
            "Get:2 http://archive.ubuntu.com/ubuntu bionic/main amd64 poppler-data all 0.4.8-2 [1,479 kB]\n",
            "Get:3 http://archive.ubuntu.com/ubuntu bionic/main amd64 fonts-noto-mono all 20171026-2 [75.5 kB]\n",
            "Get:4 http://archive.ubuntu.com/ubuntu bionic-updates/main amd64 libcupsimage2 amd64 2.2.7-1ubuntu2.8 [18.6 kB]\n",
            "Get:5 http://archive.ubuntu.com/ubuntu bionic/main amd64 libijs-0.35 amd64 0.35-13 [15.5 kB]\n",
            "Get:6 http://archive.ubuntu.com/ubuntu bionic/main amd64 libjbig2dec0 amd64 0.13-6 [55.9 kB]\n",
            "Get:7 http://archive.ubuntu.com/ubuntu bionic-updates/main amd64 libgs9-common all 9.26~dfsg+0-0ubuntu0.18.04.13 [5,092 kB]\n",
            "Get:8 http://archive.ubuntu.com/ubuntu bionic-updates/main amd64 libgs9 amd64 9.26~dfsg+0-0ubuntu0.18.04.13 [2,263 kB]\n",
            "Get:9 http://archive.ubuntu.com/ubuntu bionic-updates/main amd64 ghostscript amd64 9.26~dfsg+0-0ubuntu0.18.04.13 [51.0 kB]\n",
            "Get:10 http://archive.ubuntu.com/ubuntu bionic/main amd64 gsfonts all 1:8.11+urwcyr1.0.7~pre44-4.4 [3,120 kB]\n",
            "Get:11 http://archive.ubuntu.com/ubuntu bionic-updates/main amd64 libcupsfilters1 amd64 1.20.2-0ubuntu3.1 [108 kB]\n",
            "Fetched 14.1 MB in 2s (6,786 kB/s)\n",
            "Selecting previously unselected package fonts-droid-fallback.\n",
            "(Reading database ... 144579 files and directories currently installed.)\n",
            "Preparing to unpack .../00-fonts-droid-fallback_1%3a6.0.1r16-1.1_all.deb ...\n",
            "Unpacking fonts-droid-fallback (1:6.0.1r16-1.1) ...\n",
            "Selecting previously unselected package poppler-data.\n",
            "Preparing to unpack .../01-poppler-data_0.4.8-2_all.deb ...\n",
            "Unpacking poppler-data (0.4.8-2) ...\n",
            "Selecting previously unselected package fonts-noto-mono.\n",
            "Preparing to unpack .../02-fonts-noto-mono_20171026-2_all.deb ...\n",
            "Unpacking fonts-noto-mono (20171026-2) ...\n",
            "Selecting previously unselected package libcupsimage2:amd64.\n",
            "Preparing to unpack .../03-libcupsimage2_2.2.7-1ubuntu2.8_amd64.deb ...\n",
            "Unpacking libcupsimage2:amd64 (2.2.7-1ubuntu2.8) ...\n",
            "Selecting previously unselected package libijs-0.35:amd64.\n",
            "Preparing to unpack .../04-libijs-0.35_0.35-13_amd64.deb ...\n",
            "Unpacking libijs-0.35:amd64 (0.35-13) ...\n",
            "Selecting previously unselected package libjbig2dec0:amd64.\n",
            "Preparing to unpack .../05-libjbig2dec0_0.13-6_amd64.deb ...\n",
            "Unpacking libjbig2dec0:amd64 (0.13-6) ...\n",
            "Selecting previously unselected package libgs9-common.\n",
            "Preparing to unpack .../06-libgs9-common_9.26~dfsg+0-0ubuntu0.18.04.13_all.deb ...\n",
            "Unpacking libgs9-common (9.26~dfsg+0-0ubuntu0.18.04.13) ...\n",
            "Selecting previously unselected package libgs9:amd64.\n",
            "Preparing to unpack .../07-libgs9_9.26~dfsg+0-0ubuntu0.18.04.13_amd64.deb ...\n",
            "Unpacking libgs9:amd64 (9.26~dfsg+0-0ubuntu0.18.04.13) ...\n",
            "Selecting previously unselected package ghostscript.\n",
            "Preparing to unpack .../08-ghostscript_9.26~dfsg+0-0ubuntu0.18.04.13_amd64.deb ...\n",
            "Unpacking ghostscript (9.26~dfsg+0-0ubuntu0.18.04.13) ...\n",
            "Selecting previously unselected package gsfonts.\n",
            "Preparing to unpack .../09-gsfonts_1%3a8.11+urwcyr1.0.7~pre44-4.4_all.deb ...\n",
            "Unpacking gsfonts (1:8.11+urwcyr1.0.7~pre44-4.4) ...\n",
            "Selecting previously unselected package libcupsfilters1:amd64.\n",
            "Preparing to unpack .../10-libcupsfilters1_1.20.2-0ubuntu3.1_amd64.deb ...\n",
            "Unpacking libcupsfilters1:amd64 (1.20.2-0ubuntu3.1) ...\n",
            "Setting up libgs9-common (9.26~dfsg+0-0ubuntu0.18.04.13) ...\n",
            "Setting up fonts-droid-fallback (1:6.0.1r16-1.1) ...\n",
            "Setting up gsfonts (1:8.11+urwcyr1.0.7~pre44-4.4) ...\n",
            "Setting up poppler-data (0.4.8-2) ...\n",
            "Setting up fonts-noto-mono (20171026-2) ...\n",
            "Setting up libcupsfilters1:amd64 (1.20.2-0ubuntu3.1) ...\n",
            "Setting up libcupsimage2:amd64 (2.2.7-1ubuntu2.8) ...\n",
            "Setting up libjbig2dec0:amd64 (0.13-6) ...\n",
            "Setting up libijs-0.35:amd64 (0.35-13) ...\n",
            "Setting up libgs9:amd64 (9.26~dfsg+0-0ubuntu0.18.04.13) ...\n",
            "Setting up ghostscript (9.26~dfsg+0-0ubuntu0.18.04.13) ...\n",
            "Processing triggers for man-db (2.8.3-2ubuntu0.1) ...\n",
            "Processing triggers for fontconfig (2.12.6-0ubuntu2) ...\n",
            "Processing triggers for libc-bin (2.27-3ubuntu1) ...\n",
            "/sbin/ldconfig.real: /usr/local/lib/python3.6/dist-packages/ideep4py/lib/libmkldnn.so.0 is not a symbolic link\n",
            "\n"
          ],
          "name": "stdout"
        }
      ]
    },
    {
      "cell_type": "code",
      "metadata": {
        "id": "zcwd4yL_6A_I",
        "colab_type": "code",
        "colab": {
          "base_uri": "https://localhost:8080/",
          "height": 74
        },
        "outputId": "a30c72f1-5bc0-407b-c5bc-e60701a02e59"
      },
      "source": [
        "import camelot\n",
        "import pandas as pd\n",
        "import numpy as np \n",
        "import matplotlib.pyplot as plt\n",
        "import seaborn as sns"
      ],
      "execution_count": 3,
      "outputs": [
        {
          "output_type": "stream",
          "text": [
            "/usr/local/lib/python3.6/dist-packages/statsmodels/tools/_testing.py:19: FutureWarning: pandas.util.testing is deprecated. Use the functions in the public API at pandas.testing instead.\n",
            "  import pandas.util.testing as tm\n"
          ],
          "name": "stderr"
        }
      ]
    },
    {
      "cell_type": "markdown",
      "metadata": {
        "id": "ionI8Z5JLcPP",
        "colab_type": "text"
      },
      "source": [
        "# ***Exportacion y Preparacion de los datos***\n"
      ]
    },
    {
      "cell_type": "code",
      "metadata": {
        "id": "DHqzlnwULgiC",
        "colab_type": "code",
        "colab": {}
      },
      "source": [
        "def extraccion_informacion_2019():\n",
        "    \n",
        "    from google.colab import files\n",
        "    uploaded = files.upload()  \n",
        "\n",
        "    tables_1 = camelot.read_pdf('RES_FALLO_MAG_7088_2019.pdf', pages='1-33')\n",
        "    tables_1.export('puntajes_mg_1.csv', f='csv', compress=True)\n",
        "\n",
        "\n",
        "    conteo = 0\n",
        "    lista_dataframes = []\n",
        "    for x in tables_1:\n",
        "        conteo = conteo +1 \n",
        "        x.to_csv('pagina 20191 {}.csv'.format(conteo)) \n",
        "        lista_dataframes.append('pagina 20191 {}.csv'.format(conteo))\n",
        "    df1 = pd.DataFrame()\n",
        "    for file in lista_dataframes:\n",
        "         df1 = pd.concat([df1, pd.read_csv(file)], ignore_index=True)\n",
        "\n",
        "    df1 = df1[['FOLIO','INSTITUCION DE DESTINO']]\n",
        "\n",
        "    tables_2 = camelot.read_pdf('RES_FALLO_MAG_7088_2019.pdf', pages='34-61')\n",
        "    tables_2.export('puntajes_mg_2.csv', f='csv', compress=True)\n",
        "\n",
        "\n",
        "    conteo = 0\n",
        "    lista_dataframes = []\n",
        "    for x in tables_2:\n",
        "        conteo = conteo +1 \n",
        "        x.to_csv('pagina 20192 {}.csv'.format(conteo)) \n",
        "        lista_dataframes.append('pagina 20192 {}.csv'.format(conteo))\n",
        "    df2 = pd.DataFrame()\n",
        "    for file in lista_dataframes:\n",
        "         df2 = pd.concat([df2, pd.read_csv(file)], ignore_index=True)\n",
        "\n",
        "    df = pd.merge(df2, df1, how='left', on=['FOLIO'])\n",
        "   \n",
        "    df.drop('Unnamed: 0', inplace = True, axis = 1)\n",
        "    df.drop('Unnamed: 1', inplace = True, axis = 1)\n",
        "    df.drop('FOLIO', inplace = True, axis = 1)\n",
        "    df.drop('NOMBRE', inplace = True, axis = 1)\n",
        "    df.drop('#', inplace = True, axis = 1)\n",
        "    df.drop('INSTITUCION DE DESTINO_x', inplace = True, axis = 1)\n",
        "    df = df.reset_index()\n",
        "    df.rename(columns = {'index':'INDICE'}, inplace = True)\n",
        "    df.rename(columns = {'INSTITUCION DE DESTINO_y':'INSTITUCION DE DESTINO'}, inplace = True)\n",
        "    df['PERIODO'] = 2019\n",
        "\n",
        "    return df"
      ],
      "execution_count": 4,
      "outputs": []
    },
    {
      "cell_type": "code",
      "metadata": {
        "id": "o10d7vWx5t4o",
        "colab_type": "code",
        "colab": {}
      },
      "source": [
        "def extraccion_informacion_2018():\n",
        "\n",
        "    from google.colab import files\n",
        "    uploaded = files.upload()  \n",
        "\n",
        "    tables = camelot.read_pdf('REX-7050-2018.pdf', pages='36-65')\n",
        "    tables.export('puntajes_mg_2018.csv', f='csv', compress=True)\n",
        "    conteo = 0\n",
        "    lista_dataframes = []\n",
        "    for x in tables:\n",
        "        conteo = conteo +1 \n",
        "        x.to_csv('pagina 2018 {}.csv'.format(conteo)) \n",
        "        lista_dataframes.append('pagina 2018 {}.csv'.format(conteo))\n",
        "    df = pd.DataFrame()\n",
        "    for file in lista_dataframes:\n",
        "        df = pd.concat([df, pd.read_csv(file)], ignore_index=True)\n",
        "\n",
        "    dff = df.fillna('')\n",
        "    dff['FOLIO'] = dff['FOLIO'].astype(str)\n",
        "    dff['llave'] = dff[['FOLIO', 'SEXO', 'NOMBRE']].agg(' '.join, axis=1)\n",
        "    dff = dff['llave'].str.split(' ', expand=True)\n",
        "    dff = dff.iloc[:,1:3]\n",
        "\n",
        "    valores = 0\n",
        "    for x in dff[1]:\n",
        "        if (x != 'FEMENINO') and (x != 'MASCULINO'):\n",
        "          dff.iloc[valores,0] = dff.iloc[valores,1]\n",
        "        valores =  valores +1\n",
        "        \n",
        "    dff = dff[1]\n",
        "    df = pd.concat([df, dff], axis=1, sort=False)\n",
        "    df['ESTADO'] = df['ESTADO'].fillna('FUERA DE BASES')\n",
        "    df.drop('Unnamed: 0', inplace = True, axis = 1)\n",
        "    df.drop('Unnamed: 1', inplace = True, axis = 1)\n",
        "    df.drop('#', inplace = True, axis = 1)\n",
        "    df.drop('FOLIO', inplace = True, axis = 1)\n",
        "    df.drop('SEXO', inplace = True, axis = 1)\n",
        "    df.drop('NOMBRE', inplace = True, axis = 1)\n",
        "    df.rename(columns = {1:'SEXO'}, inplace = True)\n",
        "    df = df.reset_index()\n",
        "    df.rename(columns = {'index':'INDICE'}, inplace = True)\n",
        "    df['PERIODO'] = 2018\n",
        "      \n",
        "    return df"
      ],
      "execution_count": 5,
      "outputs": []
    },
    {
      "cell_type": "code",
      "metadata": {
        "id": "QQ9_nb2JFOLZ",
        "colab_type": "code",
        "colab": {}
      },
      "source": [
        "def extraccion_informacion_2017():\n",
        "\n",
        "    from google.colab import files\n",
        "    uploaded = files.upload()  \n",
        "\n",
        "    tables = camelot.read_pdf('REX-6100_2017.pdf', pages='8-12')\n",
        "    tables.export('puntajes_mg.csv', f='csv', compress=True)\n",
        "\n",
        "    conteo = 0\n",
        "    lista_dataframes = []\n",
        "    for x in tables:\n",
        "        conteo = conteo +1 \n",
        "        x.to_csv('pagina 2017 {}.csv'.format(conteo)) \n",
        "        lista_dataframes.append('pagina 2017 {}.csv'.format(conteo))\n",
        "    df = pd.DataFrame()\n",
        "    for file in lista_dataframes:\n",
        "         df = pd.concat([df, pd.read_csv(file)], ignore_index=True)\n",
        "\n",
        "    df.drop('Unnamed: 0', inplace = True, axis = 1)\n",
        "    df.drop('Unnamed: 1', inplace = True, axis = 1)\n",
        "    df.drop('FOLIO', inplace = True, axis = 1)\n",
        "    df.drop('NOMBRE', inplace = True, axis = 1)\n",
        "    df.drop('#', inplace = True, axis = 1)\n",
        "    df = df.reset_index()\n",
        "    df.rename(columns = {'index':'INDICE'}, inplace = True)\n",
        "    df['SEXO'] = df['SEXO'].str.split(' ', expand=True)[0]\n",
        "    df['PERIODO'] = 2017\n",
        "\n",
        "    return df"
      ],
      "execution_count": 6,
      "outputs": []
    },
    {
      "cell_type": "code",
      "metadata": {
        "id": "z6gGxMa9FQvB",
        "colab_type": "code",
        "colab": {
          "resources": {
            "http://localhost:8080/nbextensions/google.colab/files.js": {
              "data": "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",
              "ok": true,
              "headers": [
                [
                  "content-type",
                  "application/javascript"
                ]
              ],
              "status": 200,
              "status_text": ""
            }
          },
          "base_uri": "https://localhost:8080/",
          "height": 185
        },
        "outputId": "d82e6c10-f6a3-4edf-ebae-7beba0ba6aee"
      },
      "source": [
        "df_2017 = extraccion_informacion_2017()\n",
        "df_2018 = extraccion_informacion_2018()\n",
        "df_2019 = extraccion_informacion_2019()"
      ],
      "execution_count": 7,
      "outputs": [
        {
          "output_type": "display_data",
          "data": {
            "text/html": [
              "\n",
              "     <input type=\"file\" id=\"files-a8599879-f4ee-4028-a0f4-0ca43e8c8d4c\" name=\"files[]\" multiple disabled\n",
              "        style=\"border:none\" />\n",
              "     <output id=\"result-a8599879-f4ee-4028-a0f4-0ca43e8c8d4c\">\n",
              "      Upload widget is only available when the cell has been executed in the\n",
              "      current browser session. Please rerun this cell to enable.\n",
              "      </output>\n",
              "      <script src=\"/nbextensions/google.colab/files.js\"></script> "
            ],
            "text/plain": [
              "<IPython.core.display.HTML object>"
            ]
          },
          "metadata": {
            "tags": []
          }
        },
        {
          "output_type": "stream",
          "text": [
            "Saving REX-6100_2017.pdf to REX-6100_2017.pdf\n"
          ],
          "name": "stdout"
        },
        {
          "output_type": "display_data",
          "data": {
            "text/html": [
              "\n",
              "     <input type=\"file\" id=\"files-f2062eef-ac6e-4703-818a-62de54903697\" name=\"files[]\" multiple disabled\n",
              "        style=\"border:none\" />\n",
              "     <output id=\"result-f2062eef-ac6e-4703-818a-62de54903697\">\n",
              "      Upload widget is only available when the cell has been executed in the\n",
              "      current browser session. Please rerun this cell to enable.\n",
              "      </output>\n",
              "      <script src=\"/nbextensions/google.colab/files.js\"></script> "
            ],
            "text/plain": [
              "<IPython.core.display.HTML object>"
            ]
          },
          "metadata": {
            "tags": []
          }
        },
        {
          "output_type": "stream",
          "text": [
            "Saving REX-7050-2018.pdf to REX-7050-2018.pdf\n"
          ],
          "name": "stdout"
        },
        {
          "output_type": "display_data",
          "data": {
            "text/html": [
              "\n",
              "     <input type=\"file\" id=\"files-fea80668-d573-408f-8bbd-168495675e75\" name=\"files[]\" multiple disabled\n",
              "        style=\"border:none\" />\n",
              "     <output id=\"result-fea80668-d573-408f-8bbd-168495675e75\">\n",
              "      Upload widget is only available when the cell has been executed in the\n",
              "      current browser session. Please rerun this cell to enable.\n",
              "      </output>\n",
              "      <script src=\"/nbextensions/google.colab/files.js\"></script> "
            ],
            "text/plain": [
              "<IPython.core.display.HTML object>"
            ]
          },
          "metadata": {
            "tags": []
          }
        },
        {
          "output_type": "stream",
          "text": [
            "Saving RES_FALLO_MAG_7088_2019.pdf to RES_FALLO_MAG_7088_2019.pdf\n"
          ],
          "name": "stdout"
        }
      ]
    },
    {
      "cell_type": "code",
      "metadata": {
        "id": "ac4HjOGxBEVQ",
        "colab_type": "code",
        "colab": {}
      },
      "source": [
        "\n",
        "df_2017 = df_2017[['INDICE', 'SEXO', 'INSTITUCIÓN DE DESTINO', 'ESTADO', 'PUNTAJE', 'PERIODO']]\n",
        "df_2018 = df_2018[['INDICE', 'SEXO', 'INSTITUCIÓN DE DESTINO', 'ESTADO', 'PUNTAJE', 'PERIODO']]\n",
        "df_2019.rename(columns = {'INSTITUCION DE DESTINO':'INSTITUCIÓN DE DESTINO'}, inplace = True)\n",
        "df_2019 = df_2019[['INDICE', 'SEXO', 'INSTITUCIÓN DE DESTINO', 'ESTADO', 'PUNTAJE', 'PERIODO']]\n",
        "frames = [df_2017, df_2018, df_2019]\n",
        "df = pd.concat(frames)"
      ],
      "execution_count": 27,
      "outputs": []
    },
    {
      "cell_type": "code",
      "metadata": {
        "id": "gxxFKvHoMbgG",
        "colab_type": "code",
        "colab": {}
      },
      "source": [
        "df = df.reset_index()\n",
        "df.drop('INDICE', inplace = True, axis = 1)\n",
        "df.rename(columns = {'index':'INDICE'}, inplace = True)"
      ],
      "execution_count": 28,
      "outputs": []
    },
    {
      "cell_type": "code",
      "metadata": {
        "id": "y7K21iyvPJuh",
        "colab_type": "code",
        "colab": {
          "base_uri": "https://localhost:8080/",
          "height": 198
        },
        "outputId": "6e459f8b-ba74-4c6f-ec9b-ad9803d6aac6"
      },
      "source": [
        "df.head()"
      ],
      "execution_count": 29,
      "outputs": [
        {
          "output_type": "execute_result",
          "data": {
            "text/html": [
              "<div>\n",
              "<style scoped>\n",
              "    .dataframe tbody tr th:only-of-type {\n",
              "        vertical-align: middle;\n",
              "    }\n",
              "\n",
              "    .dataframe tbody tr th {\n",
              "        vertical-align: top;\n",
              "    }\n",
              "\n",
              "    .dataframe thead th {\n",
              "        text-align: right;\n",
              "    }\n",
              "</style>\n",
              "<table border=\"1\" class=\"dataframe\">\n",
              "  <thead>\n",
              "    <tr style=\"text-align: right;\">\n",
              "      <th></th>\n",
              "      <th>INDICE</th>\n",
              "      <th>SEXO</th>\n",
              "      <th>INSTITUCIÓN DE DESTINO</th>\n",
              "      <th>ESTADO</th>\n",
              "      <th>PUNTAJE</th>\n",
              "      <th>PERIODO</th>\n",
              "    </tr>\n",
              "  </thead>\n",
              "  <tbody>\n",
              "    <tr>\n",
              "      <th>0</th>\n",
              "      <td>0</td>\n",
              "      <td>FEMENINO</td>\n",
              "      <td>UNIVERSIDAD AUTONOMA DE BARCELONA</td>\n",
              "      <td>FUERA DE BASES</td>\n",
              "      <td>NaN</td>\n",
              "      <td>2017</td>\n",
              "    </tr>\n",
              "    <tr>\n",
              "      <th>1</th>\n",
              "      <td>1</td>\n",
              "      <td>FEMENINO</td>\n",
              "      <td>UNIVERSITY OF AUCKLAND</td>\n",
              "      <td>FUERA DE BASES</td>\n",
              "      <td>NaN</td>\n",
              "      <td>2017</td>\n",
              "    </tr>\n",
              "    <tr>\n",
              "      <th>2</th>\n",
              "      <td>2</td>\n",
              "      <td>MASCULINO</td>\n",
              "      <td>UNIVERSIDAD AUTONOMA DE BARCELONA</td>\n",
              "      <td>FUERA DE BASES</td>\n",
              "      <td>NaN</td>\n",
              "      <td>2017</td>\n",
              "    </tr>\n",
              "    <tr>\n",
              "      <th>3</th>\n",
              "      <td>3</td>\n",
              "      <td>FEMENINO</td>\n",
              "      <td>UNIVERSITY OF BIRMINGHAM</td>\n",
              "      <td>FUERA DE BASES</td>\n",
              "      <td>NaN</td>\n",
              "      <td>2017</td>\n",
              "    </tr>\n",
              "    <tr>\n",
              "      <th>4</th>\n",
              "      <td>4</td>\n",
              "      <td>FEMENINO</td>\n",
              "      <td>UNIVERSITY COLLEGE LONDON</td>\n",
              "      <td>FUERA DE BASES</td>\n",
              "      <td>NaN</td>\n",
              "      <td>2017</td>\n",
              "    </tr>\n",
              "  </tbody>\n",
              "</table>\n",
              "</div>"
            ],
            "text/plain": [
              "   INDICE       SEXO  ... PUNTAJE PERIODO\n",
              "0       0   FEMENINO  ...     NaN    2017\n",
              "1       1   FEMENINO  ...     NaN    2017\n",
              "2       2  MASCULINO  ...     NaN    2017\n",
              "3       3   FEMENINO  ...     NaN    2017\n",
              "4       4   FEMENINO  ...     NaN    2017\n",
              "\n",
              "[5 rows x 6 columns]"
            ]
          },
          "metadata": {
            "tags": []
          },
          "execution_count": 29
        }
      ]
    },
    {
      "cell_type": "code",
      "metadata": {
        "id": "VAoDTWlQx08h",
        "colab_type": "code",
        "colab": {}
      },
      "source": [
        "df['ESTADO'].replace('NO SELECCIONADO','NO SELECCIONADA', inplace= True)\n",
        "df['ESTADO'].replace('SELECCIONADO','SELECCIONADA', inplace= True)"
      ],
      "execution_count": 32,
      "outputs": []
    },
    {
      "cell_type": "code",
      "metadata": {
        "id": "i2yXlxN-wrJw",
        "colab_type": "code",
        "colab": {
          "resources": {
            "http://localhost:8080/nbextensions/google.colab/files.js": {
              "data": "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",
              "ok": true,
              "headers": [
                [
                  "content-type",
                  "application/javascript"
                ]
              ],
              "status": 200,
              "status_text": ""
            }
          },
          "base_uri": "https://localhost:8080/",
          "height": 73
        },
        "outputId": "81b8f9c1-6268-4a76-b29f-e19ef4ec4dc9"
      },
      "source": [
        "def paises(df):\n",
        "\n",
        "  from google.colab import files\n",
        "  uploaded = files.upload()\n",
        "  import io\n",
        "  universidad = pd.read_csv(io.BytesIO(uploaded['mapeo_total.csv']), sep =';')\n",
        "  universidad.rename(columns = {'UNIVERSIDAD':'INSTITUCIÓN DE DESTINO'}, inplace = True)\n",
        "  df = pd.merge(df, universidad, how='left', on=['INSTITUCIÓN DE DESTINO'])\n",
        "  return df\n",
        "\n",
        "df = paises(df)"
      ],
      "execution_count": 34,
      "outputs": [
        {
          "output_type": "display_data",
          "data": {
            "text/html": [
              "\n",
              "     <input type=\"file\" id=\"files-a2aaa888-a892-450a-af48-4c5b948351ec\" name=\"files[]\" multiple disabled\n",
              "        style=\"border:none\" />\n",
              "     <output id=\"result-a2aaa888-a892-450a-af48-4c5b948351ec\">\n",
              "      Upload widget is only available when the cell has been executed in the\n",
              "      current browser session. Please rerun this cell to enable.\n",
              "      </output>\n",
              "      <script src=\"/nbextensions/google.colab/files.js\"></script> "
            ],
            "text/plain": [
              "<IPython.core.display.HTML object>"
            ]
          },
          "metadata": {
            "tags": []
          }
        },
        {
          "output_type": "stream",
          "text": [
            "Saving mapeo_total.csv to mapeo_total (2).csv\n"
          ],
          "name": "stdout"
        }
      ]
    },
    {
      "cell_type": "code",
      "metadata": {
        "id": "cJkjjIauP-JX",
        "colab_type": "code",
        "colab": {
          "base_uri": "https://localhost:8080/",
          "height": 198
        },
        "outputId": "e5a3c69c-424b-4eaf-9061-01ea2b605201"
      },
      "source": [
        "df = df.loc[df_datos['PAISES'] != 'NO']\n",
        "\n",
        "df.head()"
      ],
      "execution_count": 38,
      "outputs": [
        {
          "output_type": "execute_result",
          "data": {
            "text/html": [
              "<div>\n",
              "<style scoped>\n",
              "    .dataframe tbody tr th:only-of-type {\n",
              "        vertical-align: middle;\n",
              "    }\n",
              "\n",
              "    .dataframe tbody tr th {\n",
              "        vertical-align: top;\n",
              "    }\n",
              "\n",
              "    .dataframe thead th {\n",
              "        text-align: right;\n",
              "    }\n",
              "</style>\n",
              "<table border=\"1\" class=\"dataframe\">\n",
              "  <thead>\n",
              "    <tr style=\"text-align: right;\">\n",
              "      <th></th>\n",
              "      <th>INDICE</th>\n",
              "      <th>SEXO</th>\n",
              "      <th>INSTITUCIÓN DE DESTINO</th>\n",
              "      <th>ESTADO</th>\n",
              "      <th>PUNTAJE</th>\n",
              "      <th>PERIODO</th>\n",
              "      <th>PAISES</th>\n",
              "    </tr>\n",
              "  </thead>\n",
              "  <tbody>\n",
              "    <tr>\n",
              "      <th>0</th>\n",
              "      <td>0</td>\n",
              "      <td>FEMENINO</td>\n",
              "      <td>UNIVERSIDAD AUTONOMA DE BARCELONA</td>\n",
              "      <td>FUERA DE BASES</td>\n",
              "      <td>NaN</td>\n",
              "      <td>2017</td>\n",
              "      <td>Spain</td>\n",
              "    </tr>\n",
              "    <tr>\n",
              "      <th>1</th>\n",
              "      <td>1</td>\n",
              "      <td>FEMENINO</td>\n",
              "      <td>UNIVERSITY OF AUCKLAND</td>\n",
              "      <td>FUERA DE BASES</td>\n",
              "      <td>NaN</td>\n",
              "      <td>2017</td>\n",
              "      <td>New Zealand</td>\n",
              "    </tr>\n",
              "    <tr>\n",
              "      <th>2</th>\n",
              "      <td>2</td>\n",
              "      <td>MASCULINO</td>\n",
              "      <td>UNIVERSIDAD AUTONOMA DE BARCELONA</td>\n",
              "      <td>FUERA DE BASES</td>\n",
              "      <td>NaN</td>\n",
              "      <td>2017</td>\n",
              "      <td>Spain</td>\n",
              "    </tr>\n",
              "    <tr>\n",
              "      <th>3</th>\n",
              "      <td>3</td>\n",
              "      <td>FEMENINO</td>\n",
              "      <td>UNIVERSITY OF BIRMINGHAM</td>\n",
              "      <td>FUERA DE BASES</td>\n",
              "      <td>NaN</td>\n",
              "      <td>2017</td>\n",
              "      <td>United Kingdom</td>\n",
              "    </tr>\n",
              "    <tr>\n",
              "      <th>4</th>\n",
              "      <td>4</td>\n",
              "      <td>FEMENINO</td>\n",
              "      <td>UNIVERSITY COLLEGE LONDON</td>\n",
              "      <td>FUERA DE BASES</td>\n",
              "      <td>NaN</td>\n",
              "      <td>2017</td>\n",
              "      <td>United Kingdom</td>\n",
              "    </tr>\n",
              "  </tbody>\n",
              "</table>\n",
              "</div>"
            ],
            "text/plain": [
              "   INDICE       SEXO  ... PERIODO          PAISES\n",
              "0       0   FEMENINO  ...    2017           Spain\n",
              "1       1   FEMENINO  ...    2017     New Zealand\n",
              "2       2  MASCULINO  ...    2017           Spain\n",
              "3       3   FEMENINO  ...    2017  United Kingdom\n",
              "4       4   FEMENINO  ...    2017  United Kingdom\n",
              "\n",
              "[5 rows x 7 columns]"
            ]
          },
          "metadata": {
            "tags": []
          },
          "execution_count": 38
        }
      ]
    },
    {
      "cell_type": "markdown",
      "metadata": {
        "id": "PXWiddLJO-WV",
        "colab_type": "text"
      },
      "source": [
        "# ***Analisis y Exploracion de los datos***\n",
        "\n"
      ]
    },
    {
      "cell_type": "code",
      "metadata": {
        "id": "DpwiyvWIPE-L",
        "colab_type": "code",
        "colab": {
          "base_uri": "https://localhost:8080/",
          "height": 198
        },
        "outputId": "129d3400-19a6-4aed-dee4-14155328f0b5"
      },
      "source": [
        "df_datos = df\n",
        "df_datos.head()"
      ],
      "execution_count": 39,
      "outputs": [
        {
          "output_type": "execute_result",
          "data": {
            "text/html": [
              "<div>\n",
              "<style scoped>\n",
              "    .dataframe tbody tr th:only-of-type {\n",
              "        vertical-align: middle;\n",
              "    }\n",
              "\n",
              "    .dataframe tbody tr th {\n",
              "        vertical-align: top;\n",
              "    }\n",
              "\n",
              "    .dataframe thead th {\n",
              "        text-align: right;\n",
              "    }\n",
              "</style>\n",
              "<table border=\"1\" class=\"dataframe\">\n",
              "  <thead>\n",
              "    <tr style=\"text-align: right;\">\n",
              "      <th></th>\n",
              "      <th>INDICE</th>\n",
              "      <th>SEXO</th>\n",
              "      <th>INSTITUCIÓN DE DESTINO</th>\n",
              "      <th>ESTADO</th>\n",
              "      <th>PUNTAJE</th>\n",
              "      <th>PERIODO</th>\n",
              "      <th>PAISES</th>\n",
              "    </tr>\n",
              "  </thead>\n",
              "  <tbody>\n",
              "    <tr>\n",
              "      <th>0</th>\n",
              "      <td>0</td>\n",
              "      <td>FEMENINO</td>\n",
              "      <td>UNIVERSIDAD AUTONOMA DE BARCELONA</td>\n",
              "      <td>FUERA DE BASES</td>\n",
              "      <td>NaN</td>\n",
              "      <td>2017</td>\n",
              "      <td>Spain</td>\n",
              "    </tr>\n",
              "    <tr>\n",
              "      <th>1</th>\n",
              "      <td>1</td>\n",
              "      <td>FEMENINO</td>\n",
              "      <td>UNIVERSITY OF AUCKLAND</td>\n",
              "      <td>FUERA DE BASES</td>\n",
              "      <td>NaN</td>\n",
              "      <td>2017</td>\n",
              "      <td>New Zealand</td>\n",
              "    </tr>\n",
              "    <tr>\n",
              "      <th>2</th>\n",
              "      <td>2</td>\n",
              "      <td>MASCULINO</td>\n",
              "      <td>UNIVERSIDAD AUTONOMA DE BARCELONA</td>\n",
              "      <td>FUERA DE BASES</td>\n",
              "      <td>NaN</td>\n",
              "      <td>2017</td>\n",
              "      <td>Spain</td>\n",
              "    </tr>\n",
              "    <tr>\n",
              "      <th>3</th>\n",
              "      <td>3</td>\n",
              "      <td>FEMENINO</td>\n",
              "      <td>UNIVERSITY OF BIRMINGHAM</td>\n",
              "      <td>FUERA DE BASES</td>\n",
              "      <td>NaN</td>\n",
              "      <td>2017</td>\n",
              "      <td>United Kingdom</td>\n",
              "    </tr>\n",
              "    <tr>\n",
              "      <th>4</th>\n",
              "      <td>4</td>\n",
              "      <td>FEMENINO</td>\n",
              "      <td>UNIVERSITY COLLEGE LONDON</td>\n",
              "      <td>FUERA DE BASES</td>\n",
              "      <td>NaN</td>\n",
              "      <td>2017</td>\n",
              "      <td>United Kingdom</td>\n",
              "    </tr>\n",
              "  </tbody>\n",
              "</table>\n",
              "</div>"
            ],
            "text/plain": [
              "   INDICE       SEXO  ... PERIODO          PAISES\n",
              "0       0   FEMENINO  ...    2017           Spain\n",
              "1       1   FEMENINO  ...    2017     New Zealand\n",
              "2       2  MASCULINO  ...    2017           Spain\n",
              "3       3   FEMENINO  ...    2017  United Kingdom\n",
              "4       4   FEMENINO  ...    2017  United Kingdom\n",
              "\n",
              "[5 rows x 7 columns]"
            ]
          },
          "metadata": {
            "tags": []
          },
          "execution_count": 39
        }
      ]
    },
    {
      "cell_type": "code",
      "metadata": {
        "id": "h_ZWahWytxlo",
        "colab_type": "code",
        "colab": {
          "base_uri": "https://localhost:8080/",
          "height": 405
        },
        "outputId": "e3e74acf-7a60-4c5b-d1c3-1c53cd9114f2"
      },
      "source": [
        "plt.figure(figsize=(6,6))\n",
        "sns.set_color_codes(\"muted\")\n",
        "\n",
        "sns.set_style('whitegrid')\n",
        "#g = sns.barplot(y=\"INDICE\", x=\"ESTADO\", data=df_datos.groupby('ESTADO').count()['INDICE'].reset_index(),\n",
        "#            label=\"SELECCIONADA\", color=\"b\")\n",
        "sns.countplot(x = 'PERIODO', data = df_datos, hue = 'ESTADO')\n",
        "plt.title('Cantidad de postulaciones por periodo segmentado por estado', fontsize = 14)\n",
        "plt.ylabel('Cantidad de postulantes')\n",
        "plt.legend()\n",
        "sns.despine(left=True, bottom=True)"
      ],
      "execution_count": 40,
      "outputs": [
        {
          "output_type": "display_data",
          "data": {
            "image/png": "[encoded data removed]",
            "text/plain": [
              "<Figure size 432x432 with 1 Axes>"
            ]
          },
          "metadata": {
            "tags": []
          }
        }
      ]
    },
    {
      "cell_type": "code",
      "metadata": {
        "id": "pQq-z5LN_H1a",
        "colab_type": "code",
        "colab": {
          "base_uri": "https://localhost:8080/",
          "height": 297
        },
        "outputId": "d9fcc9b7-0f2a-401c-ebe3-94cb4a5511b8"
      },
      "source": [
        "# Pie chart\n",
        "labels = list(df_datos.groupby('ESTADO').count()['INDICE'].index)\n",
        "sizes = list(df_datos.groupby('ESTADO').count()['INDICE'].values)\n",
        "#colors\n",
        "colors = ['orange','#66b3ff','lightskyblue']\n",
        "#explsion\n",
        "explode = (0.05,0.05,0.05)\n",
        " \n",
        "fig1, ax1 = plt.subplots()\n",
        "ax1.pie(sizes, explode=explode, labels=labels, colors=colors, autopct='%1.1f%%',\n",
        "        shadow=True, startangle=90)\n",
        "\n",
        "# Equal aspect ratio ensures that pie is drawn as a circle\n",
        "plt.title('Distribution de Postulacion por Estado', fontsize = 14)\n",
        "plt.tight_layout()\n",
        "plt.show()\n"
      ],
      "execution_count": 41,
      "outputs": [
        {
          "output_type": "display_data",
          "data": {
            "image/png": "[encoded data removed]",
            "text/plain": [
              "<Figure size 432x288 with 1 Axes>"
            ]
          },
          "metadata": {
            "tags": []
          }
        }
      ]
    },
    {
      "cell_type": "code",
      "metadata": {
        "id": "Rtmcum6DFHBI",
        "colab_type": "code",
        "colab": {
          "base_uri": "https://localhost:8080/",
          "height": 297
        },
        "outputId": "76d76e2e-4f8e-46de-fee4-9150e5f5eec4"
      },
      "source": [
        "# Pie chart\n",
        "labels = list(df_datos.groupby('SEXO').count()['INDICE'].index)\n",
        "sizes = list(df_datos.groupby('SEXO').count()['INDICE'].values)\n",
        "#colors\n",
        "colors = ['orange','#66b3ff']\n",
        "#explsion\n",
        "explode = (0.05,0.05)\n",
        " \n",
        "fig1, ax1 = plt.subplots()\n",
        "ax1.pie(sizes, explode=explode, labels=labels, colors=colors, autopct='%1.1f%%',\n",
        "        shadow=True, startangle=90)\n",
        "\n",
        "# Equal aspect ratio ensures that pie is drawn as a circle\n",
        "plt.title('Distribution de postulantes por sexo')\n",
        "plt.tight_layout()\n",
        "plt.show()"
      ],
      "execution_count": 42,
      "outputs": [
        {
          "output_type": "display_data",
          "data": {
            "image/png": "[encoded data removed]",
            "text/plain": [
              "<Figure size 432x288 with 1 Axes>"
            ]
          },
          "metadata": {
            "tags": []
          }
        }
      ]
    },
    {
      "cell_type": "code",
      "metadata": {
        "id": "5AntHKVSQx_H",
        "colab_type": "code",
        "colab": {
          "base_uri": "https://localhost:8080/",
          "height": 388
        },
        "outputId": "67e472fd-7321-4673-aa28-875d6e1c1000"
      },
      "source": [
        "plt.figure(figsize=(8,6))\n",
        "\n",
        "sns.set_style('whitegrid')\n",
        "sns.countplot(x= 'ESTADO', data = df_datos, hue = 'SEXO')\n",
        "plt.ylabel('Cantidad de persona')\n",
        "sns.despine(left=True, bottom=True)"
      ],
      "execution_count": 43,
      "outputs": [
        {
          "output_type": "display_data",
          "data": {
            "image/png": "[encoded data removed]",
            "text/plain": [
              "<Figure size 576x432 with 1 Axes>"
            ]
          },
          "metadata": {
            "tags": []
          }
        }
      ]
    },
    {
      "cell_type": "markdown",
      "metadata": {
        "id": "MwFF41pXFMtK",
        "colab_type": "text"
      },
      "source": [
        "De aqui en adelante, solo se analizara la informacion de los seleccionados y no seleccionados, por lo que se filtrara la base por este subconjunto para el posterior analisis.\n"
      ]
    },
    {
      "cell_type": "code",
      "metadata": {
        "id": "_17Kk6BvQ9zo",
        "colab_type": "code",
        "colab": {
          "base_uri": "https://localhost:8080/",
          "height": 204
        },
        "outputId": "3b722007-fe42-463f-8e31-dee919f494d0"
      },
      "source": [
        "#df_datos = df_datos.loc[df_datos['ESTADO'] != 'FUERA DE BASES']\n",
        "#df_datos.head()"
      ],
      "execution_count": null,
      "outputs": [
        {
          "output_type": "execute_result",
          "data": {
            "text/html": [
              "<div>\n",
              "<style scoped>\n",
              "    .dataframe tbody tr th:only-of-type {\n",
              "        vertical-align: middle;\n",
              "    }\n",
              "\n",
              "    .dataframe tbody tr th {\n",
              "        vertical-align: top;\n",
              "    }\n",
              "\n",
              "    .dataframe thead th {\n",
              "        text-align: right;\n",
              "    }\n",
              "</style>\n",
              "<table border=\"1\" class=\"dataframe\">\n",
              "  <thead>\n",
              "    <tr style=\"text-align: right;\">\n",
              "      <th></th>\n",
              "      <th>#</th>\n",
              "      <th>FOLIO</th>\n",
              "      <th>SEXO</th>\n",
              "      <th>NOMBRE</th>\n",
              "      <th>ESTADO</th>\n",
              "      <th>INSTITUCION DE DESTINO</th>\n",
              "      <th>PUNTAJE</th>\n",
              "    </tr>\n",
              "  </thead>\n",
              "  <tbody>\n",
              "    <tr>\n",
              "      <th>234</th>\n",
              "      <td>1.0</td>\n",
              "      <td>73200636.0</td>\n",
              "      <td>FEMENINO</td>\n",
              "      <td>DELANO BAUDET PIA ALEJANDRA</td>\n",
              "      <td>NO SELECCIONADA</td>\n",
              "      <td>BOSTON UNIVERSITY</td>\n",
              "      <td>4,618</td>\n",
              "    </tr>\n",
              "    <tr>\n",
              "      <th>235</th>\n",
              "      <td>2.0</td>\n",
              "      <td>73200185.0</td>\n",
              "      <td>FEMENINO</td>\n",
              "      <td>ANDRADE SEPULVEDA KAREEN NICOLE</td>\n",
              "      <td>NO SELECCIONADA</td>\n",
              "      <td>UNIVERSIDADE DE SAO PAULO</td>\n",
              "      <td>4,617</td>\n",
              "    </tr>\n",
              "    <tr>\n",
              "      <th>236</th>\n",
              "      <td>3.0</td>\n",
              "      <td>73200547.0</td>\n",
              "      <td>FEMENINO</td>\n",
              "      <td>PEREZ PAREDES DANIELA ALEJANDRA</td>\n",
              "      <td>NO SELECCIONADA</td>\n",
              "      <td>UNIVERSITY OF MELBOURNE</td>\n",
              "      <td>4,615</td>\n",
              "    </tr>\n",
              "    <tr>\n",
              "      <th>237</th>\n",
              "      <td>4.0</td>\n",
              "      <td>73200569.0</td>\n",
              "      <td>MASCULINO</td>\n",
              "      <td>CARMONA FONATINE PEDRO LEON</td>\n",
              "      <td>NO SELECCIONADA</td>\n",
              "      <td>UNIVERSITY OF EDINBURGH</td>\n",
              "      <td>4,614</td>\n",
              "    </tr>\n",
              "    <tr>\n",
              "      <th>238</th>\n",
              "      <td>5.0</td>\n",
              "      <td>73200040.0</td>\n",
              "      <td>FEMENINO</td>\n",
              "      <td>YAÑEZ TORRES MARIA FLORENCIA</td>\n",
              "      <td>NO SELECCIONADA</td>\n",
              "      <td>UNIVERSITY OF SYDNEY</td>\n",
              "      <td>4,614</td>\n",
              "    </tr>\n",
              "  </tbody>\n",
              "</table>\n",
              "</div>"
            ],
            "text/plain": [
              "       #       FOLIO  ...     INSTITUCION DE DESTINO PUNTAJE\n",
              "234  1.0  73200636.0  ...          BOSTON UNIVERSITY   4,618\n",
              "235  2.0  73200185.0  ...  UNIVERSIDADE DE SAO PAULO   4,617\n",
              "236  3.0  73200547.0  ...    UNIVERSITY OF MELBOURNE   4,615\n",
              "237  4.0  73200569.0  ...    UNIVERSITY OF EDINBURGH   4,614\n",
              "238  5.0  73200040.0  ...       UNIVERSITY OF SYDNEY   4,614\n",
              "\n",
              "[5 rows x 7 columns]"
            ]
          },
          "metadata": {
            "tags": []
          },
          "execution_count": 163
        }
      ]
    },
    {
      "cell_type": "code",
      "metadata": {
        "id": "h0VJkjanU3rr",
        "colab_type": "code",
        "colab": {}
      },
      "source": [
        "dummies = pd.get_dummies(df_datos['ESTADO'])\n",
        "df_datos = pd.concat([df_datos, dummies], axis=1, sort=False)\n"
      ],
      "execution_count": 44,
      "outputs": []
    },
    {
      "cell_type": "code",
      "metadata": {
        "id": "fi8nO1ZJL758",
        "colab_type": "code",
        "colab": {}
      },
      "source": [
        "df_datos['INSTITUCIÓN DE DESTINO'].replace('LONDON SCHOOL OF ECONOMICS AND POLITICAL SCIENCE','LONDON SCHOOL ECONOMICS & POLITICAL SCIENCE', inplace= True)\n"
      ],
      "execution_count": 45,
      "outputs": []
    },
    {
      "cell_type": "markdown",
      "metadata": {
        "id": "7p2phqSHG1VN",
        "colab_type": "text"
      },
      "source": [
        "# ***Revision por Universidades***\n"
      ]
    },
    {
      "cell_type": "markdown",
      "metadata": {
        "id": "71Gwa249HETy",
        "colab_type": "text"
      },
      "source": [
        "En esta seccion, se realizara un analisis por universidad de las postulaciones en Chile. Uno de los puntos importantes que quiero investigar es saber si hay universidades mas propensas a aceptar a mas postulantes que otros.  Espero poder obtener algunas resultados en esta linea de analisis\n",
        "\n",
        "\n"
      ]
    },
    {
      "cell_type": "code",
      "metadata": {
        "id": "KisWrB6CH-hn",
        "colab_type": "code",
        "colab": {}
      },
      "source": [
        "def universidades_populares(n):\n",
        "       \n",
        "       #Tabla pivot\n",
        "       pivot = df_datos.pivot_table(index=['INSTITUCIÓN DE DESTINO'], values=['NO SELECCIONADA', 'SELECCIONADA', 'FUERA DE BASES'], aggfunc='sum')\n",
        "       pivot['POSTULACIONES'] = pivot['NO SELECCIONADA'] +pivot['SELECCIONADA'] + pivot['FUERA DE BASES']\n",
        "       pivot = pivot.sort_values(by='POSTULACIONES', ascending=False)  \n",
        "       pivot['Tasa de Aceptacion'] = round(pivot['SELECCIONADA']/pivot['POSTULACIONES'],3)*100\n",
        "       pivot = pivot.reset_index()\n",
        "       \n",
        "       pivot_n = pivot[:n+1]\n",
        "\n",
        "       #Grafico\n",
        "       f, ax = plt.subplots(figsize=(10, 10))\n",
        "       sns.set_color_codes(\"pastel\")\n",
        "       \n",
        "       g = sns.barplot(y='INSTITUCIÓN DE DESTINO', x=\"POSTULACIONES\", data=pivot_n,\n",
        "            label=\"POSTULACIONES\", color=\"b\")\n",
        "       \n",
        "       sns.set_color_codes(\"muted\")\n",
        "       g = sns.barplot(y=\"INSTITUCIÓN DE DESTINO\", x=\"SELECCIONADA\", data=pivot_n,\n",
        "            label=\"SELECCIONADA\", color=\"b\")\n",
        "\n",
        "       \n",
        "       # Agregar labels\n",
        "       ax.legend(ncol=2, loc=\"lower right\", frameon=True)\n",
        "       \n",
        "       plt.title('Radiografia de los {} universidades mas solicitadas en las postulaciones de BECAS'.format(n))\n",
        "       plt.xticks(rotation=90)\n",
        "\n",
        "       sns.despine(left=True, bottom=True)  "
      ],
      "execution_count": 46,
      "outputs": []
    },
    {
      "cell_type": "code",
      "metadata": {
        "id": "oXQJFfsvItRX",
        "colab_type": "code",
        "colab": {
          "base_uri": "https://localhost:8080/",
          "height": 630
        },
        "outputId": "843aa607-b591-477e-c787-eeadec602601"
      },
      "source": [
        "universidades_populares(25) "
      ],
      "execution_count": 47,
      "outputs": [
        {
          "output_type": "display_data",
          "data": {
            "image/png": "[encoded data removed]",
            "text/plain": [
              "<Figure size 720x720 with 1 Axes>"
            ]
          },
          "metadata": {
            "tags": []
          }
        }
      ]
    },
    {
      "cell_type": "code",
      "metadata": {
        "id": "IROfqUw6JJP8",
        "colab_type": "code",
        "colab": {
          "base_uri": "https://localhost:8080/",
          "height": 542
        },
        "outputId": "c6bebd37-40a5-4e8b-f9ec-d2a6f6e507d5"
      },
      "source": [
        "def universidades_populares(n):\n",
        "       \n",
        "       import plotly.express as px\n",
        "\n",
        "       #Tabla pivot\n",
        "       pivot = df_datos.pivot_table(index=['INSTITUCIÓN DE DESTINO'], values=['NO SELECCIONADA', 'SELECCIONADA', 'FUERA DE BASES'], aggfunc='sum')\n",
        "       pivot['POSTULACIONES'] = pivot['NO SELECCIONADA'] +pivot['SELECCIONADA'] + pivot['FUERA DE BASES']\n",
        "       pivot = pivot.sort_values(by='POSTULACIONES', ascending=False)  \n",
        "       pivot['Tasa de Aceptacion (%)'] = round(pivot['SELECCIONADA']/pivot['POSTULACIONES'],3)*100\n",
        "       pivot = pivot.reset_index()\n",
        "       \n",
        "       pivot_n = pivot[:n+1]\n",
        "       \n",
        "       #Grafico\n",
        "       df = px.data.gapminder()\n",
        "       fig = px.scatter(pivot_n, y=\"Tasa de Aceptacion (%)\", x='SELECCIONADA',\n",
        "\t         size='POSTULACIONES', color=\"INSTITUCIÓN DE DESTINO\", template = 'none', color_discrete_sequence=px.colors.qualitative.G10,\n",
        "                  size_max=70, title='Tasa de aceptacion de las {} Universidades con mayor cantidad de postulaciones'.format(n),\n",
        "                   hover_data=['INSTITUCIÓN DE DESTINO']).for_each_trace(lambda t: t.update(name=t.name.split(\"=\")[1]))\n",
        "         #px.title('Nivel de Aceptacion de las {} Universidad mas solicitadas por los postulante a las Becas Chile'.format(n))\n",
        "       #fig.layout.showlegend = False\n",
        "\n",
        "       fig.show()\n",
        "  \n",
        "universidades_populares(10)"
      ],
      "execution_count": 54,
      "outputs": [
        {
          "output_type": "display_data",
          "data": {
            "text/html": [
              "<html>\n",
              "<head><meta charset=\"utf-8\" /></head>\n",
              "<body>\n",
              "    <div>\n",
              "            <script src=\"https://cdnjs.cloudflare.com/ajax/libs/mathjax/2.7.5/MathJax.js?config=TeX-AMS-MML_SVG\"></script><script type=\"text/javascript\">if (window.MathJax) {MathJax.Hub.Config({SVG: {font: \"STIX-Web\"}});}</script>\n",
              "                <script type=\"text/javascript\">window.PlotlyConfig = {MathJaxConfig: 'local'};</script>\n",
              "        <script src=\"https://cdn.plot.ly/plotly-latest.min.js\"></script>    \n",
              "            <div id=\"46dfb1cd-6924-4e27-85c3-6e0cfa75fc22\" class=\"plotly-graph-div\" style=\"height:525px; width:100%;\"></div>\n",
              "            <script type=\"text/javascript\">\n",
              "                \n",
              "                    window.PLOTLYENV=window.PLOTLYENV || {};\n",
              "                    \n",
              "                if (document.getElementById(\"46dfb1cd-6924-4e27-85c3-6e0cfa75fc22\")) {\n",
              "                    Plotly.newPlot(\n",
              "                        '46dfb1cd-6924-4e27-85c3-6e0cfa75fc22',\n",
              "                        [{\"customdata\": [[\"UNIVERSIDAD DE BARCELONA\"]], \"hoverlabel\": {\"namelength\": 0}, \"hovertemplate\": \"INSTITUCI\\u00d3N DE DESTINO=%{customdata[0]}<br>SELECCIONADA=%{x}<br>Tasa de Aceptacion (%)=%{y}<br>POSTULACIONES=%{marker.size}\", \"legendgroup\": \"INSTITUCI\\u00d3N DE DESTINO=UNIVERSIDAD DE BARCELONA\", \"marker\": {\"color\": \"#3366CC\", \"size\": [413.0], \"sizemode\": \"area\", \"sizeref\": 0.08428571428571428, \"symbol\": \"circle\"}, \"mode\": \"markers\", \"name\": \"UNIVERSIDAD DE BARCELONA\", \"showlegend\": true, \"type\": \"scatter\", \"x\": [67], \"xaxis\": \"x\", \"y\": [16.2], \"yaxis\": \"y\"}, {\"customdata\": [[\"UNIVERSIDAD AUTONOMA DE BARCELONA\"]], \"hoverlabel\": {\"namelength\": 0}, \"hovertemplate\": \"INSTITUCI\\u00d3N DE DESTINO=%{customdata[0]}<br>SELECCIONADA=%{x}<br>Tasa de Aceptacion (%)=%{y}<br>POSTULACIONES=%{marker.size}\", \"legendgroup\": \"INSTITUCI\\u00d3N DE DESTINO=UNIVERSIDAD AUTONOMA DE BARCELONA\", \"marker\": {\"color\": \"#DC3912\", \"size\": [211.0], \"sizemode\": \"area\", \"sizeref\": 0.08428571428571428, \"symbol\": \"circle\"}, \"mode\": \"markers\", \"name\": \"UNIVERSIDAD AUTONOMA DE BARCELONA\", \"showlegend\": true, \"type\": \"scatter\", \"x\": [26], \"xaxis\": \"x\", \"y\": [12.3], \"yaxis\": \"y\"}, {\"customdata\": [[\"UNIVERSITY COLLEGE LONDON\"]], \"hoverlabel\": {\"namelength\": 0}, \"hovertemplate\": \"INSTITUCI\\u00d3N DE DESTINO=%{customdata[0]}<br>SELECCIONADA=%{x}<br>Tasa de Aceptacion (%)=%{y}<br>POSTULACIONES=%{marker.size}\", \"legendgroup\": \"INSTITUCI\\u00d3N DE DESTINO=UNIVERSITY COLLEGE LONDON\", \"marker\": {\"color\": \"#FF9900\", \"size\": [195.0], \"sizemode\": \"area\", \"sizeref\": 0.08428571428571428, \"symbol\": \"circle\"}, \"mode\": \"markers\", \"name\": \"UNIVERSITY COLLEGE LONDON\", \"showlegend\": true, \"type\": \"scatter\", \"x\": [67], \"xaxis\": \"x\", \"y\": [34.4], \"yaxis\": \"y\"}, {\"customdata\": [[\"LONDON SCHOOL ECONOMICS & POLITICAL SCIENCE\"]], \"hoverlabel\": {\"namelength\": 0}, \"hovertemplate\": \"INSTITUCI\\u00d3N DE DESTINO=%{customdata[0]}<br>SELECCIONADA=%{x}<br>Tasa de Aceptacion (%)=%{y}<br>POSTULACIONES=%{marker.size}\", \"legendgroup\": \"INSTITUCI\\u00d3N DE DESTINO=LONDON SCHOOL ECONOMICS & POLITICAL SCIENCE\", \"marker\": {\"color\": \"#109618\", \"size\": [129.0], \"sizemode\": \"area\", \"sizeref\": 0.08428571428571428, \"symbol\": \"circle\"}, \"mode\": \"markers\", \"name\": \"LONDON SCHOOL ECONOMICS & POLITICAL SCIENCE\", \"showlegend\": true, \"type\": \"scatter\", \"x\": [51], \"xaxis\": \"x\", \"y\": [39.5], \"yaxis\": \"y\"}, {\"customdata\": [[\"UNIVERSITY OF MELBOURNE\"]], \"hoverlabel\": {\"namelength\": 0}, \"hovertemplate\": \"INSTITUCI\\u00d3N DE DESTINO=%{customdata[0]}<br>SELECCIONADA=%{x}<br>Tasa de Aceptacion (%)=%{y}<br>POSTULACIONES=%{marker.size}\", \"legendgroup\": \"INSTITUCI\\u00d3N DE DESTINO=UNIVERSITY OF MELBOURNE\", \"marker\": {\"color\": \"#990099\", \"size\": [105.0], \"sizemode\": \"area\", \"sizeref\": 0.08428571428571428, \"symbol\": \"circle\"}, \"mode\": \"markers\", \"name\": \"UNIVERSITY OF MELBOURNE\", \"showlegend\": true, \"type\": \"scatter\", \"x\": [26], \"xaxis\": \"x\", \"y\": [24.8], \"yaxis\": \"y\"}, {\"customdata\": [[\"UNIVERSITY OF EDINBURGH\"]], \"hoverlabel\": {\"namelength\": 0}, \"hovertemplate\": \"INSTITUCI\\u00d3N DE DESTINO=%{customdata[0]}<br>SELECCIONADA=%{x}<br>Tasa de Aceptacion (%)=%{y}<br>POSTULACIONES=%{marker.size}\", \"legendgroup\": \"INSTITUCI\\u00d3N DE DESTINO=UNIVERSITY OF EDINBURGH\", \"marker\": {\"color\": \"#0099C6\", \"size\": [75.0], \"sizemode\": \"area\", \"sizeref\": 0.08428571428571428, \"symbol\": \"circle\"}, \"mode\": \"markers\", \"name\": \"UNIVERSITY OF EDINBURGH\", \"showlegend\": true, \"type\": \"scatter\", \"x\": [20], \"xaxis\": \"x\", \"y\": [26.700000000000003], \"yaxis\": \"y\"}, {\"customdata\": [[\"UNIVERSIDAD POLITECNICA DE CATALU\\u00d1A\"]], \"hoverlabel\": {\"namelength\": 0}, \"hovertemplate\": \"INSTITUCI\\u00d3N DE DESTINO=%{customdata[0]}<br>SELECCIONADA=%{x}<br>Tasa de Aceptacion (%)=%{y}<br>POSTULACIONES=%{marker.size}\", \"legendgroup\": \"INSTITUCI\\u00d3N DE DESTINO=UNIVERSIDAD POLITECNICA DE CATALU\\u00d1A\", \"marker\": {\"color\": \"#DD4477\", \"size\": [62.0], \"sizemode\": \"area\", \"sizeref\": 0.08428571428571428, \"symbol\": \"circle\"}, \"mode\": \"markers\", \"name\": \"UNIVERSIDAD POLITECNICA DE CATALU\\u00d1A\", \"showlegend\": true, \"type\": \"scatter\", \"x\": [9], \"xaxis\": \"x\", \"y\": [14.499999999999998], \"yaxis\": \"y\"}, {\"customdata\": [[\"UNIVERSIDAD COMPLUTENSE DE MADRID\"]], \"hoverlabel\": {\"namelength\": 0}, \"hovertemplate\": \"INSTITUCI\\u00d3N DE DESTINO=%{customdata[0]}<br>SELECCIONADA=%{x}<br>Tasa de Aceptacion (%)=%{y}<br>POSTULACIONES=%{marker.size}\", \"legendgroup\": \"INSTITUCI\\u00d3N DE DESTINO=UNIVERSIDAD COMPLUTENSE DE MADRID\", \"marker\": {\"color\": \"#66AA00\", \"size\": [52.0], \"sizemode\": \"area\", \"sizeref\": 0.08428571428571428, \"symbol\": \"circle\"}, \"mode\": \"markers\", \"name\": \"UNIVERSIDAD COMPLUTENSE DE MADRID\", \"showlegend\": true, \"type\": \"scatter\", \"x\": [9], \"xaxis\": \"x\", \"y\": [17.299999999999997], \"yaxis\": \"y\"}, {\"customdata\": [[\"NEW YORK UNIVERSITY\"]], \"hoverlabel\": {\"namelength\": 0}, \"hovertemplate\": \"INSTITUCI\\u00d3N DE DESTINO=%{customdata[0]}<br>SELECCIONADA=%{x}<br>Tasa de Aceptacion (%)=%{y}<br>POSTULACIONES=%{marker.size}\", \"legendgroup\": \"INSTITUCI\\u00d3N DE DESTINO=NEW YORK UNIVERSITY\", \"marker\": {\"color\": \"#B82E2E\", \"size\": [48.0], \"sizemode\": \"area\", \"sizeref\": 0.08428571428571428, \"symbol\": \"circle\"}, \"mode\": \"markers\", \"name\": \"NEW YORK UNIVERSITY\", \"showlegend\": true, \"type\": \"scatter\", \"x\": [17], \"xaxis\": \"x\", \"y\": [35.4], \"yaxis\": \"y\"}, {\"customdata\": [[\"THE UNIVERSITY OF QUEENSLAND\"]], \"hoverlabel\": {\"namelength\": 0}, \"hovertemplate\": \"INSTITUCI\\u00d3N DE DESTINO=%{customdata[0]}<br>SELECCIONADA=%{x}<br>Tasa de Aceptacion (%)=%{y}<br>POSTULACIONES=%{marker.size}\", \"legendgroup\": \"INSTITUCI\\u00d3N DE DESTINO=THE UNIVERSITY OF QUEENSLAND\", \"marker\": {\"color\": \"#316395\", \"size\": [39.0], \"sizemode\": \"area\", \"sizeref\": 0.08428571428571428, \"symbol\": \"circle\"}, \"mode\": \"markers\", \"name\": \"THE UNIVERSITY OF QUEENSLAND\", \"showlegend\": true, \"type\": \"scatter\", \"x\": [9], \"xaxis\": \"x\", \"y\": [23.1], \"yaxis\": \"y\"}, {\"customdata\": [[\"COLUMBIA UNIVERSITY IN THE CITY OF NEW YORK\"]], \"hoverlabel\": {\"namelength\": 0}, \"hovertemplate\": \"INSTITUCI\\u00d3N DE DESTINO=%{customdata[0]}<br>SELECCIONADA=%{x}<br>Tasa de Aceptacion (%)=%{y}<br>POSTULACIONES=%{marker.size}\", \"legendgroup\": \"INSTITUCI\\u00d3N DE DESTINO=COLUMBIA UNIVERSITY IN THE CITY OF NEW YORK\", \"marker\": {\"color\": \"#3366CC\", \"size\": [38.0], \"sizemode\": \"area\", \"sizeref\": 0.08428571428571428, \"symbol\": \"circle\"}, \"mode\": \"markers\", \"name\": \"COLUMBIA UNIVERSITY IN THE CITY OF NEW YORK\", \"showlegend\": true, \"type\": \"scatter\", \"x\": [13], \"xaxis\": \"x\", \"y\": [34.2], \"yaxis\": \"y\"}],\n",
              "                        {\"legend\": {\"itemsizing\": \"constant\", \"tracegroupgap\": 0}, \"template\": {\"data\": {\"scatter\": [{\"type\": \"scatter\"}]}}, \"title\": {\"text\": \"Tasa de aceptacion de las 10 Universidades con mayor cantidad de postulaciones\"}, \"xaxis\": {\"anchor\": \"y\", \"domain\": [0.0, 1.0], \"title\": {\"text\": \"SELECCIONADA\"}}, \"yaxis\": {\"anchor\": \"x\", \"domain\": [0.0, 1.0], \"title\": {\"text\": \"Tasa de Aceptacion (%)\"}}},\n",
              "                        {\"responsive\": true}\n",
              "                    ).then(function(){\n",
              "                            \n",
              "var gd = document.getElementById('46dfb1cd-6924-4e27-85c3-6e0cfa75fc22');\n",
              "var x = new MutationObserver(function (mutations, observer) {{\n",
              "        var display = window.getComputedStyle(gd).display;\n",
              "        if (!display || display === 'none') {{\n",
              "            console.log([gd, 'removed!']);\n",
              "            Plotly.purge(gd);\n",
              "            observer.disconnect();\n",
              "        }}\n",
              "}});\n",
              "\n",
              "// Listen for the removal of the full notebook cells\n",
              "var notebookContainer = gd.closest('#notebook-container');\n",
              "if (notebookContainer) {{\n",
              "    x.observe(notebookContainer, {childList: true});\n",
              "}}\n",
              "\n",
              "// Listen for the clearing of the current output cell\n",
              "var outputEl = gd.closest('.output');\n",
              "if (outputEl) {{\n",
              "    x.observe(outputEl, {childList: true});\n",
              "}}\n",
              "\n",
              "                        })\n",
              "                };\n",
              "                \n",
              "            </script>\n",
              "        </div>\n",
              "</body>\n",
              "</html>"
            ]
          },
          "metadata": {
            "tags": []
          }
        }
      ]
    },
    {
      "cell_type": "markdown",
      "metadata": {
        "id": "Db77-BFlQyrX",
        "colab_type": "text"
      },
      "source": [
        "# ***Revision por Paises***\n",
        "\n",
        "\n"
      ]
    },
    {
      "cell_type": "markdown",
      "metadata": {
        "id": "rXs5mHIrM6Al",
        "colab_type": "text"
      },
      "source": [
        "En esta seccion, se realizara un analisis por paises, buscando analizar cuales son los paises mas solicitados por las becas, y si existen paises mas probables para poder obtener las becas del gobierno. Para poder hacer este trabajo, se incluye otro dataset con los paises de las universidades\n"
      ]
    },
    {
      "cell_type": "code",
      "metadata": {
        "id": "ljyGfXpbOHRX",
        "colab_type": "code",
        "colab": {
          "base_uri": "https://localhost:8080/",
          "height": 302
        },
        "outputId": "e171591b-199a-4236-8308-e207a515d1c7"
      },
      "source": [
        "df_datos.head()"
      ],
      "execution_count": 49,
      "outputs": [
        {
          "output_type": "execute_result",
          "data": {
            "text/html": [
              "<div>\n",
              "<style scoped>\n",
              "    .dataframe tbody tr th:only-of-type {\n",
              "        vertical-align: middle;\n",
              "    }\n",
              "\n",
              "    .dataframe tbody tr th {\n",
              "        vertical-align: top;\n",
              "    }\n",
              "\n",
              "    .dataframe thead th {\n",
              "        text-align: right;\n",
              "    }\n",
              "</style>\n",
              "<table border=\"1\" class=\"dataframe\">\n",
              "  <thead>\n",
              "    <tr style=\"text-align: right;\">\n",
              "      <th></th>\n",
              "      <th>INDICE</th>\n",
              "      <th>SEXO</th>\n",
              "      <th>INSTITUCIÓN DE DESTINO</th>\n",
              "      <th>ESTADO</th>\n",
              "      <th>PUNTAJE</th>\n",
              "      <th>PERIODO</th>\n",
              "      <th>PAISES</th>\n",
              "      <th>FUERA DE BASES</th>\n",
              "      <th>NO SELECCIONADA</th>\n",
              "      <th>SELECCIONADA</th>\n",
              "    </tr>\n",
              "  </thead>\n",
              "  <tbody>\n",
              "    <tr>\n",
              "      <th>0</th>\n",
              "      <td>0</td>\n",
              "      <td>FEMENINO</td>\n",
              "      <td>UNIVERSIDAD AUTONOMA DE BARCELONA</td>\n",
              "      <td>FUERA DE BASES</td>\n",
              "      <td>NaN</td>\n",
              "      <td>2017</td>\n",
              "      <td>Spain</td>\n",
              "      <td>1</td>\n",
              "      <td>0</td>\n",
              "      <td>0</td>\n",
              "    </tr>\n",
              "    <tr>\n",
              "      <th>1</th>\n",
              "      <td>1</td>\n",
              "      <td>FEMENINO</td>\n",
              "      <td>UNIVERSITY OF AUCKLAND</td>\n",
              "      <td>FUERA DE BASES</td>\n",
              "      <td>NaN</td>\n",
              "      <td>2017</td>\n",
              "      <td>New Zealand</td>\n",
              "      <td>1</td>\n",
              "      <td>0</td>\n",
              "      <td>0</td>\n",
              "    </tr>\n",
              "    <tr>\n",
              "      <th>2</th>\n",
              "      <td>2</td>\n",
              "      <td>MASCULINO</td>\n",
              "      <td>UNIVERSIDAD AUTONOMA DE BARCELONA</td>\n",
              "      <td>FUERA DE BASES</td>\n",
              "      <td>NaN</td>\n",
              "      <td>2017</td>\n",
              "      <td>Spain</td>\n",
              "      <td>1</td>\n",
              "      <td>0</td>\n",
              "      <td>0</td>\n",
              "    </tr>\n",
              "    <tr>\n",
              "      <th>3</th>\n",
              "      <td>3</td>\n",
              "      <td>FEMENINO</td>\n",
              "      <td>UNIVERSITY OF BIRMINGHAM</td>\n",
              "      <td>FUERA DE BASES</td>\n",
              "      <td>NaN</td>\n",
              "      <td>2017</td>\n",
              "      <td>United Kingdom</td>\n",
              "      <td>1</td>\n",
              "      <td>0</td>\n",
              "      <td>0</td>\n",
              "    </tr>\n",
              "    <tr>\n",
              "      <th>4</th>\n",
              "      <td>4</td>\n",
              "      <td>FEMENINO</td>\n",
              "      <td>UNIVERSITY COLLEGE LONDON</td>\n",
              "      <td>FUERA DE BASES</td>\n",
              "      <td>NaN</td>\n",
              "      <td>2017</td>\n",
              "      <td>United Kingdom</td>\n",
              "      <td>1</td>\n",
              "      <td>0</td>\n",
              "      <td>0</td>\n",
              "    </tr>\n",
              "  </tbody>\n",
              "</table>\n",
              "</div>"
            ],
            "text/plain": [
              "   INDICE       SEXO  ... NO SELECCIONADA SELECCIONADA\n",
              "0       0   FEMENINO  ...               0            0\n",
              "1       1   FEMENINO  ...               0            0\n",
              "2       2  MASCULINO  ...               0            0\n",
              "3       3   FEMENINO  ...               0            0\n",
              "4       4   FEMENINO  ...               0            0\n",
              "\n",
              "[5 rows x 10 columns]"
            ]
          },
          "metadata": {
            "tags": []
          },
          "execution_count": 49
        }
      ]
    },
    {
      "cell_type": "markdown",
      "metadata": {
        "id": "sgBrCAyoNggn",
        "colab_type": "text"
      },
      "source": [
        "Se han encontrado postulaciones que tienen mas de dos universidades, por lo que, para no tener inconsistencia en la data, se ha decidio eliminar estos registros del analisis"
      ]
    },
    {
      "cell_type": "code",
      "metadata": {
        "id": "24Wg9ijVosOR",
        "colab_type": "code",
        "colab": {
          "base_uri": "https://localhost:8080/",
          "height": 542
        },
        "outputId": "a2cf6076-57c5-4c76-a25b-b508d53135f3"
      },
      "source": [
        "from plotly.offline import plot\n",
        "import plotly.graph_objects as go\n",
        "import plotly.io as pio\n",
        "\n",
        "\n",
        "df_paises = df_datos.groupby('PAISES').count()['INDICE'].reset_index()\n",
        "\n",
        "# 1) Infection Rates\n",
        "fig_cases = go.Figure(data = go.Choropleth(locations = df_paises['PAISES'],\n",
        "                                     z = df_paises['INDICE'],\n",
        "                                     locationmode = 'country names',\n",
        "                                     colorscale = 'Blues',\n",
        "                                     colorbar_title = \"Infections\"))\n",
        "\n",
        "fig_cases.update_layout(title_text = 'Cantidad de Postulante por pais',\n",
        "                  geo = dict(showframe = False,\n",
        "                           showcoastlines = False,\n",
        "                           projection_type = 'equirectangular'))\n"
      ],
      "execution_count": 50,
      "outputs": [
        {
          "output_type": "display_data",
          "data": {
            "text/html": [
              "<html>\n",
              "<head><meta charset=\"utf-8\" /></head>\n",
              "<body>\n",
              "    <div>\n",
              "            <script src=\"https://cdnjs.cloudflare.com/ajax/libs/mathjax/2.7.5/MathJax.js?config=TeX-AMS-MML_SVG\"></script><script type=\"text/javascript\">if (window.MathJax) {MathJax.Hub.Config({SVG: {font: \"STIX-Web\"}});}</script>\n",
              "                <script type=\"text/javascript\">window.PlotlyConfig = {MathJaxConfig: 'local'};</script>\n",
              "        <script src=\"https://cdn.plot.ly/plotly-latest.min.js\"></script>    \n",
              "            <div id=\"a0551a39-9550-4bc1-be31-a1c7c439350d\" class=\"plotly-graph-div\" style=\"height:525px; width:100%;\"></div>\n",
              "            <script type=\"text/javascript\">\n",
              "                \n",
              "                    window.PLOTLYENV=window.PLOTLYENV || {};\n",
              "                    \n",
              "                if (document.getElementById(\"a0551a39-9550-4bc1-be31-a1c7c439350d\")) {\n",
              "                    Plotly.newPlot(\n",
              "                        'a0551a39-9550-4bc1-be31-a1c7c439350d',\n",
              "                        [{\"colorbar\": {\"title\": {\"text\": \"Infections\"}}, \"colorscale\": [[0.0, \"rgb(247,251,255)\"], [0.125, \"rgb(222,235,247)\"], [0.25, \"rgb(198,219,239)\"], [0.375, \"rgb(158,202,225)\"], [0.5, \"rgb(107,174,214)\"], [0.625, \"rgb(66,146,198)\"], [0.75, \"rgb(33,113,181)\"], [0.875, \"rgb(8,81,156)\"], [1.0, \"rgb(8,48,107)\"]], \"locationmode\": \"country names\", \"locations\": [\"Argentina\", \"Australia\", \"Austria\", \"Belgium\", \"Brazil\", \"Canada\", \"Colombia\", \"Costa Rica\", \"Cuba\", \"Denmark\", \"Ecuador\", \"Escocia\", \"Estonia\", \"Finland\", \"France\", \"Germany\", \"Greece\", \"Hong Kong\", \"Hungria\", \"Iceland\", \"Israel\", \"Italy\", \"Malasia\", \"Netherlands\", \"New Zealand\", \"Noruega\", \"Polonia\", \"Portugal\", \"Russia\", \"Spain\", \"Sweden\", \"Switzerland\", \"USA\", \"United Kingdom\"], \"type\": \"choropleth\", \"z\": [11, 316, 2, 16, 14, 37, 1, 1, 1, 15, 2, 1, 1, 2, 47, 23, 1, 3, 1, 4, 1, 40, 1, 68, 21, 2, 1, 11, 1, 1060, 11, 6, 320, 829]}],\n",
              "                        {\"geo\": {\"projection\": {\"type\": \"equirectangular\"}, \"showcoastlines\": false, \"showframe\": false}, \"template\": {\"data\": {\"bar\": [{\"error_x\": {\"color\": \"#2a3f5f\"}, \"error_y\": {\"color\": \"#2a3f5f\"}, \"marker\": {\"line\": {\"color\": \"#E5ECF6\", \"width\": 0.5}}, \"type\": \"bar\"}], \"barpolar\": [{\"marker\": {\"line\": {\"color\": \"#E5ECF6\", \"width\": 0.5}}, \"type\": \"barpolar\"}], \"carpet\": [{\"aaxis\": {\"endlinecolor\": \"#2a3f5f\", \"gridcolor\": \"white\", \"linecolor\": \"white\", \"minorgridcolor\": \"white\", \"startlinecolor\": \"#2a3f5f\"}, \"baxis\": {\"endlinecolor\": \"#2a3f5f\", \"gridcolor\": \"white\", \"linecolor\": \"white\", \"minorgridcolor\": \"white\", \"startlinecolor\": \"#2a3f5f\"}, \"type\": \"carpet\"}], \"choropleth\": [{\"colorbar\": {\"outlinewidth\": 0, \"ticks\": \"\"}, \"type\": \"choropleth\"}], \"contour\": [{\"colorbar\": {\"outlinewidth\": 0, \"ticks\": \"\"}, \"colorscale\": [[0.0, \"#0d0887\"], [0.1111111111111111, \"#46039f\"], [0.2222222222222222, \"#7201a8\"], [0.3333333333333333, \"#9c179e\"], [0.4444444444444444, \"#bd3786\"], [0.5555555555555556, \"#d8576b\"], [0.6666666666666666, \"#ed7953\"], [0.7777777777777778, \"#fb9f3a\"], [0.8888888888888888, \"#fdca26\"], [1.0, \"#f0f921\"]], \"type\": \"contour\"}], \"contourcarpet\": [{\"colorbar\": {\"outlinewidth\": 0, \"ticks\": \"\"}, \"type\": \"contourcarpet\"}], \"heatmap\": [{\"colorbar\": {\"outlinewidth\": 0, \"ticks\": \"\"}, \"colorscale\": [[0.0, \"#0d0887\"], [0.1111111111111111, \"#46039f\"], [0.2222222222222222, \"#7201a8\"], [0.3333333333333333, \"#9c179e\"], [0.4444444444444444, \"#bd3786\"], [0.5555555555555556, \"#d8576b\"], [0.6666666666666666, \"#ed7953\"], [0.7777777777777778, \"#fb9f3a\"], [0.8888888888888888, \"#fdca26\"], [1.0, \"#f0f921\"]], \"type\": \"heatmap\"}], \"heatmapgl\": [{\"colorbar\": {\"outlinewidth\": 0, \"ticks\": \"\"}, \"colorscale\": [[0.0, \"#0d0887\"], [0.1111111111111111, \"#46039f\"], [0.2222222222222222, \"#7201a8\"], [0.3333333333333333, \"#9c179e\"], [0.4444444444444444, \"#bd3786\"], [0.5555555555555556, \"#d8576b\"], [0.6666666666666666, \"#ed7953\"], [0.7777777777777778, \"#fb9f3a\"], [0.8888888888888888, \"#fdca26\"], [1.0, \"#f0f921\"]], \"type\": \"heatmapgl\"}], \"histogram\": [{\"marker\": {\"colorbar\": {\"outlinewidth\": 0, \"ticks\": \"\"}}, \"type\": \"histogram\"}], \"histogram2d\": [{\"colorbar\": {\"outlinewidth\": 0, \"ticks\": \"\"}, \"colorscale\": [[0.0, \"#0d0887\"], [0.1111111111111111, \"#46039f\"], [0.2222222222222222, \"#7201a8\"], [0.3333333333333333, \"#9c179e\"], [0.4444444444444444, \"#bd3786\"], [0.5555555555555556, \"#d8576b\"], [0.6666666666666666, \"#ed7953\"], [0.7777777777777778, \"#fb9f3a\"], [0.8888888888888888, \"#fdca26\"], [1.0, \"#f0f921\"]], \"type\": \"histogram2d\"}], \"histogram2dcontour\": [{\"colorbar\": {\"outlinewidth\": 0, \"ticks\": \"\"}, \"colorscale\": [[0.0, \"#0d0887\"], [0.1111111111111111, \"#46039f\"], [0.2222222222222222, \"#7201a8\"], [0.3333333333333333, \"#9c179e\"], [0.4444444444444444, \"#bd3786\"], [0.5555555555555556, \"#d8576b\"], [0.6666666666666666, \"#ed7953\"], [0.7777777777777778, \"#fb9f3a\"], [0.8888888888888888, \"#fdca26\"], [1.0, \"#f0f921\"]], \"type\": \"histogram2dcontour\"}], \"mesh3d\": [{\"colorbar\": {\"outlinewidth\": 0, \"ticks\": \"\"}, \"type\": \"mesh3d\"}], \"parcoords\": [{\"line\": {\"colorbar\": {\"outlinewidth\": 0, \"ticks\": \"\"}}, \"type\": \"parcoords\"}], \"pie\": [{\"automargin\": true, \"type\": \"pie\"}], \"scatter\": [{\"marker\": {\"colorbar\": {\"outlinewidth\": 0, \"ticks\": \"\"}}, \"type\": \"scatter\"}], \"scatter3d\": [{\"line\": {\"colorbar\": {\"outlinewidth\": 0, \"ticks\": \"\"}}, \"marker\": {\"colorbar\": {\"outlinewidth\": 0, \"ticks\": \"\"}}, \"type\": \"scatter3d\"}], \"scattercarpet\": [{\"marker\": {\"colorbar\": {\"outlinewidth\": 0, \"ticks\": \"\"}}, \"type\": \"scattercarpet\"}], \"scattergeo\": [{\"marker\": {\"colorbar\": {\"outlinewidth\": 0, \"ticks\": \"\"}}, \"type\": \"scattergeo\"}], \"scattergl\": [{\"marker\": {\"colorbar\": {\"outlinewidth\": 0, \"ticks\": \"\"}}, \"type\": \"scattergl\"}], \"scattermapbox\": [{\"marker\": {\"colorbar\": {\"outlinewidth\": 0, \"ticks\": \"\"}}, \"type\": \"scattermapbox\"}], \"scatterpolar\": [{\"marker\": {\"colorbar\": {\"outlinewidth\": 0, \"ticks\": \"\"}}, \"type\": \"scatterpolar\"}], \"scatterpolargl\": [{\"marker\": {\"colorbar\": {\"outlinewidth\": 0, \"ticks\": \"\"}}, \"type\": \"scatterpolargl\"}], \"scatterternary\": [{\"marker\": {\"colorbar\": {\"outlinewidth\": 0, \"ticks\": \"\"}}, \"type\": \"scatterternary\"}], \"surface\": [{\"colorbar\": {\"outlinewidth\": 0, \"ticks\": \"\"}, \"colorscale\": [[0.0, \"#0d0887\"], [0.1111111111111111, \"#46039f\"], [0.2222222222222222, \"#7201a8\"], [0.3333333333333333, \"#9c179e\"], [0.4444444444444444, \"#bd3786\"], [0.5555555555555556, \"#d8576b\"], [0.6666666666666666, \"#ed7953\"], [0.7777777777777778, \"#fb9f3a\"], [0.8888888888888888, \"#fdca26\"], [1.0, \"#f0f921\"]], \"type\": \"surface\"}], \"table\": [{\"cells\": {\"fill\": {\"color\": \"#EBF0F8\"}, \"line\": {\"color\": \"white\"}}, \"header\": {\"fill\": {\"color\": \"#C8D4E3\"}, \"line\": {\"color\": \"white\"}}, \"type\": \"table\"}]}, \"layout\": {\"annotationdefaults\": {\"arrowcolor\": \"#2a3f5f\", \"arrowhead\": 0, \"arrowwidth\": 1}, \"coloraxis\": {\"colorbar\": {\"outlinewidth\": 0, \"ticks\": \"\"}}, \"colorscale\": {\"diverging\": [[0, \"#8e0152\"], [0.1, \"#c51b7d\"], [0.2, \"#de77ae\"], [0.3, \"#f1b6da\"], [0.4, \"#fde0ef\"], [0.5, \"#f7f7f7\"], [0.6, \"#e6f5d0\"], [0.7, \"#b8e186\"], [0.8, \"#7fbc41\"], [0.9, \"#4d9221\"], [1, \"#276419\"]], \"sequential\": [[0.0, \"#0d0887\"], [0.1111111111111111, \"#46039f\"], [0.2222222222222222, \"#7201a8\"], [0.3333333333333333, \"#9c179e\"], [0.4444444444444444, \"#bd3786\"], [0.5555555555555556, \"#d8576b\"], [0.6666666666666666, \"#ed7953\"], [0.7777777777777778, \"#fb9f3a\"], [0.8888888888888888, \"#fdca26\"], [1.0, \"#f0f921\"]], \"sequentialminus\": [[0.0, \"#0d0887\"], [0.1111111111111111, \"#46039f\"], [0.2222222222222222, \"#7201a8\"], [0.3333333333333333, \"#9c179e\"], [0.4444444444444444, \"#bd3786\"], [0.5555555555555556, \"#d8576b\"], [0.6666666666666666, \"#ed7953\"], [0.7777777777777778, \"#fb9f3a\"], [0.8888888888888888, \"#fdca26\"], [1.0, \"#f0f921\"]]}, \"colorway\": [\"#636efa\", \"#EF553B\", \"#00cc96\", \"#ab63fa\", \"#FFA15A\", \"#19d3f3\", \"#FF6692\", \"#B6E880\", \"#FF97FF\", \"#FECB52\"], \"font\": {\"color\": \"#2a3f5f\"}, \"geo\": {\"bgcolor\": \"white\", \"lakecolor\": \"white\", \"landcolor\": \"#E5ECF6\", \"showlakes\": true, \"showland\": true, \"subunitcolor\": \"white\"}, \"hoverlabel\": {\"align\": \"left\"}, \"hovermode\": \"closest\", \"mapbox\": {\"style\": \"light\"}, \"paper_bgcolor\": \"white\", \"plot_bgcolor\": \"#E5ECF6\", \"polar\": {\"angularaxis\": {\"gridcolor\": \"white\", \"linecolor\": \"white\", \"ticks\": \"\"}, \"bgcolor\": \"#E5ECF6\", \"radialaxis\": {\"gridcolor\": \"white\", \"linecolor\": \"white\", \"ticks\": \"\"}}, \"scene\": {\"xaxis\": {\"backgroundcolor\": \"#E5ECF6\", \"gridcolor\": \"white\", \"gridwidth\": 2, \"linecolor\": \"white\", \"showbackground\": true, \"ticks\": \"\", \"zerolinecolor\": \"white\"}, \"yaxis\": {\"backgroundcolor\": \"#E5ECF6\", \"gridcolor\": \"white\", \"gridwidth\": 2, \"linecolor\": \"white\", \"showbackground\": true, \"ticks\": \"\", \"zerolinecolor\": \"white\"}, \"zaxis\": {\"backgroundcolor\": \"#E5ECF6\", \"gridcolor\": \"white\", \"gridwidth\": 2, \"linecolor\": \"white\", \"showbackground\": true, \"ticks\": \"\", \"zerolinecolor\": \"white\"}}, \"shapedefaults\": {\"line\": {\"color\": \"#2a3f5f\"}}, \"ternary\": {\"aaxis\": {\"gridcolor\": \"white\", \"linecolor\": \"white\", \"ticks\": \"\"}, \"baxis\": {\"gridcolor\": \"white\", \"linecolor\": \"white\", \"ticks\": \"\"}, \"bgcolor\": \"#E5ECF6\", \"caxis\": {\"gridcolor\": \"white\", \"linecolor\": \"white\", \"ticks\": \"\"}}, \"title\": {\"x\": 0.05}, \"xaxis\": {\"automargin\": true, \"gridcolor\": \"white\", \"linecolor\": \"white\", \"ticks\": \"\", \"title\": {\"standoff\": 15}, \"zerolinecolor\": \"white\", \"zerolinewidth\": 2}, \"yaxis\": {\"automargin\": true, \"gridcolor\": \"white\", \"linecolor\": \"white\", \"ticks\": \"\", \"title\": {\"standoff\": 15}, \"zerolinecolor\": \"white\", \"zerolinewidth\": 2}}}, \"title\": {\"text\": \"Cantidad de Postulante por pais\"}},\n",
              "                        {\"responsive\": true}\n",
              "                    ).then(function(){\n",
              "                            \n",
              "var gd = document.getElementById('a0551a39-9550-4bc1-be31-a1c7c439350d');\n",
              "var x = new MutationObserver(function (mutations, observer) {{\n",
              "        var display = window.getComputedStyle(gd).display;\n",
              "        if (!display || display === 'none') {{\n",
              "            console.log([gd, 'removed!']);\n",
              "            Plotly.purge(gd);\n",
              "            observer.disconnect();\n",
              "        }}\n",
              "}});\n",
              "\n",
              "// Listen for the removal of the full notebook cells\n",
              "var notebookContainer = gd.closest('#notebook-container');\n",
              "if (notebookContainer) {{\n",
              "    x.observe(notebookContainer, {childList: true});\n",
              "}}\n",
              "\n",
              "// Listen for the clearing of the current output cell\n",
              "var outputEl = gd.closest('.output');\n",
              "if (outputEl) {{\n",
              "    x.observe(outputEl, {childList: true});\n",
              "}}\n",
              "\n",
              "                        })\n",
              "                };\n",
              "                \n",
              "            </script>\n",
              "        </div>\n",
              "</body>\n",
              "</html>"
            ]
          },
          "metadata": {
            "tags": []
          }
        }
      ]
    },
    {
      "cell_type": "code",
      "metadata": {
        "id": "YaS2ijDhO8TQ",
        "colab_type": "code",
        "colab": {
          "base_uri": "https://localhost:8080/",
          "height": 637
        },
        "outputId": "d79b16d5-0489-4438-c88a-f026a6711fa9"
      },
      "source": [
        "def paises_populares(n):\n",
        "       \n",
        "       #Tabla pivot\n",
        "       pivot = df_datos.pivot_table(index=['PAISES'], values=['NO SELECCIONADA', 'SELECCIONADA', 'FUERA DE BASES'], aggfunc='sum')\n",
        "       pivot['POSTULACIONES'] = pivot['NO SELECCIONADA'] +pivot['SELECCIONADA'] + pivot['FUERA DE BASES']\n",
        "       pivot = pivot.sort_values(by='POSTULACIONES', ascending=False)  \n",
        "       pivot['% Aceptados'] = round(pivot['SELECCIONADA']/pivot['POSTULACIONES'],3)*100\n",
        "       pivot = pivot.reset_index()\n",
        "       \n",
        "       pivot_n = pivot[:n+1]\n",
        "\n",
        "       #Grafico\n",
        "       f, ax = plt.subplots(figsize=(10, 10))\n",
        "       sns.set_color_codes(\"pastel\")\n",
        "       \n",
        "       g = sns.barplot(y='PAISES', x=\"POSTULACIONES\", data=pivot_n,\n",
        "            label=\"POSTULACIONES\", color=\"b\")\n",
        "       \n",
        "       sns.set_color_codes(\"muted\")\n",
        "       g = sns.barplot(y=\"PAISES\", x=\"SELECCIONADA\", data=pivot_n,\n",
        "            label=\"SELECCIONADA\", color=\"b\")\n",
        "\n",
        "       \n",
        "       # Agregar labels\n",
        "       ax.legend(ncol=2, loc=\"lower right\", frameon=True)\n",
        "       \n",
        "       plt.title('Radiografia de los {} paises mas solicitadas en las postulaciones de BECAS'.format(n))\n",
        "       plt.xticks(rotation=90)\n",
        "       plt.xlabel('Cantidad de postulaciones')\n",
        "       plt.ylabel('Paises')\n",
        "       sns.despine(left=True, bottom=True) \n",
        "\n",
        "paises_populares(4) "
      ],
      "execution_count": 51,
      "outputs": [
        {
          "output_type": "display_data",
          "data": {
            "image/png": "[encoded data removed]",
            "text/plain": [
              "<Figure size 720x720 with 1 Axes>"
            ]
          },
          "metadata": {
            "tags": []
          }
        }
      ]
    },
    {
      "cell_type": "code",
      "metadata": {
        "id": "bCzn23NgP-OL",
        "colab_type": "code",
        "colab": {
          "base_uri": "https://localhost:8080/",
          "height": 542
        },
        "outputId": "796ea1de-3f38-4e2d-9090-c37aa5d12067"
      },
      "source": [
        "def paises_populares(n):\n",
        "       \n",
        "       import plotly.express as px\n",
        "\n",
        "       #Tabla pivot\n",
        "       pivot = df_datos.pivot_table(index=['PAISES'], values=['NO SELECCIONADA', 'SELECCIONADA', 'FUERA DE BASES'], aggfunc='sum')\n",
        "       pivot['POSTULACIONES'] = pivot['NO SELECCIONADA'] +pivot['SELECCIONADA'] + pivot['FUERA DE BASES']\n",
        "       pivot = pivot.sort_values(by='POSTULACIONES', ascending=False)  \n",
        "       pivot['Tasa de Aceptacion (%)'] = round(pivot['SELECCIONADA']/pivot['POSTULACIONES'],3)*100\n",
        "       pivot = pivot.reset_index()\n",
        "       \n",
        "       pivot_n = pivot[:n+1]\n",
        "       \n",
        "       #Grafico\n",
        "       df = px.data.gapminder()\n",
        "       fig = px.scatter(pivot_n, y=\"Tasa de Aceptacion (%)\", x='SELECCIONADA',\n",
        "\t         size='POSTULACIONES', color=\"PAISES\", template = 'none', color_discrete_sequence=px.colors.qualitative.G10,\n",
        "                  size_max=70, title='Porcentaje de aceptacion de las {} paises con mas solicitudes a la BECAS de Magister'.format(n)\n",
        "                  ,hover_data=['PAISES']).for_each_trace(lambda t: t.update(name=t.name.split(\"=\")[1]))\n",
        "       #px.title('Nivel de Aceptacion de las {} Universidad mas solicitadas por los postulante a las Becas Chile'.format(n))\n",
        "       fig.show()\n",
        "\n",
        "paises_populares(9)"
      ],
      "execution_count": 53,
      "outputs": [
        {
          "output_type": "display_data",
          "data": {
            "text/html": [
              "<html>\n",
              "<head><meta charset=\"utf-8\" /></head>\n",
              "<body>\n",
              "    <div>\n",
              "            <script src=\"https://cdnjs.cloudflare.com/ajax/libs/mathjax/2.7.5/MathJax.js?config=TeX-AMS-MML_SVG\"></script><script type=\"text/javascript\">if (window.MathJax) {MathJax.Hub.Config({SVG: {font: \"STIX-Web\"}});}</script>\n",
              "                <script type=\"text/javascript\">window.PlotlyConfig = {MathJaxConfig: 'local'};</script>\n",
              "        <script src=\"https://cdn.plot.ly/plotly-latest.min.js\"></script>    \n",
              "            <div id=\"d1192876-f874-4c78-9e56-17c3abde52fa\" class=\"plotly-graph-div\" style=\"height:525px; width:100%;\"></div>\n",
              "            <script type=\"text/javascript\">\n",
              "                \n",
              "                    window.PLOTLYENV=window.PLOTLYENV || {};\n",
              "                    \n",
              "                if (document.getElementById(\"d1192876-f874-4c78-9e56-17c3abde52fa\")) {\n",
              "                    Plotly.newPlot(\n",
              "                        'd1192876-f874-4c78-9e56-17c3abde52fa',\n",
              "                        [{\"customdata\": [[\"Spain\"]], \"hoverlabel\": {\"namelength\": 0}, \"hovertemplate\": \"PAISES=%{customdata[0]}<br>SELECCIONADA=%{x}<br>Tasa de Aceptacion (%)=%{y}<br>POSTULACIONES=%{marker.size}\", \"legendgroup\": \"PAISES=Spain\", \"marker\": {\"color\": \"#3366CC\", \"size\": [1060.0], \"sizemode\": \"area\", \"sizeref\": 0.2163265306122449, \"symbol\": \"circle\"}, \"mode\": \"markers\", \"name\": \"Spain\", \"showlegend\": true, \"type\": \"scatter\", \"x\": [133], \"xaxis\": \"x\", \"y\": [12.5], \"yaxis\": \"y\"}, {\"customdata\": [[\"United Kingdom\"]], \"hoverlabel\": {\"namelength\": 0}, \"hovertemplate\": \"PAISES=%{customdata[0]}<br>SELECCIONADA=%{x}<br>Tasa de Aceptacion (%)=%{y}<br>POSTULACIONES=%{marker.size}\", \"legendgroup\": \"PAISES=United Kingdom\", \"marker\": {\"color\": \"#DC3912\", \"size\": [829.0], \"sizemode\": \"area\", \"sizeref\": 0.2163265306122449, \"symbol\": \"circle\"}, \"mode\": \"markers\", \"name\": \"United Kingdom\", \"showlegend\": true, \"type\": \"scatter\", \"x\": [242], \"xaxis\": \"x\", \"y\": [29.2], \"yaxis\": \"y\"}, {\"customdata\": [[\"USA\"]], \"hoverlabel\": {\"namelength\": 0}, \"hovertemplate\": \"PAISES=%{customdata[0]}<br>SELECCIONADA=%{x}<br>Tasa de Aceptacion (%)=%{y}<br>POSTULACIONES=%{marker.size}\", \"legendgroup\": \"PAISES=USA\", \"marker\": {\"color\": \"#FF9900\", \"size\": [320.0], \"sizemode\": \"area\", \"sizeref\": 0.2163265306122449, \"symbol\": \"circle\"}, \"mode\": \"markers\", \"name\": \"USA\", \"showlegend\": true, \"type\": \"scatter\", \"x\": [102], \"xaxis\": \"x\", \"y\": [31.900000000000002], \"yaxis\": \"y\"}, {\"customdata\": [[\"Australia\"]], \"hoverlabel\": {\"namelength\": 0}, \"hovertemplate\": \"PAISES=%{customdata[0]}<br>SELECCIONADA=%{x}<br>Tasa de Aceptacion (%)=%{y}<br>POSTULACIONES=%{marker.size}\", \"legendgroup\": \"PAISES=Australia\", \"marker\": {\"color\": \"#109618\", \"size\": [316.0], \"sizemode\": \"area\", \"sizeref\": 0.2163265306122449, \"symbol\": \"circle\"}, \"mode\": \"markers\", \"name\": \"Australia\", \"showlegend\": true, \"type\": \"scatter\", \"x\": [74], \"xaxis\": \"x\", \"y\": [23.400000000000002], \"yaxis\": \"y\"}, {\"customdata\": [[\"Netherlands\"]], \"hoverlabel\": {\"namelength\": 0}, \"hovertemplate\": \"PAISES=%{customdata[0]}<br>SELECCIONADA=%{x}<br>Tasa de Aceptacion (%)=%{y}<br>POSTULACIONES=%{marker.size}\", \"legendgroup\": \"PAISES=Netherlands\", \"marker\": {\"color\": \"#990099\", \"size\": [68.0], \"sizemode\": \"area\", \"sizeref\": 0.2163265306122449, \"symbol\": \"circle\"}, \"mode\": \"markers\", \"name\": \"Netherlands\", \"showlegend\": true, \"type\": \"scatter\", \"x\": [21], \"xaxis\": \"x\", \"y\": [30.9], \"yaxis\": \"y\"}, {\"customdata\": [[\"France\"]], \"hoverlabel\": {\"namelength\": 0}, \"hovertemplate\": \"PAISES=%{customdata[0]}<br>SELECCIONADA=%{x}<br>Tasa de Aceptacion (%)=%{y}<br>POSTULACIONES=%{marker.size}\", \"legendgroup\": \"PAISES=France\", \"marker\": {\"color\": \"#0099C6\", \"size\": [47.0], \"sizemode\": \"area\", \"sizeref\": 0.2163265306122449, \"symbol\": \"circle\"}, \"mode\": \"markers\", \"name\": \"France\", \"showlegend\": true, \"type\": \"scatter\", \"x\": [6], \"xaxis\": \"x\", \"y\": [12.8], \"yaxis\": \"y\"}, {\"customdata\": [[\"Italy\"]], \"hoverlabel\": {\"namelength\": 0}, \"hovertemplate\": \"PAISES=%{customdata[0]}<br>SELECCIONADA=%{x}<br>Tasa de Aceptacion (%)=%{y}<br>POSTULACIONES=%{marker.size}\", \"legendgroup\": \"PAISES=Italy\", \"marker\": {\"color\": \"#DD4477\", \"size\": [40.0], \"sizemode\": \"area\", \"sizeref\": 0.2163265306122449, \"symbol\": \"circle\"}, \"mode\": \"markers\", \"name\": \"Italy\", \"showlegend\": true, \"type\": \"scatter\", \"x\": [7], \"xaxis\": \"x\", \"y\": [17.5], \"yaxis\": \"y\"}, {\"customdata\": [[\"Canada\"]], \"hoverlabel\": {\"namelength\": 0}, \"hovertemplate\": \"PAISES=%{customdata[0]}<br>SELECCIONADA=%{x}<br>Tasa de Aceptacion (%)=%{y}<br>POSTULACIONES=%{marker.size}\", \"legendgroup\": \"PAISES=Canada\", \"marker\": {\"color\": \"#66AA00\", \"size\": [37.0], \"sizemode\": \"area\", \"sizeref\": 0.2163265306122449, \"symbol\": \"circle\"}, \"mode\": \"markers\", \"name\": \"Canada\", \"showlegend\": true, \"type\": \"scatter\", \"x\": [10], \"xaxis\": \"x\", \"y\": [27.0], \"yaxis\": \"y\"}, {\"customdata\": [[\"Germany\"]], \"hoverlabel\": {\"namelength\": 0}, \"hovertemplate\": \"PAISES=%{customdata[0]}<br>SELECCIONADA=%{x}<br>Tasa de Aceptacion (%)=%{y}<br>POSTULACIONES=%{marker.size}\", \"legendgroup\": \"PAISES=Germany\", \"marker\": {\"color\": \"#B82E2E\", \"size\": [23.0], \"sizemode\": \"area\", \"sizeref\": 0.2163265306122449, \"symbol\": \"circle\"}, \"mode\": \"markers\", \"name\": \"Germany\", \"showlegend\": true, \"type\": \"scatter\", \"x\": [6], \"xaxis\": \"x\", \"y\": [26.1], \"yaxis\": \"y\"}, {\"customdata\": [[\"New Zealand\"]], \"hoverlabel\": {\"namelength\": 0}, \"hovertemplate\": \"PAISES=%{customdata[0]}<br>SELECCIONADA=%{x}<br>Tasa de Aceptacion (%)=%{y}<br>POSTULACIONES=%{marker.size}\", \"legendgroup\": \"PAISES=New Zealand\", \"marker\": {\"color\": \"#316395\", \"size\": [21.0], \"sizemode\": \"area\", \"sizeref\": 0.2163265306122449, \"symbol\": \"circle\"}, \"mode\": \"markers\", \"name\": \"New Zealand\", \"showlegend\": true, \"type\": \"scatter\", \"x\": [3], \"xaxis\": \"x\", \"y\": [14.299999999999999], \"yaxis\": \"y\"}],\n",
              "                        {\"legend\": {\"itemsizing\": \"constant\", \"tracegroupgap\": 0}, \"template\": {\"data\": {\"scatter\": [{\"type\": \"scatter\"}]}}, \"title\": {\"text\": \"Porcentaje de aceptacion de las 9 paises con mas solicitudes a la BECAS de Magister\"}, \"xaxis\": {\"anchor\": \"y\", \"domain\": [0.0, 1.0], \"title\": {\"text\": \"SELECCIONADA\"}}, \"yaxis\": {\"anchor\": \"x\", \"domain\": [0.0, 1.0], \"title\": {\"text\": \"Tasa de Aceptacion (%)\"}}},\n",
              "                        {\"responsive\": true}\n",
              "                    ).then(function(){\n",
              "                            \n",
              "var gd = document.getElementById('d1192876-f874-4c78-9e56-17c3abde52fa');\n",
              "var x = new MutationObserver(function (mutations, observer) {{\n",
              "        var display = window.getComputedStyle(gd).display;\n",
              "        if (!display || display === 'none') {{\n",
              "            console.log([gd, 'removed!']);\n",
              "            Plotly.purge(gd);\n",
              "            observer.disconnect();\n",
              "        }}\n",
              "}});\n",
              "\n",
              "// Listen for the removal of the full notebook cells\n",
              "var notebookContainer = gd.closest('#notebook-container');\n",
              "if (notebookContainer) {{\n",
              "    x.observe(notebookContainer, {childList: true});\n",
              "}}\n",
              "\n",
              "// Listen for the clearing of the current output cell\n",
              "var outputEl = gd.closest('.output');\n",
              "if (outputEl) {{\n",
              "    x.observe(outputEl, {childList: true});\n",
              "}}\n",
              "\n",
              "                        })\n",
              "                };\n",
              "                \n",
              "            </script>\n",
              "        </div>\n",
              "</body>\n",
              "</html>"
            ]
          },
          "metadata": {
            "tags": []
          }
        }
      ]
    },
    {
      "cell_type": "markdown",
      "metadata": {
        "id": "5vCNO8idzspM",
        "colab_type": "text"
      },
      "source": [
        "# ***Revision de Puntajes por paises y universidades***"
      ]
    },
    {
      "cell_type": "code",
      "metadata": {
        "id": "QqLM12BZQtUJ",
        "colab_type": "code",
        "colab": {
          "base_uri": "https://localhost:8080/",
          "height": 528
        },
        "outputId": "cf70a015-2344-4f7f-cf1f-1a041405e9d6"
      },
      "source": [
        "df_puntaje = df_datos.loc[df_datos['ESTADO'] != 'FUERA DE BASES']\n",
        "df_puntaje"
      ],
      "execution_count": 55,
      "outputs": [
        {
          "output_type": "execute_result",
          "data": {
            "text/html": [
              "<div>\n",
              "<style scoped>\n",
              "    .dataframe tbody tr th:only-of-type {\n",
              "        vertical-align: middle;\n",
              "    }\n",
              "\n",
              "    .dataframe tbody tr th {\n",
              "        vertical-align: top;\n",
              "    }\n",
              "\n",
              "    .dataframe thead th {\n",
              "        text-align: right;\n",
              "    }\n",
              "</style>\n",
              "<table border=\"1\" class=\"dataframe\">\n",
              "  <thead>\n",
              "    <tr style=\"text-align: right;\">\n",
              "      <th></th>\n",
              "      <th>INDICE</th>\n",
              "      <th>SEXO</th>\n",
              "      <th>INSTITUCIÓN DE DESTINO</th>\n",
              "      <th>ESTADO</th>\n",
              "      <th>PUNTAJE</th>\n",
              "      <th>PERIODO</th>\n",
              "      <th>PAISES</th>\n",
              "      <th>FUERA DE BASES</th>\n",
              "      <th>NO SELECCIONADA</th>\n",
              "      <th>SELECCIONADA</th>\n",
              "    </tr>\n",
              "  </thead>\n",
              "  <tbody>\n",
              "    <tr>\n",
              "      <th>41</th>\n",
              "      <td>41</td>\n",
              "      <td>MASCULINO</td>\n",
              "      <td>UNIVERSIDADE ESTADUAL DE CAMPINAS</td>\n",
              "      <td>NO SELECCIONADA</td>\n",
              "      <td>3,738</td>\n",
              "      <td>2017</td>\n",
              "      <td>Brazil</td>\n",
              "      <td>0</td>\n",
              "      <td>1</td>\n",
              "      <td>0</td>\n",
              "    </tr>\n",
              "    <tr>\n",
              "      <th>42</th>\n",
              "      <td>42</td>\n",
              "      <td>FEMENINO</td>\n",
              "      <td>UNIVERSIDAD DE VALENCIA</td>\n",
              "      <td>NO SELECCIONADA</td>\n",
              "      <td>3,720</td>\n",
              "      <td>2017</td>\n",
              "      <td>Spain</td>\n",
              "      <td>0</td>\n",
              "      <td>1</td>\n",
              "      <td>0</td>\n",
              "    </tr>\n",
              "    <tr>\n",
              "      <th>43</th>\n",
              "      <td>43</td>\n",
              "      <td>FEMENINO</td>\n",
              "      <td>UNIVERSIDAD DE SALAMANCA</td>\n",
              "      <td>NO SELECCIONADA</td>\n",
              "      <td>3,716</td>\n",
              "      <td>2017</td>\n",
              "      <td>Spain</td>\n",
              "      <td>0</td>\n",
              "      <td>1</td>\n",
              "      <td>0</td>\n",
              "    </tr>\n",
              "    <tr>\n",
              "      <th>44</th>\n",
              "      <td>44</td>\n",
              "      <td>FEMENINO</td>\n",
              "      <td>UNIVERSIDAD DE BARCELONA</td>\n",
              "      <td>NO SELECCIONADA</td>\n",
              "      <td>3,682</td>\n",
              "      <td>2017</td>\n",
              "      <td>Spain</td>\n",
              "      <td>0</td>\n",
              "      <td>1</td>\n",
              "      <td>0</td>\n",
              "    </tr>\n",
              "    <tr>\n",
              "      <th>45</th>\n",
              "      <td>45</td>\n",
              "      <td>FEMENINO</td>\n",
              "      <td>UNIVERSIDAD DE VALENCIA</td>\n",
              "      <td>NO SELECCIONADA</td>\n",
              "      <td>3,680</td>\n",
              "      <td>2017</td>\n",
              "      <td>Spain</td>\n",
              "      <td>0</td>\n",
              "      <td>1</td>\n",
              "      <td>0</td>\n",
              "    </tr>\n",
              "    <tr>\n",
              "      <th>...</th>\n",
              "      <td>...</td>\n",
              "      <td>...</td>\n",
              "      <td>...</td>\n",
              "      <td>...</td>\n",
              "      <td>...</td>\n",
              "      <td>...</td>\n",
              "      <td>...</td>\n",
              "      <td>...</td>\n",
              "      <td>...</td>\n",
              "      <td>...</td>\n",
              "    </tr>\n",
              "    <tr>\n",
              "      <th>2913</th>\n",
              "      <td>1270</td>\n",
              "      <td>FEMENINO</td>\n",
              "      <td>UNIVERSITY OF CHICAGO</td>\n",
              "      <td>SELECCIONADA</td>\n",
              "      <td>4,620</td>\n",
              "      <td>2019</td>\n",
              "      <td>USA</td>\n",
              "      <td>0</td>\n",
              "      <td>0</td>\n",
              "      <td>1</td>\n",
              "    </tr>\n",
              "    <tr>\n",
              "      <th>2914</th>\n",
              "      <td>1271</td>\n",
              "      <td>FEMENINO</td>\n",
              "      <td>NEW YORK UNIVERSITY</td>\n",
              "      <td>SELECCIONADA</td>\n",
              "      <td>4,620</td>\n",
              "      <td>2019</td>\n",
              "      <td>USA</td>\n",
              "      <td>0</td>\n",
              "      <td>0</td>\n",
              "      <td>1</td>\n",
              "    </tr>\n",
              "    <tr>\n",
              "      <th>2915</th>\n",
              "      <td>1272</td>\n",
              "      <td>FEMENINO</td>\n",
              "      <td>MCGILL UNIVERSITY</td>\n",
              "      <td>SELECCIONADA</td>\n",
              "      <td>4,619</td>\n",
              "      <td>2019</td>\n",
              "      <td>Canada</td>\n",
              "      <td>0</td>\n",
              "      <td>0</td>\n",
              "      <td>1</td>\n",
              "    </tr>\n",
              "    <tr>\n",
              "      <th>2916</th>\n",
              "      <td>1273</td>\n",
              "      <td>MASCULINO</td>\n",
              "      <td>UNIVERSITY OF QUEENSLAND</td>\n",
              "      <td>SELECCIONADA</td>\n",
              "      <td>4,619</td>\n",
              "      <td>2019</td>\n",
              "      <td>Australia</td>\n",
              "      <td>0</td>\n",
              "      <td>0</td>\n",
              "      <td>1</td>\n",
              "    </tr>\n",
              "    <tr>\n",
              "      <th>2917</th>\n",
              "      <td>1274</td>\n",
              "      <td>MASCULINO</td>\n",
              "      <td>NEW YORK UNIVERSITY</td>\n",
              "      <td>SELECCIONADA</td>\n",
              "      <td>4,619</td>\n",
              "      <td>2019</td>\n",
              "      <td>USA</td>\n",
              "      <td>0</td>\n",
              "      <td>0</td>\n",
              "      <td>1</td>\n",
              "    </tr>\n",
              "  </tbody>\n",
              "</table>\n",
              "<p>2373 rows × 10 columns</p>\n",
              "</div>"
            ],
            "text/plain": [
              "      INDICE       SEXO  ... NO SELECCIONADA SELECCIONADA\n",
              "41        41  MASCULINO  ...               1            0\n",
              "42        42   FEMENINO  ...               1            0\n",
              "43        43   FEMENINO  ...               1            0\n",
              "44        44   FEMENINO  ...               1            0\n",
              "45        45   FEMENINO  ...               1            0\n",
              "...      ...        ...  ...             ...          ...\n",
              "2913    1270   FEMENINO  ...               0            1\n",
              "2914    1271   FEMENINO  ...               0            1\n",
              "2915    1272   FEMENINO  ...               0            1\n",
              "2916    1273  MASCULINO  ...               0            1\n",
              "2917    1274  MASCULINO  ...               0            1\n",
              "\n",
              "[2373 rows x 10 columns]"
            ]
          },
          "metadata": {
            "tags": []
          },
          "execution_count": 55
        }
      ]
    },
    {
      "cell_type": "code",
      "metadata": {
        "id": "gdjXbVq80glu",
        "colab_type": "code",
        "colab": {}
      },
      "source": [
        "def string_numero():\n",
        "    cantidad = 0\n",
        "    valores = []\n",
        "    df_puntaje['PUNTAJE_NUMERO'] = 0\n",
        "    for i in df_puntaje['PUNTAJE']:\n",
        "       numero = ''\n",
        "       numero_lista = list(i)\n",
        "       for x in numero_lista:\n",
        "            if x != ',':\n",
        "              numero = numero + x\n",
        "        \n",
        "       numero = float(numero)/1000\n",
        "       #print(numero)\n",
        "       #resultado['PUNTAJE_NUMERO'][cantidad] = numero\n",
        "       valores.append(numero)\n",
        "       cantidad = cantidad + 1\n",
        "    \n",
        "    valores = pd.DataFrame(valores, columns =['PUNTAJES_NUMERO'])\n",
        "    return valores"
      ],
      "execution_count": 56,
      "outputs": []
    },
    {
      "cell_type": "code",
      "metadata": {
        "id": "kaWucmBp4aFo",
        "colab_type": "code",
        "colab": {
          "base_uri": "https://localhost:8080/",
          "height": 502
        },
        "outputId": "0b3d34b3-a93e-4841-f51f-e4f5d31326d0"
      },
      "source": [
        "df = string_numero()\n",
        "\n",
        "df_puntaje = df_puntaje.reset_index()\n",
        "\n",
        "df_puntaje = pd.concat([df_puntaje, df], axis=1, sort=False)\n",
        "\n",
        "df_puntaje\n",
        "df_puntaje.drop('PUNTAJE', inplace = True, axis = 1)\n",
        "df_puntaje.drop('PUNTAJE_NUMERO', inplace = True, axis = 1)\n",
        "df_puntaje.head()"
      ],
      "execution_count": 57,
      "outputs": [
        {
          "output_type": "stream",
          "text": [
            "/usr/local/lib/python3.6/dist-packages/ipykernel_launcher.py:4: SettingWithCopyWarning:\n",
            "\n",
            "\n",
            "A value is trying to be set on a copy of a slice from a DataFrame.\n",
            "Try using .loc[row_indexer,col_indexer] = value instead\n",
            "\n",
            "See the caveats in the documentation: https://pandas.pydata.org/pandas-docs/stable/user_guide/indexing.html#returning-a-view-versus-a-copy\n",
            "\n"
          ],
          "name": "stderr"
        },
        {
          "output_type": "execute_result",
          "data": {
            "text/html": [
              "<div>\n",
              "<style scoped>\n",
              "    .dataframe tbody tr th:only-of-type {\n",
              "        vertical-align: middle;\n",
              "    }\n",
              "\n",
              "    .dataframe tbody tr th {\n",
              "        vertical-align: top;\n",
              "    }\n",
              "\n",
              "    .dataframe thead th {\n",
              "        text-align: right;\n",
              "    }\n",
              "</style>\n",
              "<table border=\"1\" class=\"dataframe\">\n",
              "  <thead>\n",
              "    <tr style=\"text-align: right;\">\n",
              "      <th></th>\n",
              "      <th>index</th>\n",
              "      <th>INDICE</th>\n",
              "      <th>SEXO</th>\n",
              "      <th>INSTITUCIÓN DE DESTINO</th>\n",
              "      <th>ESTADO</th>\n",
              "      <th>PERIODO</th>\n",
              "      <th>PAISES</th>\n",
              "      <th>FUERA DE BASES</th>\n",
              "      <th>NO SELECCIONADA</th>\n",
              "      <th>SELECCIONADA</th>\n",
              "      <th>PUNTAJES_NUMERO</th>\n",
              "    </tr>\n",
              "  </thead>\n",
              "  <tbody>\n",
              "    <tr>\n",
              "      <th>0</th>\n",
              "      <td>41</td>\n",
              "      <td>41</td>\n",
              "      <td>MASCULINO</td>\n",
              "      <td>UNIVERSIDADE ESTADUAL DE CAMPINAS</td>\n",
              "      <td>NO SELECCIONADA</td>\n",
              "      <td>2017</td>\n",
              "      <td>Brazil</td>\n",
              "      <td>0</td>\n",
              "      <td>1</td>\n",
              "      <td>0</td>\n",
              "      <td>3.738</td>\n",
              "    </tr>\n",
              "    <tr>\n",
              "      <th>1</th>\n",
              "      <td>42</td>\n",
              "      <td>42</td>\n",
              "      <td>FEMENINO</td>\n",
              "      <td>UNIVERSIDAD DE VALENCIA</td>\n",
              "      <td>NO SELECCIONADA</td>\n",
              "      <td>2017</td>\n",
              "      <td>Spain</td>\n",
              "      <td>0</td>\n",
              "      <td>1</td>\n",
              "      <td>0</td>\n",
              "      <td>3.720</td>\n",
              "    </tr>\n",
              "    <tr>\n",
              "      <th>2</th>\n",
              "      <td>43</td>\n",
              "      <td>43</td>\n",
              "      <td>FEMENINO</td>\n",
              "      <td>UNIVERSIDAD DE SALAMANCA</td>\n",
              "      <td>NO SELECCIONADA</td>\n",
              "      <td>2017</td>\n",
              "      <td>Spain</td>\n",
              "      <td>0</td>\n",
              "      <td>1</td>\n",
              "      <td>0</td>\n",
              "      <td>3.716</td>\n",
              "    </tr>\n",
              "    <tr>\n",
              "      <th>3</th>\n",
              "      <td>44</td>\n",
              "      <td>44</td>\n",
              "      <td>FEMENINO</td>\n",
              "      <td>UNIVERSIDAD DE BARCELONA</td>\n",
              "      <td>NO SELECCIONADA</td>\n",
              "      <td>2017</td>\n",
              "      <td>Spain</td>\n",
              "      <td>0</td>\n",
              "      <td>1</td>\n",
              "      <td>0</td>\n",
              "      <td>3.682</td>\n",
              "    </tr>\n",
              "    <tr>\n",
              "      <th>4</th>\n",
              "      <td>45</td>\n",
              "      <td>45</td>\n",
              "      <td>FEMENINO</td>\n",
              "      <td>UNIVERSIDAD DE VALENCIA</td>\n",
              "      <td>NO SELECCIONADA</td>\n",
              "      <td>2017</td>\n",
              "      <td>Spain</td>\n",
              "      <td>0</td>\n",
              "      <td>1</td>\n",
              "      <td>0</td>\n",
              "      <td>3.680</td>\n",
              "    </tr>\n",
              "  </tbody>\n",
              "</table>\n",
              "</div>"
            ],
            "text/plain": [
              "   index  INDICE       SEXO  ... NO SELECCIONADA SELECCIONADA  PUNTAJES_NUMERO\n",
              "0     41      41  MASCULINO  ...               1            0            3.738\n",
              "1     42      42   FEMENINO  ...               1            0            3.720\n",
              "2     43      43   FEMENINO  ...               1            0            3.716\n",
              "3     44      44   FEMENINO  ...               1            0            3.682\n",
              "4     45      45   FEMENINO  ...               1            0            3.680\n",
              "\n",
              "[5 rows x 11 columns]"
            ]
          },
          "metadata": {
            "tags": []
          },
          "execution_count": 57
        }
      ]
    },
    {
      "cell_type": "code",
      "metadata": {
        "id": "onzu1-LB703d",
        "colab_type": "code",
        "colab": {
          "base_uri": "https://localhost:8080/",
          "height": 405
        },
        "outputId": "6e0793a5-a2d2-4f3b-bf60-264968c79918"
      },
      "source": [
        "def histograma_puntaje(df):\n",
        "\n",
        "      plt.figure(figsize= (12,6))\n",
        "      sns.set_style(\"white\")\n",
        "\n",
        "      #Histograma de los puntajes por seleccionados y no seleccionados\n",
        "      sns.distplot(df.loc[df['ESTADO'] == 'NO SELECCIONADA']['PUNTAJES_NUMERO'], kde = False, bins = 10, label = 'NO SELECCIONADOS')\n",
        "      sns.distplot(df.loc[df['ESTADO'] == 'SELECCIONADA']['PUNTAJES_NUMERO'], kde = False, bins = 10, label = 'SELECCIONADOS')\n",
        "      \n",
        "      #Promedio de puntaje por seleccionado y no seleccionados\n",
        "      promedio_no = round(df.loc[df['ESTADO'] == 'NO SELECCIONADA']['PUNTAJES_NUMERO'].mean(),2)\n",
        "      promedio_si = round(df.loc[df['ESTADO'] == 'SELECCIONADA']['PUNTAJES_NUMERO'].mean(),2)\n",
        "\n",
        "      #Linea promedio para seleccionados y no seleccionados\n",
        "      plt.axvline(x=df.loc[df['ESTADO'] == 'NO SELECCIONADA']['PUNTAJES_NUMERO'].mean(), color='b', linestyle='--', label = 'Promedio No Seleccionados: {}'.format(promedio_no))\n",
        "      plt.axvline(x=df.loc[df['ESTADO'] == 'SELECCIONADA']['PUNTAJES_NUMERO'].mean(), color='r', linestyle='--', label = 'Promedio Seleccionados: {}'.format(promedio_si))\n",
        "\n",
        "      plt.title('Distribucion de los puntajes para los cantidados seleccionados y no seleccionados')\n",
        "\n",
        "      plt.legend()\n",
        "\n",
        "      sns.despine(left=True,top = True,bottom = False)\n",
        "\n",
        "histograma_puntaje(df_puntaje)\n",
        "    "
      ],
      "execution_count": 58,
      "outputs": [
        {
          "output_type": "display_data",
          "data": {
            "image/png": "[encoded data removed]",
            "text/plain": [
              "<Figure size 864x432 with 1 Axes>"
            ]
          },
          "metadata": {
            "tags": []
          }
        }
      ]
    },
    {
      "cell_type": "code",
      "metadata": {
        "id": "bmXkPukbzvJA",
        "colab_type": "code",
        "colab": {
          "base_uri": "https://localhost:8080/",
          "height": 388
        },
        "outputId": "8170faa0-8c2c-49d3-f902-42d80772ad62"
      },
      "source": [
        "df_puntaje\n",
        "\n",
        "#g = sns.FacetGrid(df_puntaje, col=\"PERIODO\")\n",
        "#g = g.map(plt.boxplot, x = \"PUNTAJES_NUMERO\")\n",
        "plt.figure(figsize= (10,6))\n",
        "sns.boxplot(data = df_puntaje, y = 'PUNTAJES_NUMERO', x= 'ESTADO', hue = 'PERIODO')\n",
        "sns.despine(left=True,top = True,bottom = False)"
      ],
      "execution_count": 83,
      "outputs": [
        {
          "output_type": "display_data",
          "data": {
            "image/png": "[encoded data removed]",
            "text/plain": [
              "<Figure size 720x432 with 1 Axes>"
            ]
          },
          "metadata": {
            "tags": []
          }
        }
      ]
    },
    {
      "cell_type": "code",
      "metadata": {
        "id": "ykoiJD8v2G6G",
        "colab_type": "code",
        "colab": {
          "base_uri": "https://localhost:8080/",
          "height": 138
        },
        "outputId": "f5b50b63-bea1-4240-8a8e-b40ef7faa5f2"
      },
      "source": [
        "df_minimo = df_puntaje.groupby(['ESTADO', 'PERIODO']).mean()['PUNTAJES_NUMERO'].reset_index()\n",
        "df_minimo = df_minimo.loc[df_minimo['ESTADO'] == 'SELECCIONADA']\n",
        "#df_minimo\n",
        "\n",
        "df_maximo = df_puntaje.groupby(['ESTADO', 'PERIODO']).mean()['PUNTAJES_NUMERO'].reset_index()\n",
        "df_maximo = df_maximo.loc[df_maximo['ESTADO'] == 'NO SELECCIONADA']\n",
        "df_maximo"
      ],
      "execution_count": 130,
      "outputs": [
        {
          "output_type": "execute_result",
          "data": {
            "text/html": [
              "<div>\n",
              "<style scoped>\n",
              "    .dataframe tbody tr th:only-of-type {\n",
              "        vertical-align: middle;\n",
              "    }\n",
              "\n",
              "    .dataframe tbody tr th {\n",
              "        vertical-align: top;\n",
              "    }\n",
              "\n",
              "    .dataframe thead th {\n",
              "        text-align: right;\n",
              "    }\n",
              "</style>\n",
              "<table border=\"1\" class=\"dataframe\">\n",
              "  <thead>\n",
              "    <tr style=\"text-align: right;\">\n",
              "      <th></th>\n",
              "      <th>ESTADO</th>\n",
              "      <th>PERIODO</th>\n",
              "      <th>PUNTAJES_NUMERO</th>\n",
              "    </tr>\n",
              "  </thead>\n",
              "  <tbody>\n",
              "    <tr>\n",
              "      <th>0</th>\n",
              "      <td>NO SELECCIONADA</td>\n",
              "      <td>2017</td>\n",
              "      <td>3.159545</td>\n",
              "    </tr>\n",
              "    <tr>\n",
              "      <th>1</th>\n",
              "      <td>NO SELECCIONADA</td>\n",
              "      <td>2018</td>\n",
              "      <td>3.981324</td>\n",
              "    </tr>\n",
              "    <tr>\n",
              "      <th>2</th>\n",
              "      <td>NO SELECCIONADA</td>\n",
              "      <td>2019</td>\n",
              "      <td>4.062045</td>\n",
              "    </tr>\n",
              "  </tbody>\n",
              "</table>\n",
              "</div>"
            ],
            "text/plain": [
              "            ESTADO  PERIODO  PUNTAJES_NUMERO\n",
              "0  NO SELECCIONADA     2017         3.159545\n",
              "1  NO SELECCIONADA     2018         3.981324\n",
              "2  NO SELECCIONADA     2019         4.062045"
            ]
          },
          "metadata": {
            "tags": []
          },
          "execution_count": 130
        }
      ]
    },
    {
      "cell_type": "code",
      "metadata": {
        "id": "bEpY068O7ECk",
        "colab_type": "code",
        "colab": {
          "base_uri": "https://localhost:8080/",
          "height": 392
        },
        "outputId": "0dd09a99-5789-43a6-b77d-bd7df12e6466"
      },
      "source": [
        "\n",
        "plt.figure(figsize= (10,6))\n",
        "periodo = [ str(2017),str(2018),str(2019)]\n",
        "plt.plot(periodo, df_minimo['PUNTAJES_NUMERO'], 'o-',label = 'SELECCIONADO')\n",
        "plt.plot(periodo, df_maximo['PUNTAJES_NUMERO'], 'o-', label ='NO SELECCIONADO')\n",
        "plt.legend(loc = 0)\n",
        "plt.title('Puntaje Promedio por tipo de Estado', fontsize = 16)\n",
        "plt.ylim(0, 5)\n",
        "sns.despine(left=True,top = True,bottom = False)"
      ],
      "execution_count": 156,
      "outputs": [
        {
          "output_type": "display_data",
          "data": {
            "image/png": "[encoded data removed]",
            "text/plain": [
              "<Figure size 720x432 with 1 Axes>"
            ]
          },
          "metadata": {
            "tags": []
          }
        }
      ]
    },
    {
      "cell_type": "code",
      "metadata": {
        "id": "e_2kEmBm8IBc",
        "colab_type": "code",
        "colab": {}
      },
      "source": [
        "df_puntaje_2019 = df_puntaje.loc[df_puntaje['PERIODO'] == 2019]\n"
      ],
      "execution_count": 115,
      "outputs": []
    },
    {
      "cell_type": "code",
      "metadata": {
        "id": "MZnpiham_mwA",
        "colab_type": "code",
        "colab": {
          "base_uri": "https://localhost:8080/",
          "height": 516
        },
        "outputId": "3ce8cdb8-c785-4c1c-8767-bd8e1e7b75fe"
      },
      "source": [
        "def puntaje_periodo(df,periodo,cantidad):\n",
        "\n",
        "      df_periodo = df.loc[df['PERIODO'] == periodo]\n",
        "      paises_periodo = list(df_periodo.groupby('PAISES').count()['INDICE'].reset_index().sort_values(by='INDICE', ascending = False)[:cantidad]['PAISES'])\n",
        "      \n",
        "      df_periodo = df_periodo[df_periodo['PAISES'].isin(paises_periodo)]\n",
        "      \n",
        "      plt.figure(figsize= (15,8))\n",
        "    \n",
        "      sns.boxplot(x = 'PUNTAJES_NUMERO', y = 'PAISES', hue = 'ESTADO', data = df_periodo)\n",
        "      sns.despine(left=True,top = True,bottom = False)\n",
        "      plt.title('Distribution de puntajes por paises por estado ', fontsize = 16)\n",
        "\n",
        "puntaje_periodo(df_puntaje,2019,10)"
      ],
      "execution_count": 128,
      "outputs": [
        {
          "output_type": "display_data",
          "data": {
            "image/png": "[encoded data removed]",
            "text/plain": [
              "<Figure size 1080x576 with 1 Axes>"
            ]
          },
          "metadata": {
            "tags": []
          }
        }
      ]
    },
    {
      "cell_type": "code",
      "metadata": {
        "id": "2m2kY9dt44UC",
        "colab_type": "code",
        "colab": {
          "base_uri": "https://localhost:8080/",
          "height": 471
        },
        "outputId": "31f23baa-75d6-4913-a41e-99d3688b33ec"
      },
      "source": [
        "def puntajes_universidades(df, periodo, cantidad):\n",
        "      \n",
        "      df_periodo = df.loc[df['PERIODO'] == periodo]\n",
        "      universidad_n = list(df_periodo.groupby('INSTITUCIÓN DE DESTINO').count()['INDICE'].reset_index().sort_values('INDICE', ascending = False)[:cantidad]['INSTITUCIÓN DE DESTINO'])\n",
        "      \n",
        "      df_periodo = df_periodo[df_periodo['INSTITUCIÓN DE DESTINO'].isin(universidad_n)]\n",
        "\n",
        "      plt.figure(figsize= (15,8))\n",
        "      \n",
        "      plt.title('Distribution de puntajes por universidades por estado ', fontsize = 16)\n",
        "      sns.boxplot(x = 'PUNTAJES_NUMERO', y = 'INSTITUCIÓN DE DESTINO', hue = 'ESTADO', data = df_periodo)\n",
        "\n",
        "      sns.despine(left=True,top = True,bottom = False)\n",
        "      \n",
        "puntajes_universidades(df_puntaje,2019, 10)"
      ],
      "execution_count": 129,
      "outputs": [
        {
          "output_type": "display_data",
          "data": {
            "image/png": "[encoded data removed]",
            "text/plain": [
              "<Figure size 1080x576 with 1 Axes>"
            ]
          },
          "metadata": {
            "tags": []
          }
        }
      ]
    },
    {
      "cell_type": "code",
      "metadata": {
        "id": "sG1q8vOaFMNv",
        "colab_type": "code",
        "colab": {
          "base_uri": "https://localhost:8080/",
          "height": 648
        },
        "outputId": "efba9f68-0be1-4486-e6d4-bc65676a837d"
      },
      "source": [
        "pd.pivot_table(df_puntaje.loc[df_puntaje['ESTADO']== 'SELECCIONADA'], index =['PAISES'], values = ['PUNTAJES_NUMERO'], columns = 'PERIODO', aggfunc='min')\n",
        "\n",
        "     "
      ],
      "execution_count": 169,
      "outputs": [
        {
          "output_type": "execute_result",
          "data": {
            "text/html": [
              "<div>\n",
              "<style scoped>\n",
              "    .dataframe tbody tr th:only-of-type {\n",
              "        vertical-align: middle;\n",
              "    }\n",
              "\n",
              "    .dataframe tbody tr th {\n",
              "        vertical-align: top;\n",
              "    }\n",
              "\n",
              "    .dataframe thead tr th {\n",
              "        text-align: left;\n",
              "    }\n",
              "\n",
              "    .dataframe thead tr:last-of-type th {\n",
              "        text-align: right;\n",
              "    }\n",
              "</style>\n",
              "<table border=\"1\" class=\"dataframe\">\n",
              "  <thead>\n",
              "    <tr>\n",
              "      <th></th>\n",
              "      <th colspan=\"3\" halign=\"left\">PUNTAJES_NUMERO</th>\n",
              "    </tr>\n",
              "    <tr>\n",
              "      <th>PERIODO</th>\n",
              "      <th>2017</th>\n",
              "      <th>2018</th>\n",
              "      <th>2019</th>\n",
              "    </tr>\n",
              "    <tr>\n",
              "      <th>PAISES</th>\n",
              "      <th></th>\n",
              "      <th></th>\n",
              "      <th></th>\n",
              "    </tr>\n",
              "  </thead>\n",
              "  <tbody>\n",
              "    <tr>\n",
              "      <th>Argentina</th>\n",
              "      <td>NaN</td>\n",
              "      <td>NaN</td>\n",
              "      <td>4.851</td>\n",
              "    </tr>\n",
              "    <tr>\n",
              "      <th>Australia</th>\n",
              "      <td>4.236</td>\n",
              "      <td>4.610</td>\n",
              "      <td>4.619</td>\n",
              "    </tr>\n",
              "    <tr>\n",
              "      <th>Belgium</th>\n",
              "      <td>NaN</td>\n",
              "      <td>4.635</td>\n",
              "      <td>4.864</td>\n",
              "    </tr>\n",
              "    <tr>\n",
              "      <th>Canada</th>\n",
              "      <td>3.944</td>\n",
              "      <td>4.674</td>\n",
              "      <td>4.619</td>\n",
              "    </tr>\n",
              "    <tr>\n",
              "      <th>Denmark</th>\n",
              "      <td>NaN</td>\n",
              "      <td>NaN</td>\n",
              "      <td>4.635</td>\n",
              "    </tr>\n",
              "    <tr>\n",
              "      <th>Finland</th>\n",
              "      <td>NaN</td>\n",
              "      <td>NaN</td>\n",
              "      <td>4.706</td>\n",
              "    </tr>\n",
              "    <tr>\n",
              "      <th>France</th>\n",
              "      <td>NaN</td>\n",
              "      <td>4.677</td>\n",
              "      <td>4.783</td>\n",
              "    </tr>\n",
              "    <tr>\n",
              "      <th>Germany</th>\n",
              "      <td>NaN</td>\n",
              "      <td>4.751</td>\n",
              "      <td>4.626</td>\n",
              "    </tr>\n",
              "    <tr>\n",
              "      <th>Hong Kong</th>\n",
              "      <td>NaN</td>\n",
              "      <td>4.691</td>\n",
              "      <td>NaN</td>\n",
              "    </tr>\n",
              "    <tr>\n",
              "      <th>Italy</th>\n",
              "      <td>NaN</td>\n",
              "      <td>4.619</td>\n",
              "      <td>4.653</td>\n",
              "    </tr>\n",
              "    <tr>\n",
              "      <th>Malasia</th>\n",
              "      <td>NaN</td>\n",
              "      <td>4.843</td>\n",
              "      <td>NaN</td>\n",
              "    </tr>\n",
              "    <tr>\n",
              "      <th>Netherlands</th>\n",
              "      <td>NaN</td>\n",
              "      <td>4.626</td>\n",
              "      <td>4.628</td>\n",
              "    </tr>\n",
              "    <tr>\n",
              "      <th>New Zealand</th>\n",
              "      <td>NaN</td>\n",
              "      <td>4.657</td>\n",
              "      <td>4.703</td>\n",
              "    </tr>\n",
              "    <tr>\n",
              "      <th>Portugal</th>\n",
              "      <td>NaN</td>\n",
              "      <td>NaN</td>\n",
              "      <td>4.702</td>\n",
              "    </tr>\n",
              "    <tr>\n",
              "      <th>Spain</th>\n",
              "      <td>3.777</td>\n",
              "      <td>4.610</td>\n",
              "      <td>4.631</td>\n",
              "    </tr>\n",
              "    <tr>\n",
              "      <th>Sweden</th>\n",
              "      <td>NaN</td>\n",
              "      <td>4.901</td>\n",
              "      <td>NaN</td>\n",
              "    </tr>\n",
              "    <tr>\n",
              "      <th>USA</th>\n",
              "      <td>NaN</td>\n",
              "      <td>4.610</td>\n",
              "      <td>4.619</td>\n",
              "    </tr>\n",
              "    <tr>\n",
              "      <th>United Kingdom</th>\n",
              "      <td>3.968</td>\n",
              "      <td>4.610</td>\n",
              "      <td>4.621</td>\n",
              "    </tr>\n",
              "  </tbody>\n",
              "</table>\n",
              "</div>"
            ],
            "text/plain": [
              "               PUNTAJES_NUMERO              \n",
              "PERIODO                   2017   2018   2019\n",
              "PAISES                                      \n",
              "Argentina                  NaN    NaN  4.851\n",
              "Australia                4.236  4.610  4.619\n",
              "Belgium                    NaN  4.635  4.864\n",
              "Canada                   3.944  4.674  4.619\n",
              "Denmark                    NaN    NaN  4.635\n",
              "Finland                    NaN    NaN  4.706\n",
              "France                     NaN  4.677  4.783\n",
              "Germany                    NaN  4.751  4.626\n",
              "Hong Kong                  NaN  4.691    NaN\n",
              "Italy                      NaN  4.619  4.653\n",
              "Malasia                    NaN  4.843    NaN\n",
              "Netherlands                NaN  4.626  4.628\n",
              "New Zealand                NaN  4.657  4.703\n",
              "Portugal                   NaN    NaN  4.702\n",
              "Spain                    3.777  4.610  4.631\n",
              "Sweden                     NaN  4.901    NaN\n",
              "USA                        NaN  4.610  4.619\n",
              "United Kingdom           3.968  4.610  4.621"
            ]
          },
          "metadata": {
            "tags": []
          },
          "execution_count": 169
        }
      ]
    }
  ]
}