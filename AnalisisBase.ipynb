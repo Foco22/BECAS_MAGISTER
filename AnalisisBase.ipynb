{
  "nbformat": 4,
  "nbformat_minor": 0,
  "metadata": {
    "colab": {
      "name": "Te damos la bienvenida a Colaboratory",
      "provenance": [],
      "collapsed_sections": [],
      "toc_visible": true,
      "include_colab_link": true
    },
    "kernelspec": {
      "display_name": "Python 3",
      "name": "python3"
    }
  },
  "cells": [
    {
      "cell_type": "markdown",
      "metadata": {
        "id": "view-in-github",
        "colab_type": "text"
      },
      "source": [
        "<a href=\"https://colab.research.google.com/github/Foco22/BECAS_MAGISTER/blob/master/AnalisisBase.ipynb\" target=\"_parent\"><img src=\"https://colab.research.google.com/assets/colab-badge.svg\" alt=\"Open In Colab\"/></a>"
      ]
    },
    {
      "cell_type": "code",
      "metadata": {
        "id": "ECeAsZcDo4fd",
        "colab_type": "code",
        "colab": {
          "base_uri": "https://localhost:8080/",
          "height": 598
        },
        "outputId": "302fc6fe-b772-408a-b9ea-d7dedaeeef98"
      },
      "source": [
        "!pip install \"camelot-py[cv]\""
      ],
      "execution_count": 1,
      "outputs": [
        {
          "output_type": "stream",
          "text": [
            "Collecting camelot-py[cv]\n",
            "\u001b[?25l  Downloading https://files.pythonhosted.org/packages/ed/78/123007d6aff9811bd087ff5dd68e06a9df62b2fdbf7685d74c9d6f247921/camelot_py-0.8.2-py3-none-any.whl (42kB)\n",
            "\r\u001b[K     |███████▋                        | 10kB 11.4MB/s eta 0:00:01\r\u001b[K     |███████████████▎                | 20kB 1.5MB/s eta 0:00:01\r\u001b[K     |███████████████████████         | 30kB 1.9MB/s eta 0:00:01\r\u001b[K     |██████████████████████████████▋ | 40kB 1.5MB/s eta 0:00:01\r\u001b[K     |████████████████████████████████| 51kB 1.5MB/s \n",
            "\u001b[?25hRequirement already satisfied: click>=6.7 in /usr/local/lib/python3.6/dist-packages (from camelot-py[cv]) (7.1.2)\n",
            "Requirement already satisfied: pandas>=0.23.4 in /usr/local/lib/python3.6/dist-packages (from camelot-py[cv]) (1.0.5)\n",
            "Collecting pdfminer.six>=20200726\n",
            "\u001b[?25l  Downloading https://files.pythonhosted.org/packages/98/12/ab5ebafc4cb2b49847de7bfc26f2d152f42a4af136263152d070c61dfd7d/pdfminer.six-20200726-py3-none-any.whl (5.6MB)\n",
            "\u001b[K     |████████████████████████████████| 5.6MB 5.6MB/s \n",
            "\u001b[?25hRequirement already satisfied: numpy>=1.13.3 in /usr/local/lib/python3.6/dist-packages (from camelot-py[cv]) (1.18.5)\n",
            "Collecting PyPDF2>=1.26.0\n",
            "\u001b[?25l  Downloading https://files.pythonhosted.org/packages/b4/01/68fcc0d43daf4c6bdbc6b33cc3f77bda531c86b174cac56ef0ffdb96faab/PyPDF2-1.26.0.tar.gz (77kB)\n",
            "\u001b[K     |████████████████████████████████| 81kB 7.9MB/s \n",
            "\u001b[?25hRequirement already satisfied: chardet>=3.0.4 in /usr/local/lib/python3.6/dist-packages (from camelot-py[cv]) (3.0.4)\n",
            "Requirement already satisfied: openpyxl>=2.5.8 in /usr/local/lib/python3.6/dist-packages (from camelot-py[cv]) (2.5.9)\n",
            "Requirement already satisfied: opencv-python>=3.4.2.17; extra == \"cv\" in /usr/local/lib/python3.6/dist-packages (from camelot-py[cv]) (4.1.2.30)\n",
            "Requirement already satisfied: pytz>=2017.2 in /usr/local/lib/python3.6/dist-packages (from pandas>=0.23.4->camelot-py[cv]) (2018.9)\n",
            "Requirement already satisfied: python-dateutil>=2.6.1 in /usr/local/lib/python3.6/dist-packages (from pandas>=0.23.4->camelot-py[cv]) (2.8.1)\n",
            "Requirement already satisfied: sortedcontainers in /usr/local/lib/python3.6/dist-packages (from pdfminer.six>=20200726->camelot-py[cv]) (2.2.2)\n",
            "Collecting cryptography\n",
            "\u001b[?25l  Downloading https://files.pythonhosted.org/packages/c0/9c/647e559a6e8be493dc2a7a5d15d26cb501ca60ec299b356f23839a673a83/cryptography-3.1-cp35-abi3-manylinux2010_x86_64.whl (2.6MB)\n",
            "\u001b[K     |████████████████████████████████| 2.6MB 32.5MB/s \n",
            "\u001b[?25hRequirement already satisfied: jdcal in /usr/local/lib/python3.6/dist-packages (from openpyxl>=2.5.8->camelot-py[cv]) (1.4.1)\n",
            "Requirement already satisfied: et-xmlfile in /usr/local/lib/python3.6/dist-packages (from openpyxl>=2.5.8->camelot-py[cv]) (1.0.1)\n",
            "Requirement already satisfied: six>=1.5 in /usr/local/lib/python3.6/dist-packages (from python-dateutil>=2.6.1->pandas>=0.23.4->camelot-py[cv]) (1.15.0)\n",
            "Requirement already satisfied: cffi!=1.11.3,>=1.8 in /usr/local/lib/python3.6/dist-packages (from cryptography->pdfminer.six>=20200726->camelot-py[cv]) (1.14.2)\n",
            "Requirement already satisfied: pycparser in /usr/local/lib/python3.6/dist-packages (from cffi!=1.11.3,>=1.8->cryptography->pdfminer.six>=20200726->camelot-py[cv]) (2.20)\n",
            "Building wheels for collected packages: PyPDF2\n",
            "  Building wheel for PyPDF2 (setup.py) ... \u001b[?25l\u001b[?25hdone\n",
            "  Created wheel for PyPDF2: filename=PyPDF2-1.26.0-cp36-none-any.whl size=61086 sha256=c304181e8f36099b9b2f67969efd25a730c3441aca4cb70c1b3f775c2537dc38\n",
            "  Stored in directory: /root/.cache/pip/wheels/53/84/19/35bc977c8bf5f0c23a8a011aa958acd4da4bbd7a229315c1b7\n",
            "Successfully built PyPDF2\n",
            "Installing collected packages: cryptography, pdfminer.six, PyPDF2, camelot-py\n",
            "Successfully installed PyPDF2-1.26.0 camelot-py-0.8.2 cryptography-3.1 pdfminer.six-20200726\n"
          ],
          "name": "stdout"
        }
      ]
    },
    {
      "cell_type": "code",
      "metadata": {
        "id": "0RZuavKC7PXV",
        "colab_type": "code",
        "colab": {
          "base_uri": "https://localhost:8080/",
          "height": 1000
        },
        "outputId": "0c26c569-f6cf-412c-cd10-2e56be520287"
      },
      "source": [
        "!apt install python3-tk ghostscript"
      ],
      "execution_count": 2,
      "outputs": [
        {
          "output_type": "stream",
          "text": [
            "Reading package lists... Done\n",
            "Building dependency tree       \n",
            "Reading state information... Done\n",
            "python3-tk is already the newest version (3.6.9-1~18.04).\n",
            "The following package was automatically installed and is no longer required:\n",
            "  libnvidia-common-440\n",
            "Use 'apt autoremove' to remove it.\n",
            "The following additional packages will be installed:\n",
            "  fonts-droid-fallback fonts-noto-mono gsfonts libcupsfilters1 libcupsimage2\n",
            "  libgs9 libgs9-common libijs-0.35 libjbig2dec0 poppler-data\n",
            "Suggested packages:\n",
            "  fonts-noto ghostscript-x poppler-utils fonts-japanese-mincho\n",
            "  | fonts-ipafont-mincho fonts-japanese-gothic | fonts-ipafont-gothic\n",
            "  fonts-arphic-ukai fonts-arphic-uming fonts-nanum\n",
            "The following NEW packages will be installed:\n",
            "  fonts-droid-fallback fonts-noto-mono ghostscript gsfonts libcupsfilters1\n",
            "  libcupsimage2 libgs9 libgs9-common libijs-0.35 libjbig2dec0 poppler-data\n",
            "0 upgraded, 11 newly installed, 0 to remove and 39 not upgraded.\n",
            "Need to get 14.1 MB of archives.\n",
            "After this operation, 49.9 MB of additional disk space will be used.\n",
            "Get:1 http://archive.ubuntu.com/ubuntu bionic/main amd64 fonts-droid-fallback all 1:6.0.1r16-1.1 [1,805 kB]\n",
            "Get:2 http://archive.ubuntu.com/ubuntu bionic/main amd64 poppler-data all 0.4.8-2 [1,479 kB]\n",
            "Get:3 http://archive.ubuntu.com/ubuntu bionic/main amd64 fonts-noto-mono all 20171026-2 [75.5 kB]\n",
            "Get:4 http://archive.ubuntu.com/ubuntu bionic-updates/main amd64 libcupsimage2 amd64 2.2.7-1ubuntu2.8 [18.6 kB]\n",
            "Get:5 http://archive.ubuntu.com/ubuntu bionic/main amd64 libijs-0.35 amd64 0.35-13 [15.5 kB]\n",
            "Get:6 http://archive.ubuntu.com/ubuntu bionic/main amd64 libjbig2dec0 amd64 0.13-6 [55.9 kB]\n",
            "Get:7 http://archive.ubuntu.com/ubuntu bionic-updates/main amd64 libgs9-common all 9.26~dfsg+0-0ubuntu0.18.04.13 [5,092 kB]\n",
            "Get:8 http://archive.ubuntu.com/ubuntu bionic-updates/main amd64 libgs9 amd64 9.26~dfsg+0-0ubuntu0.18.04.13 [2,263 kB]\n",
            "Get:9 http://archive.ubuntu.com/ubuntu bionic-updates/main amd64 ghostscript amd64 9.26~dfsg+0-0ubuntu0.18.04.13 [51.0 kB]\n",
            "Get:10 http://archive.ubuntu.com/ubuntu bionic/main amd64 gsfonts all 1:8.11+urwcyr1.0.7~pre44-4.4 [3,120 kB]\n",
            "Get:11 http://archive.ubuntu.com/ubuntu bionic-updates/main amd64 libcupsfilters1 amd64 1.20.2-0ubuntu3.1 [108 kB]\n",
            "Fetched 14.1 MB in 1s (11.0 MB/s)\n",
            "Selecting previously unselected package fonts-droid-fallback.\n",
            "(Reading database ... 144579 files and directories currently installed.)\n",
            "Preparing to unpack .../00-fonts-droid-fallback_1%3a6.0.1r16-1.1_all.deb ...\n",
            "Unpacking fonts-droid-fallback (1:6.0.1r16-1.1) ...\n",
            "Selecting previously unselected package poppler-data.\n",
            "Preparing to unpack .../01-poppler-data_0.4.8-2_all.deb ...\n",
            "Unpacking poppler-data (0.4.8-2) ...\n",
            "Selecting previously unselected package fonts-noto-mono.\n",
            "Preparing to unpack .../02-fonts-noto-mono_20171026-2_all.deb ...\n",
            "Unpacking fonts-noto-mono (20171026-2) ...\n",
            "Selecting previously unselected package libcupsimage2:amd64.\n",
            "Preparing to unpack .../03-libcupsimage2_2.2.7-1ubuntu2.8_amd64.deb ...\n",
            "Unpacking libcupsimage2:amd64 (2.2.7-1ubuntu2.8) ...\n",
            "Selecting previously unselected package libijs-0.35:amd64.\n",
            "Preparing to unpack .../04-libijs-0.35_0.35-13_amd64.deb ...\n",
            "Unpacking libijs-0.35:amd64 (0.35-13) ...\n",
            "Selecting previously unselected package libjbig2dec0:amd64.\n",
            "Preparing to unpack .../05-libjbig2dec0_0.13-6_amd64.deb ...\n",
            "Unpacking libjbig2dec0:amd64 (0.13-6) ...\n",
            "Selecting previously unselected package libgs9-common.\n",
            "Preparing to unpack .../06-libgs9-common_9.26~dfsg+0-0ubuntu0.18.04.13_all.deb ...\n",
            "Unpacking libgs9-common (9.26~dfsg+0-0ubuntu0.18.04.13) ...\n",
            "Selecting previously unselected package libgs9:amd64.\n",
            "Preparing to unpack .../07-libgs9_9.26~dfsg+0-0ubuntu0.18.04.13_amd64.deb ...\n",
            "Unpacking libgs9:amd64 (9.26~dfsg+0-0ubuntu0.18.04.13) ...\n",
            "Selecting previously unselected package ghostscript.\n",
            "Preparing to unpack .../08-ghostscript_9.26~dfsg+0-0ubuntu0.18.04.13_amd64.deb ...\n",
            "Unpacking ghostscript (9.26~dfsg+0-0ubuntu0.18.04.13) ...\n",
            "Selecting previously unselected package gsfonts.\n",
            "Preparing to unpack .../09-gsfonts_1%3a8.11+urwcyr1.0.7~pre44-4.4_all.deb ...\n",
            "Unpacking gsfonts (1:8.11+urwcyr1.0.7~pre44-4.4) ...\n",
            "Selecting previously unselected package libcupsfilters1:amd64.\n",
            "Preparing to unpack .../10-libcupsfilters1_1.20.2-0ubuntu3.1_amd64.deb ...\n",
            "Unpacking libcupsfilters1:amd64 (1.20.2-0ubuntu3.1) ...\n",
            "Setting up libgs9-common (9.26~dfsg+0-0ubuntu0.18.04.13) ...\n",
            "Setting up fonts-droid-fallback (1:6.0.1r16-1.1) ...\n",
            "Setting up gsfonts (1:8.11+urwcyr1.0.7~pre44-4.4) ...\n",
            "Setting up poppler-data (0.4.8-2) ...\n",
            "Setting up fonts-noto-mono (20171026-2) ...\n",
            "Setting up libcupsfilters1:amd64 (1.20.2-0ubuntu3.1) ...\n",
            "Setting up libcupsimage2:amd64 (2.2.7-1ubuntu2.8) ...\n",
            "Setting up libjbig2dec0:amd64 (0.13-6) ...\n",
            "Setting up libijs-0.35:amd64 (0.35-13) ...\n",
            "Setting up libgs9:amd64 (9.26~dfsg+0-0ubuntu0.18.04.13) ...\n",
            "Setting up ghostscript (9.26~dfsg+0-0ubuntu0.18.04.13) ...\n",
            "Processing triggers for man-db (2.8.3-2ubuntu0.1) ...\n",
            "Processing triggers for fontconfig (2.12.6-0ubuntu2) ...\n",
            "Processing triggers for libc-bin (2.27-3ubuntu1) ...\n",
            "/sbin/ldconfig.real: /usr/local/lib/python3.6/dist-packages/ideep4py/lib/libmkldnn.so.0 is not a symbolic link\n",
            "\n"
          ],
          "name": "stdout"
        }
      ]
    },
    {
      "cell_type": "code",
      "metadata": {
        "id": "zcwd4yL_6A_I",
        "colab_type": "code",
        "colab": {
          "base_uri": "https://localhost:8080/",
          "height": 71
        },
        "outputId": "e23f3254-c278-42b5-d9d2-628f5a2a759b"
      },
      "source": [
        "import camelot\n",
        "import pandas as pd\n",
        "import numpy as np \n",
        "import matplotlib.pyplot as plt\n",
        "import seaborn as sns"
      ],
      "execution_count": 3,
      "outputs": [
        {
          "output_type": "stream",
          "text": [
            "/usr/local/lib/python3.6/dist-packages/statsmodels/tools/_testing.py:19: FutureWarning: pandas.util.testing is deprecated. Use the functions in the public API at pandas.testing instead.\n",
            "  import pandas.util.testing as tm\n"
          ],
          "name": "stderr"
        }
      ]
    },
    {
      "cell_type": "markdown",
      "metadata": {
        "id": "ionI8Z5JLcPP",
        "colab_type": "text"
      },
      "source": [
        "# ***Exportacion y Preparacion de los datos***\n"
      ]
    },
    {
      "cell_type": "code",
      "metadata": {
        "id": "DHqzlnwULgiC",
        "colab_type": "code",
        "colab": {}
      },
      "source": [
        "def extraccion_informacion():\n",
        "\n",
        "    from google.colab import files\n",
        "    uploaded = files.upload()  \n",
        "\n",
        "    tables = camelot.read_pdf('RES_FALLO_MAG_7088_2019.pdf', pages='34-61')\n",
        "\n",
        "    #Se exporta todos los archivos a un csv, para luego unirlos\n",
        "    tables.export('puntajes_mg.csv', f='csv', compress=True)\n",
        "\n",
        "    conteo_1 = 0\n",
        "    for x in tables:\n",
        "        conteo_1 = conteo_1 +1 \n",
        "        x.to_csv('pagina {}.csv'.format(conteo_1)) \n",
        "\n",
        "    \n",
        "    lista_dataframes = []\n",
        "    archivos = 0\n",
        "    for x in range(1,49):\n",
        "        archivos = archivos +1 \n",
        "        lista_dataframes.append('pagina {}.csv'.format(archivos))\n",
        "\n",
        "    \n",
        "    df = pd.DataFrame()\n",
        "    for file in lista_dataframes:\n",
        "         df = pd.concat([df, pd.read_csv(file)], ignore_index=True)\n",
        "      \n",
        "    return df"
      ],
      "execution_count": 4,
      "outputs": []
    },
    {
      "cell_type": "code",
      "metadata": {
        "id": "si21fCRZMa4E",
        "colab_type": "code",
        "colab": {
          "resources": {
            "http://localhost:8080/nbextensions/google.colab/files.js": {
              "data": "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",
              "ok": true,
              "headers": [
                [
                  "content-type",
                  "application/javascript"
                ]
              ],
              "status": 200,
              "status_text": ""
            }
          },
          "base_uri": "https://localhost:8080/",
          "height": 72
        },
        "outputId": "39db1223-59a7-4631-a4c7-d66d5d780da3"
      },
      "source": [
        "df_datos = extraccion_informacion()"
      ],
      "execution_count": 67,
      "outputs": [
        {
          "output_type": "display_data",
          "data": {
            "text/html": [
              "\n",
              "     <input type=\"file\" id=\"files-78953a08-5fd9-4212-81cb-725c19a5c714\" name=\"files[]\" multiple disabled\n",
              "        style=\"border:none\" />\n",
              "     <output id=\"result-78953a08-5fd9-4212-81cb-725c19a5c714\">\n",
              "      Upload widget is only available when the cell has been executed in the\n",
              "      current browser session. Please rerun this cell to enable.\n",
              "      </output>\n",
              "      <script src=\"/nbextensions/google.colab/files.js\"></script> "
            ],
            "text/plain": [
              "<IPython.core.display.HTML object>"
            ]
          },
          "metadata": {
            "tags": []
          }
        },
        {
          "output_type": "stream",
          "text": [
            "Saving RES_FALLO_MAG_7088_2019.pdf to RES_FALLO_MAG_7088_2019 (3).pdf\n"
          ],
          "name": "stdout"
        }
      ]
    },
    {
      "cell_type": "code",
      "metadata": {
        "id": "DclmXBVZ7YxW",
        "colab_type": "code",
        "colab": {}
      },
      "source": [
        "df_datos.drop('Unnamed: 0', inplace = True, axis = 1)\n",
        "df_datos.drop('Unnamed: 1', inplace = True, axis = 1)"
      ],
      "execution_count": 69,
      "outputs": []
    },
    {
      "cell_type": "code",
      "metadata": {
        "id": "3cN606Aq8bpP",
        "colab_type": "code",
        "colab": {
          "base_uri": "https://localhost:8080/",
          "height": 204
        },
        "outputId": "fdbc4805-b742-43bd-f4e1-41430efc299d"
      },
      "source": [
        "df_datos.head()"
      ],
      "execution_count": 70,
      "outputs": [
        {
          "output_type": "execute_result",
          "data": {
            "text/html": [
              "<div>\n",
              "<style scoped>\n",
              "    .dataframe tbody tr th:only-of-type {\n",
              "        vertical-align: middle;\n",
              "    }\n",
              "\n",
              "    .dataframe tbody tr th {\n",
              "        vertical-align: top;\n",
              "    }\n",
              "\n",
              "    .dataframe thead th {\n",
              "        text-align: right;\n",
              "    }\n",
              "</style>\n",
              "<table border=\"1\" class=\"dataframe\">\n",
              "  <thead>\n",
              "    <tr style=\"text-align: right;\">\n",
              "      <th></th>\n",
              "      <th>#</th>\n",
              "      <th>FOLIO</th>\n",
              "      <th>SEXO</th>\n",
              "      <th>NOMBRE</th>\n",
              "      <th>ESTADO</th>\n",
              "      <th>INSTITUCION DE DESTINO</th>\n",
              "      <th>PUNTAJE</th>\n",
              "    </tr>\n",
              "  </thead>\n",
              "  <tbody>\n",
              "    <tr>\n",
              "      <th>0</th>\n",
              "      <td>1.0</td>\n",
              "      <td>73200308.0</td>\n",
              "      <td>FEMENINO</td>\n",
              "      <td>AGUILAR PLAZA CAMILA ANDREA</td>\n",
              "      <td>FUERA DE BASES</td>\n",
              "      <td>NaN</td>\n",
              "      <td>NaN</td>\n",
              "    </tr>\n",
              "    <tr>\n",
              "      <th>1</th>\n",
              "      <td>2.0</td>\n",
              "      <td>73200230.0</td>\n",
              "      <td>FEMENINO</td>\n",
              "      <td>AGUILERA MOLINA FLORENCIA</td>\n",
              "      <td>FUERA DE BASES</td>\n",
              "      <td>NaN</td>\n",
              "      <td>NaN</td>\n",
              "    </tr>\n",
              "    <tr>\n",
              "      <th>2</th>\n",
              "      <td>3.0</td>\n",
              "      <td>73200353.0</td>\n",
              "      <td>MASCULINO</td>\n",
              "      <td>AGURTO SAEZ CRISTOBAL ANDRES</td>\n",
              "      <td>FUERA DE BASES</td>\n",
              "      <td>NaN</td>\n",
              "      <td>NaN</td>\n",
              "    </tr>\n",
              "    <tr>\n",
              "      <th>3</th>\n",
              "      <td>4.0</td>\n",
              "      <td>73200590.0</td>\n",
              "      <td>FEMENINO</td>\n",
              "      <td>ALARCON AVILA ANAIS NATALIA</td>\n",
              "      <td>FUERA DE BASES</td>\n",
              "      <td>NaN</td>\n",
              "      <td>NaN</td>\n",
              "    </tr>\n",
              "    <tr>\n",
              "      <th>4</th>\n",
              "      <td>5.0</td>\n",
              "      <td>73201192.0</td>\n",
              "      <td>MASCULINO</td>\n",
              "      <td>ALARCON ROJAS JAVIER EDUARDO</td>\n",
              "      <td>FUERA DE BASES</td>\n",
              "      <td>NaN</td>\n",
              "      <td>NaN</td>\n",
              "    </tr>\n",
              "  </tbody>\n",
              "</table>\n",
              "</div>"
            ],
            "text/plain": [
              "     #       FOLIO       SEXO  ...          ESTADO INSTITUCION DE DESTINO PUNTAJE\n",
              "0  1.0  73200308.0   FEMENINO  ...  FUERA DE BASES                    NaN     NaN\n",
              "1  2.0  73200230.0   FEMENINO  ...  FUERA DE BASES                    NaN     NaN\n",
              "2  3.0  73200353.0  MASCULINO  ...  FUERA DE BASES                    NaN     NaN\n",
              "3  4.0  73200590.0   FEMENINO  ...  FUERA DE BASES                    NaN     NaN\n",
              "4  5.0  73201192.0  MASCULINO  ...  FUERA DE BASES                    NaN     NaN\n",
              "\n",
              "[5 rows x 7 columns]"
            ]
          },
          "metadata": {
            "tags": []
          },
          "execution_count": 70
        }
      ]
    },
    {
      "cell_type": "markdown",
      "metadata": {
        "id": "PXWiddLJO-WV",
        "colab_type": "text"
      },
      "source": [
        "# ***Analisis y Exploracion de los datos***\n",
        "\n"
      ]
    },
    {
      "cell_type": "code",
      "metadata": {
        "id": "DpwiyvWIPE-L",
        "colab_type": "code",
        "colab": {
          "base_uri": "https://localhost:8080/",
          "height": 204
        },
        "outputId": "3f744f71-7ed9-4556-8769-25df416bf15d"
      },
      "source": [
        "df_datos.head()"
      ],
      "execution_count": 74,
      "outputs": [
        {
          "output_type": "execute_result",
          "data": {
            "text/html": [
              "<div>\n",
              "<style scoped>\n",
              "    .dataframe tbody tr th:only-of-type {\n",
              "        vertical-align: middle;\n",
              "    }\n",
              "\n",
              "    .dataframe tbody tr th {\n",
              "        vertical-align: top;\n",
              "    }\n",
              "\n",
              "    .dataframe thead th {\n",
              "        text-align: right;\n",
              "    }\n",
              "</style>\n",
              "<table border=\"1\" class=\"dataframe\">\n",
              "  <thead>\n",
              "    <tr style=\"text-align: right;\">\n",
              "      <th></th>\n",
              "      <th>#</th>\n",
              "      <th>FOLIO</th>\n",
              "      <th>SEXO</th>\n",
              "      <th>NOMBRE</th>\n",
              "      <th>ESTADO</th>\n",
              "      <th>INSTITUCION DE DESTINO</th>\n",
              "      <th>PUNTAJE</th>\n",
              "    </tr>\n",
              "  </thead>\n",
              "  <tbody>\n",
              "    <tr>\n",
              "      <th>0</th>\n",
              "      <td>1.0</td>\n",
              "      <td>73200308.0</td>\n",
              "      <td>FEMENINO</td>\n",
              "      <td>AGUILAR PLAZA CAMILA ANDREA</td>\n",
              "      <td>FUERA DE BASES</td>\n",
              "      <td>NaN</td>\n",
              "      <td>NaN</td>\n",
              "    </tr>\n",
              "    <tr>\n",
              "      <th>1</th>\n",
              "      <td>2.0</td>\n",
              "      <td>73200230.0</td>\n",
              "      <td>FEMENINO</td>\n",
              "      <td>AGUILERA MOLINA FLORENCIA</td>\n",
              "      <td>FUERA DE BASES</td>\n",
              "      <td>NaN</td>\n",
              "      <td>NaN</td>\n",
              "    </tr>\n",
              "    <tr>\n",
              "      <th>2</th>\n",
              "      <td>3.0</td>\n",
              "      <td>73200353.0</td>\n",
              "      <td>MASCULINO</td>\n",
              "      <td>AGURTO SAEZ CRISTOBAL ANDRES</td>\n",
              "      <td>FUERA DE BASES</td>\n",
              "      <td>NaN</td>\n",
              "      <td>NaN</td>\n",
              "    </tr>\n",
              "    <tr>\n",
              "      <th>3</th>\n",
              "      <td>4.0</td>\n",
              "      <td>73200590.0</td>\n",
              "      <td>FEMENINO</td>\n",
              "      <td>ALARCON AVILA ANAIS NATALIA</td>\n",
              "      <td>FUERA DE BASES</td>\n",
              "      <td>NaN</td>\n",
              "      <td>NaN</td>\n",
              "    </tr>\n",
              "    <tr>\n",
              "      <th>4</th>\n",
              "      <td>5.0</td>\n",
              "      <td>73201192.0</td>\n",
              "      <td>MASCULINO</td>\n",
              "      <td>ALARCON ROJAS JAVIER EDUARDO</td>\n",
              "      <td>FUERA DE BASES</td>\n",
              "      <td>NaN</td>\n",
              "      <td>NaN</td>\n",
              "    </tr>\n",
              "  </tbody>\n",
              "</table>\n",
              "</div>"
            ],
            "text/plain": [
              "     #       FOLIO       SEXO  ...          ESTADO INSTITUCION DE DESTINO PUNTAJE\n",
              "0  1.0  73200308.0   FEMENINO  ...  FUERA DE BASES                    NaN     NaN\n",
              "1  2.0  73200230.0   FEMENINO  ...  FUERA DE BASES                    NaN     NaN\n",
              "2  3.0  73200353.0  MASCULINO  ...  FUERA DE BASES                    NaN     NaN\n",
              "3  4.0  73200590.0   FEMENINO  ...  FUERA DE BASES                    NaN     NaN\n",
              "4  5.0  73201192.0  MASCULINO  ...  FUERA DE BASES                    NaN     NaN\n",
              "\n",
              "[5 rows x 7 columns]"
            ]
          },
          "metadata": {
            "tags": []
          },
          "execution_count": 74
        }
      ]
    },
    {
      "cell_type": "code",
      "metadata": {
        "id": "h_ZWahWytxlo",
        "colab_type": "code",
        "colab": {
          "base_uri": "https://localhost:8080/",
          "height": 410
        },
        "outputId": "b4d159db-5412-43a3-a964-e5b39022e5f7"
      },
      "source": [
        "plt.figure(figsize=(6,6))\n",
        "sns.set_color_codes(\"muted\")\n",
        "\n",
        "sns.set_style('whitegrid')\n",
        "g = sns.barplot(y=\"FOLIO\", x=\"ESTADO\", data=df_datos.groupby('ESTADO').count()['FOLIO'].reset_index(),\n",
        "            label=\"SELECCIONADA\", color=\"b\")\n",
        "plt.title('Cantidad de Personas por Estado de Postulacion')\n",
        "plt.ylabel('Cantidad de Personas')\n",
        "sns.despine(left=True, bottom=True)"
      ],
      "execution_count": 89,
      "outputs": [
        {
          "output_type": "display_data",
          "data": {
            "image/png": "[encoded data removed]",
            "text/plain": [
              "<Figure size 432x432 with 1 Axes>"
            ]
          },
          "metadata": {
            "tags": []
          }
        }
      ]
    },
    {
      "cell_type": "code",
      "metadata": {
        "id": "OLMu_yT3_5Z5",
        "colab_type": "code",
        "colab": {}
      },
      "source": [
        "df_datos.groupby('ESTADO').count()['FOLIO']"
      ],
      "execution_count": null,
      "outputs": []
    },
    {
      "cell_type": "code",
      "metadata": {
        "id": "pQq-z5LN_H1a",
        "colab_type": "code",
        "colab": {}
      },
      "source": [
        "# Pie chart\n",
        "labels = ['Frogs', 'Hogs', 'Dogs', 'Logs']\n",
        "sizes = [15, 30, 45, 10]\n",
        "#colors\n",
        "colors = ['#ff9999','#66b3ff','#99ff99','#ffcc99']\n",
        "#explsion\n",
        "explode = (0.05,0.05,0.05,0.05)\n",
        " \n",
        "plot.pie(sizes, colors = colors, labels=labels, autopct='%1.1f%%', startangle=90, pctdistance=0.85, explode = explode)\n",
        "#draw circle\n",
        "centre_circle = plt.Circle((0,0),0.70,fc='white')\n",
        "fig = plt.gcf()\n",
        "fig.gca().add_artist(centre_circle)\n",
        "# Equal aspect ratio ensures that pie is drawn as a circle\n",
        "ax1.axis('equal')  \n",
        "plt.tight_layout()\n",
        "plt.show()\n"
      ],
      "execution_count": null,
      "outputs": []
    },
    {
      "cell_type": "code",
      "metadata": {
        "id": "5AntHKVSQx_H",
        "colab_type": "code",
        "colab": {
          "base_uri": "https://localhost:8080/",
          "height": 388
        },
        "outputId": "cb51c373-07b6-4970-a043-e60f2dc8f662"
      },
      "source": [
        "plt.figure(figsize=(8,6))\n",
        "\n",
        "sns.set_style('whitegrid')\n",
        "sns.countplot(x= 'ESTADO', data = df_datos, hue = 'SEXO')\n",
        "plt.ylabel('Cantidad de persona')\n",
        "sns.despine(left=True, bottom=True)"
      ],
      "execution_count": 76,
      "outputs": [
        {
          "output_type": "display_data",
          "data": {
            "image/png": "[encoded data removed]",
            "text/plain": [
              "<Figure size 576x432 with 1 Axes>"
            ]
          },
          "metadata": {
            "tags": []
          }
        }
      ]
    },
    {
      "cell_type": "code",
      "metadata": {
        "id": "xe5ESJocwVxf",
        "colab_type": "code",
        "colab": {
          "base_uri": "https://localhost:8080/",
          "height": 388
        },
        "outputId": "573dd8f3-a192-4132-9d23-64a1dc193e73"
      },
      "source": [
        "plt.figure(figsize=(8,6))\n",
        "sns.set_color_codes(\"muted\")\n",
        "\n",
        "sns.set_style('whitegrid')\n",
        "g = sns.barplot(y=\"FOLIO\", x=\"SEXO\", data=df_datos.groupby('SEXO').count()['FOLIO'].reset_index(),\n",
        "            label=\"SELECCIONADA\", color=\"b\")\n",
        "sns.despine(left=True, bottom=True)"
      ],
      "execution_count": 77,
      "outputs": [
        {
          "output_type": "display_data",
          "data": {
            "image/png": "[encoded data removed]",
            "text/plain": [
              "<Figure size 576x432 with 1 Axes>"
            ]
          },
          "metadata": {
            "tags": []
          }
        }
      ]
    },
    {
      "cell_type": "code",
      "metadata": {
        "id": "_17Kk6BvQ9zo",
        "colab_type": "code",
        "colab": {
          "base_uri": "https://localhost:8080/",
          "height": 204
        },
        "outputId": "7006071f-c089-4cce-9c2e-8b3bbd9ee2d0"
      },
      "source": [
        "df_sele = df_datos.loc[df_datos['ESTADO'] != 'FUERA DE BASES']\n",
        "df_sele.head()"
      ],
      "execution_count": 78,
      "outputs": [
        {
          "output_type": "execute_result",
          "data": {
            "text/html": [
              "<div>\n",
              "<style scoped>\n",
              "    .dataframe tbody tr th:only-of-type {\n",
              "        vertical-align: middle;\n",
              "    }\n",
              "\n",
              "    .dataframe tbody tr th {\n",
              "        vertical-align: top;\n",
              "    }\n",
              "\n",
              "    .dataframe thead th {\n",
              "        text-align: right;\n",
              "    }\n",
              "</style>\n",
              "<table border=\"1\" class=\"dataframe\">\n",
              "  <thead>\n",
              "    <tr style=\"text-align: right;\">\n",
              "      <th></th>\n",
              "      <th>#</th>\n",
              "      <th>FOLIO</th>\n",
              "      <th>SEXO</th>\n",
              "      <th>NOMBRE</th>\n",
              "      <th>ESTADO</th>\n",
              "      <th>INSTITUCION DE DESTINO</th>\n",
              "      <th>PUNTAJE</th>\n",
              "    </tr>\n",
              "  </thead>\n",
              "  <tbody>\n",
              "    <tr>\n",
              "      <th>234</th>\n",
              "      <td>1.0</td>\n",
              "      <td>73200636.0</td>\n",
              "      <td>FEMENINO</td>\n",
              "      <td>DELANO BAUDET PIA ALEJANDRA</td>\n",
              "      <td>NO SELECCIONADA</td>\n",
              "      <td>BOSTON UNIVERSITY</td>\n",
              "      <td>4,618</td>\n",
              "    </tr>\n",
              "    <tr>\n",
              "      <th>235</th>\n",
              "      <td>2.0</td>\n",
              "      <td>73200185.0</td>\n",
              "      <td>FEMENINO</td>\n",
              "      <td>ANDRADE SEPULVEDA KAREEN NICOLE</td>\n",
              "      <td>NO SELECCIONADA</td>\n",
              "      <td>UNIVERSIDADE DE SAO PAULO</td>\n",
              "      <td>4,617</td>\n",
              "    </tr>\n",
              "    <tr>\n",
              "      <th>236</th>\n",
              "      <td>3.0</td>\n",
              "      <td>73200547.0</td>\n",
              "      <td>FEMENINO</td>\n",
              "      <td>PEREZ PAREDES DANIELA ALEJANDRA</td>\n",
              "      <td>NO SELECCIONADA</td>\n",
              "      <td>UNIVERSITY OF MELBOURNE</td>\n",
              "      <td>4,615</td>\n",
              "    </tr>\n",
              "    <tr>\n",
              "      <th>237</th>\n",
              "      <td>4.0</td>\n",
              "      <td>73200569.0</td>\n",
              "      <td>MASCULINO</td>\n",
              "      <td>CARMONA FONATINE PEDRO LEON</td>\n",
              "      <td>NO SELECCIONADA</td>\n",
              "      <td>UNIVERSITY OF EDINBURGH</td>\n",
              "      <td>4,614</td>\n",
              "    </tr>\n",
              "    <tr>\n",
              "      <th>238</th>\n",
              "      <td>5.0</td>\n",
              "      <td>73200040.0</td>\n",
              "      <td>FEMENINO</td>\n",
              "      <td>YAÑEZ TORRES MARIA FLORENCIA</td>\n",
              "      <td>NO SELECCIONADA</td>\n",
              "      <td>UNIVERSITY OF SYDNEY</td>\n",
              "      <td>4,614</td>\n",
              "    </tr>\n",
              "  </tbody>\n",
              "</table>\n",
              "</div>"
            ],
            "text/plain": [
              "       #       FOLIO  ...     INSTITUCION DE DESTINO PUNTAJE\n",
              "234  1.0  73200636.0  ...          BOSTON UNIVERSITY   4,618\n",
              "235  2.0  73200185.0  ...  UNIVERSIDADE DE SAO PAULO   4,617\n",
              "236  3.0  73200547.0  ...    UNIVERSITY OF MELBOURNE   4,615\n",
              "237  4.0  73200569.0  ...    UNIVERSITY OF EDINBURGH   4,614\n",
              "238  5.0  73200040.0  ...       UNIVERSITY OF SYDNEY   4,614\n",
              "\n",
              "[5 rows x 7 columns]"
            ]
          },
          "metadata": {
            "tags": []
          },
          "execution_count": 78
        }
      ]
    },
    {
      "cell_type": "code",
      "metadata": {
        "id": "74wxcKztWfbP",
        "colab_type": "code",
        "colab": {
          "base_uri": "https://localhost:8080/",
          "height": 34
        },
        "outputId": "848f842c-2408-424a-9919-ba1813a4d672"
      },
      "source": [
        "len(df_sele)"
      ],
      "execution_count": 79,
      "outputs": [
        {
          "output_type": "execute_result",
          "data": {
            "text/plain": [
              "1041"
            ]
          },
          "metadata": {
            "tags": []
          },
          "execution_count": 79
        }
      ]
    },
    {
      "cell_type": "code",
      "metadata": {
        "id": "sPoAdbrgR5ID",
        "colab_type": "code",
        "colab": {
          "base_uri": "https://localhost:8080/",
          "height": 407
        },
        "outputId": "a62cbc89-6456-4dab-eef2-6350f7dfe23a"
      },
      "source": [
        "plt.figure(figsize=(8,6))\n",
        "\n",
        "sns.set_color_codes(\"muted\")\n",
        "\n",
        "sns.set_style('whitegrid')\n",
        "\n",
        "g = sns.barplot(y=\"FOLIO\", x=\"ESTADO\", data=df_sele.groupby('ESTADO').count()['FOLIO'].reset_index(),\n",
        "            label=\"SELECCIONADA\", color=\"b\")\n",
        "sns.despine(left=True, bottom=True)\n",
        "plt.ylabel('Cantidad de persona')"
      ],
      "execution_count": 80,
      "outputs": [
        {
          "output_type": "execute_result",
          "data": {
            "text/plain": [
              "Text(0, 0.5, 'Cantidad de persona')"
            ]
          },
          "metadata": {
            "tags": []
          },
          "execution_count": 80
        },
        {
          "output_type": "display_data",
          "data": {
            "image/png": "[encoded data removed]",
            "text/plain": [
              "<Figure size 576x432 with 1 Axes>"
            ]
          },
          "metadata": {
            "tags": []
          }
        }
      ]
    },
    {
      "cell_type": "code",
      "metadata": {
        "id": "Wl2bbgu3R9ud",
        "colab_type": "code",
        "colab": {
          "base_uri": "https://localhost:8080/",
          "height": 394
        },
        "outputId": "abd4a42e-9882-4074-a906-0951603d31f6"
      },
      "source": [
        "plt.figure(figsize=(8,6))\n",
        "sns.set()\n",
        "\n",
        "sns.set_style('whitegrid')\n",
        "sns.countplot(x= 'ESTADO', data = df_sele, hue = 'SEXO')\n",
        "plt.ylabel('Cantidad de persona')\n",
        "sns.despine(left=True, bottom=True)"
      ],
      "execution_count": 81,
      "outputs": [
        {
          "output_type": "display_data",
          "data": {
            "image/png": "[encoded data removed]",
            "text/plain": [
              "<Figure size 576x432 with 1 Axes>"
            ]
          },
          "metadata": {
            "tags": []
          }
        }
      ]
    },
    {
      "cell_type": "code",
      "metadata": {
        "id": "mL8mcdz-SBW6",
        "colab_type": "code",
        "colab": {
          "base_uri": "https://localhost:8080/",
          "height": 119
        },
        "outputId": "b9fe3825-fcc2-4519-c989-f72d347d836a"
      },
      "source": [
        "df_sele.groupby(['SEXO','ESTADO']).count()['FOLIO']/len(df_sele)*100"
      ],
      "execution_count": 82,
      "outputs": [
        {
          "output_type": "execute_result",
          "data": {
            "text/plain": [
              "SEXO       ESTADO         \n",
              "FEMENINO   NO SELECCIONADA    44.092219\n",
              "           SELECCIONADA       15.177714\n",
              "MASCULINO  NO SELECCIONADA    29.490874\n",
              "           SELECCIONADA       11.239193\n",
              "Name: FOLIO, dtype: float64"
            ]
          },
          "metadata": {
            "tags": []
          },
          "execution_count": 82
        }
      ]
    },
    {
      "cell_type": "code",
      "metadata": {
        "id": "h0VJkjanU3rr",
        "colab_type": "code",
        "colab": {}
      },
      "source": [
        "dummies = pd.get_dummies(df_sele['ESTADO'])\n",
        "df_sele = pd.concat([df_sele, dummies], axis=1, sort=False)\n"
      ],
      "execution_count": 83,
      "outputs": []
    },
    {
      "cell_type": "code",
      "metadata": {
        "id": "IfJ1ATHFiQ_a",
        "colab_type": "code",
        "colab": {}
      },
      "source": [
        "pivot = df_sele.pivot_table(index=['INSTITUCION DE DESTINO'], values=['NO SELECCIONADA', 'SELECCIONADA'], aggfunc='sum')\n",
        "pivot['POSTULACIONES'] = pivot['NO SELECCIONADA'] +pivot['SELECCIONADA']\n",
        "pivot = pivot.sort_values(by='POSTULACIONES', ascending=False)\n",
        "pivot['% Aceptados'] = round(pivot['SELECCIONADA']/pivot['POSTULACIONES'],3)*100\n",
        "pivot = pivot.reset_index()"
      ],
      "execution_count": 84,
      "outputs": []
    },
    {
      "cell_type": "code",
      "metadata": {
        "id": "g8fVU2KFj40H",
        "colab_type": "code",
        "colab": {
          "base_uri": "https://localhost:8080/",
          "height": 622
        },
        "outputId": "4ed52787-0d32-4160-bd99-7ff9c792d116"
      },
      "source": [
        "#25 univesidades con mas postulaciones\n",
        "pivot_25 = pivot[:26]\n",
        "pivot_25\n",
        "\n",
        "f, ax = plt.subplots(figsize=(10, 10))\n",
        "\n",
        "sns.set_color_codes(\"pastel\")\n",
        "\n",
        "g = sns.barplot(y='INSTITUCION DE DESTINO', x=\"POSTULACIONES\", data=pivot_25,\n",
        "            label=\"POSTULACIONES\", color=\"b\")\n",
        "\n",
        "sns.set_color_codes(\"muted\")\n",
        "g = sns.barplot(y=\"INSTITUCION DE DESTINO\", x=\"SELECCIONADA\", data=pivot_25,\n",
        "            label=\"SELECCIONADA\", color=\"b\")\n",
        "\n",
        "# Add a legend and informative axis label\n",
        "ax.legend(ncol=2, loc=\"lower right\", frameon=True)\n",
        "\n",
        "plt.xticks(rotation=90)\n",
        "\n",
        "sns.despine(left=True, bottom=True)"
      ],
      "execution_count": 85,
      "outputs": [
        {
          "output_type": "display_data",
          "data": {
            "image/png": "[encoded data removed]",
            "text/plain": [
              "<Figure size 720x720 with 1 Axes>"
            ]
          },
          "metadata": {
            "tags": []
          }
        }
      ]
    },
    {
      "cell_type": "code",
      "metadata": {
        "id": "CKTMyx_usOkS",
        "colab_type": "code",
        "colab": {
          "base_uri": "https://localhost:8080/",
          "height": 542
        },
        "outputId": "498fee64-c871-4b85-c5b0-b4a0c1013d73"
      },
      "source": [
        "pivot_25 = pivot_25[:10]\n",
        "pivot_25\n",
        "\n",
        "import plotly.express as px\n",
        "df = px.data.gapminder()\n",
        "\n",
        "fig = px.scatter(pivot_25, x=\"SELECCIONADA\", y=\"% Aceptados\",\n",
        "\t         size='POSTULACIONES', color=\"INSTITUCION DE DESTINO\", template = 'none',\n",
        "                  size_max=70)\n",
        "\n",
        "fig.show()"
      ],
      "execution_count": 86,
      "outputs": [
        {
          "output_type": "display_data",
          "data": {
            "text/html": [
              "<html>\n",
              "<head><meta charset=\"utf-8\" /></head>\n",
              "<body>\n",
              "    <div>\n",
              "            <script src=\"https://cdnjs.cloudflare.com/ajax/libs/mathjax/2.7.5/MathJax.js?config=TeX-AMS-MML_SVG\"></script><script type=\"text/javascript\">if (window.MathJax) {MathJax.Hub.Config({SVG: {font: \"STIX-Web\"}});}</script>\n",
              "                <script type=\"text/javascript\">window.PlotlyConfig = {MathJaxConfig: 'local'};</script>\n",
              "        <script src=\"https://cdn.plot.ly/plotly-latest.min.js\"></script>    \n",
              "            <div id=\"d36b6a85-c7c7-469e-8dde-66278f465d0c\" class=\"plotly-graph-div\" style=\"height:525px; width:100%;\"></div>\n",
              "            <script type=\"text/javascript\">\n",
              "                \n",
              "                    window.PLOTLYENV=window.PLOTLYENV || {};\n",
              "                    \n",
              "                if (document.getElementById(\"d36b6a85-c7c7-469e-8dde-66278f465d0c\")) {\n",
              "                    Plotly.newPlot(\n",
              "                        'd36b6a85-c7c7-469e-8dde-66278f465d0c',\n",
              "                        [{\"hoverlabel\": {\"namelength\": 0}, \"hovertemplate\": \"INSTITUCION DE DESTINO=UNIVERSIDAD DE BARCELONA<br>SELECCIONADA=%{x}<br>% Aceptados=%{y}<br>POSTULACIONES=%{marker.size}\", \"legendgroup\": \"INSTITUCION DE DESTINO=UNIVERSIDAD DE BARCELONA\", \"marker\": {\"color\": \"#1F77B4\", \"size\": [142], \"sizemode\": \"area\", \"sizeref\": 0.028979591836734694, \"symbol\": \"circle\"}, \"mode\": \"markers\", \"name\": \"INSTITUCION DE DESTINO=UNIVERSIDAD DE BARCELONA\", \"showlegend\": true, \"type\": \"scatter\", \"x\": [18], \"xaxis\": \"x\", \"y\": [12.7], \"yaxis\": \"y\"}, {\"hoverlabel\": {\"namelength\": 0}, \"hovertemplate\": \"INSTITUCION DE DESTINO=UNIVERSITY COLLEGE LONDON<br>SELECCIONADA=%{x}<br>% Aceptados=%{y}<br>POSTULACIONES=%{marker.size}\", \"legendgroup\": \"INSTITUCION DE DESTINO=UNIVERSITY COLLEGE LONDON\", \"marker\": {\"color\": \"#FF7F0E\", \"size\": [69], \"sizemode\": \"area\", \"sizeref\": 0.028979591836734694, \"symbol\": \"circle\"}, \"mode\": \"markers\", \"name\": \"INSTITUCION DE DESTINO=UNIVERSITY COLLEGE LONDON\", \"showlegend\": true, \"type\": \"scatter\", \"x\": [31], \"xaxis\": \"x\", \"y\": [44.9], \"yaxis\": \"y\"}, {\"hoverlabel\": {\"namelength\": 0}, \"hovertemplate\": \"INSTITUCION DE DESTINO=UNIVERSIDAD AUTONOMA DE BARCELONA<br>SELECCIONADA=%{x}<br>% Aceptados=%{y}<br>POSTULACIONES=%{marker.size}\", \"legendgroup\": \"INSTITUCION DE DESTINO=UNIVERSIDAD AUTONOMA DE BARCELONA\", \"marker\": {\"color\": \"#2CA02C\", \"size\": [58], \"sizemode\": \"area\", \"sizeref\": 0.028979591836734694, \"symbol\": \"circle\"}, \"mode\": \"markers\", \"name\": \"INSTITUCION DE DESTINO=UNIVERSIDAD AUTONOMA DE BARCELONA\", \"showlegend\": true, \"type\": \"scatter\", \"x\": [11], \"xaxis\": \"x\", \"y\": [19.0], \"yaxis\": \"y\"}, {\"hoverlabel\": {\"namelength\": 0}, \"hovertemplate\": \"INSTITUCION DE DESTINO=LONDON SCHOOL ECONOMICS & POLITICAL SCIENCE<br>SELECCIONADA=%{x}<br>% Aceptados=%{y}<br>POSTULACIONES=%{marker.size}\", \"legendgroup\": \"INSTITUCION DE DESTINO=LONDON SCHOOL ECONOMICS & POLITICAL SCIENCE\", \"marker\": {\"color\": \"#D62728\", \"size\": [54], \"sizemode\": \"area\", \"sizeref\": 0.028979591836734694, \"symbol\": \"circle\"}, \"mode\": \"markers\", \"name\": \"INSTITUCION DE DESTINO=LONDON SCHOOL ECONOMICS & POLITICAL SCIENCE\", \"showlegend\": true, \"type\": \"scatter\", \"x\": [25], \"xaxis\": \"x\", \"y\": [46.300000000000004], \"yaxis\": \"y\"}, {\"hoverlabel\": {\"namelength\": 0}, \"hovertemplate\": \"INSTITUCION DE DESTINO=UNIVERSITY OF MELBOURNE<br>SELECCIONADA=%{x}<br>% Aceptados=%{y}<br>POSTULACIONES=%{marker.size}\", \"legendgroup\": \"INSTITUCION DE DESTINO=UNIVERSITY OF MELBOURNE\", \"marker\": {\"color\": \"#9467BD\", \"size\": [38], \"sizemode\": \"area\", \"sizeref\": 0.028979591836734694, \"symbol\": \"circle\"}, \"mode\": \"markers\", \"name\": \"INSTITUCION DE DESTINO=UNIVERSITY OF MELBOURNE\", \"showlegend\": true, \"type\": \"scatter\", \"x\": [13], \"xaxis\": \"x\", \"y\": [34.2], \"yaxis\": \"y\"}, {\"hoverlabel\": {\"namelength\": 0}, \"hovertemplate\": \"INSTITUCION DE DESTINO=UNIVERSITY OF EDINBURGH<br>SELECCIONADA=%{x}<br>% Aceptados=%{y}<br>POSTULACIONES=%{marker.size}\", \"legendgroup\": \"INSTITUCION DE DESTINO=UNIVERSITY OF EDINBURGH\", \"marker\": {\"color\": \"#8C564B\", \"size\": [31], \"sizemode\": \"area\", \"sizeref\": 0.028979591836734694, \"symbol\": \"circle\"}, \"mode\": \"markers\", \"name\": \"INSTITUCION DE DESTINO=UNIVERSITY OF EDINBURGH\", \"showlegend\": true, \"type\": \"scatter\", \"x\": [8], \"xaxis\": \"x\", \"y\": [25.8], \"yaxis\": \"y\"}, {\"hoverlabel\": {\"namelength\": 0}, \"hovertemplate\": \"INSTITUCION DE DESTINO=UNIVERSITY OF QUEENSLAND<br>SELECCIONADA=%{x}<br>% Aceptados=%{y}<br>POSTULACIONES=%{marker.size}\", \"legendgroup\": \"INSTITUCION DE DESTINO=UNIVERSITY OF QUEENSLAND\", \"marker\": {\"color\": \"#E377C2\", \"size\": [27], \"sizemode\": \"area\", \"sizeref\": 0.028979591836734694, \"symbol\": \"circle\"}, \"mode\": \"markers\", \"name\": \"INSTITUCION DE DESTINO=UNIVERSITY OF QUEENSLAND\", \"showlegend\": true, \"type\": \"scatter\", \"x\": [9], \"xaxis\": \"x\", \"y\": [33.300000000000004], \"yaxis\": \"y\"}, {\"hoverlabel\": {\"namelength\": 0}, \"hovertemplate\": \"INSTITUCION DE DESTINO=UNIVERSIDAD COMPLUTENSE DE MADRID<br>SELECCIONADA=%{x}<br>% Aceptados=%{y}<br>POSTULACIONES=%{marker.size}\", \"legendgroup\": \"INSTITUCION DE DESTINO=UNIVERSIDAD COMPLUTENSE DE MADRID\", \"marker\": {\"color\": \"#7F7F7F\", \"size\": [25], \"sizemode\": \"area\", \"sizeref\": 0.028979591836734694, \"symbol\": \"circle\"}, \"mode\": \"markers\", \"name\": \"INSTITUCION DE DESTINO=UNIVERSIDAD COMPLUTENSE DE MADRID\", \"showlegend\": true, \"type\": \"scatter\", \"x\": [2], \"xaxis\": \"x\", \"y\": [8.0], \"yaxis\": \"y\"}, {\"hoverlabel\": {\"namelength\": 0}, \"hovertemplate\": \"INSTITUCION DE DESTINO=UNIVERSITY OF MANCHESTER<br>SELECCIONADA=%{x}<br>% Aceptados=%{y}<br>POSTULACIONES=%{marker.size}\", \"legendgroup\": \"INSTITUCION DE DESTINO=UNIVERSITY OF MANCHESTER\", \"marker\": {\"color\": \"#BCBD22\", \"size\": [22], \"sizemode\": \"area\", \"sizeref\": 0.028979591836734694, \"symbol\": \"circle\"}, \"mode\": \"markers\", \"name\": \"INSTITUCION DE DESTINO=UNIVERSITY OF MANCHESTER\", \"showlegend\": true, \"type\": \"scatter\", \"x\": [11], \"xaxis\": \"x\", \"y\": [50.0], \"yaxis\": \"y\"}, {\"hoverlabel\": {\"namelength\": 0}, \"hovertemplate\": \"INSTITUCION DE DESTINO=UNIVERSIDAD POLITECNICA DE CATALU\\u00d1A<br>SELECCIONADA=%{x}<br>% Aceptados=%{y}<br>POSTULACIONES=%{marker.size}\", \"legendgroup\": \"INSTITUCION DE DESTINO=UNIVERSIDAD POLITECNICA DE CATALU\\u00d1A\", \"marker\": {\"color\": \"#17BECF\", \"size\": [22], \"sizemode\": \"area\", \"sizeref\": 0.028979591836734694, \"symbol\": \"circle\"}, \"mode\": \"markers\", \"name\": \"INSTITUCION DE DESTINO=UNIVERSIDAD POLITECNICA DE CATALU\\u00d1A\", \"showlegend\": true, \"type\": \"scatter\", \"x\": [4], \"xaxis\": \"x\", \"y\": [18.2], \"yaxis\": \"y\"}],\n",
              "                        {\"legend\": {\"itemsizing\": \"constant\", \"tracegroupgap\": 0}, \"margin\": {\"t\": 60}, \"template\": {\"data\": {\"scatter\": [{\"type\": \"scatter\"}]}}, \"xaxis\": {\"anchor\": \"y\", \"domain\": [0.0, 1.0], \"title\": {\"text\": \"SELECCIONADA\"}}, \"yaxis\": {\"anchor\": \"x\", \"domain\": [0.0, 1.0], \"title\": {\"text\": \"% Aceptados\"}}},\n",
              "                        {\"responsive\": true}\n",
              "                    ).then(function(){\n",
              "                            \n",
              "var gd = document.getElementById('d36b6a85-c7c7-469e-8dde-66278f465d0c');\n",
              "var x = new MutationObserver(function (mutations, observer) {{\n",
              "        var display = window.getComputedStyle(gd).display;\n",
              "        if (!display || display === 'none') {{\n",
              "            console.log([gd, 'removed!']);\n",
              "            Plotly.purge(gd);\n",
              "            observer.disconnect();\n",
              "        }}\n",
              "}});\n",
              "\n",
              "// Listen for the removal of the full notebook cells\n",
              "var notebookContainer = gd.closest('#notebook-container');\n",
              "if (notebookContainer) {{\n",
              "    x.observe(notebookContainer, {childList: true});\n",
              "}}\n",
              "\n",
              "// Listen for the clearing of the current output cell\n",
              "var outputEl = gd.closest('.output');\n",
              "if (outputEl) {{\n",
              "    x.observe(outputEl, {childList: true});\n",
              "}}\n",
              "\n",
              "                        })\n",
              "                };\n",
              "                \n",
              "            </script>\n",
              "        </div>\n",
              "</body>\n",
              "</html>"
            ]
          },
          "metadata": {
            "tags": []
          }
        }
      ]
    },
    {
      "cell_type": "code",
      "metadata": {
        "id": "ANbdoN_4o0Bz",
        "colab_type": "code",
        "colab": {}
      },
      "source": [
        "#f, ax = plt.subplots(figsize=(10, 10))\n",
        "\n",
        "\n",
        "#\n",
        "#pivot_25 = pivot_25.sort_values(by=['% Aceptados'], ascending=False)\n",
        "\n",
        "#g = sns.barplot(y='INSTITUCION DE DESTINO', x=\"% Aceptados\", data=pivot_25,\n",
        "#            label=\"% Aceptacion\", color=\"b\")\n",
        "\n",
        "#plt.legend()\n",
        "#sns.despine(left=True, bottom=True)\n",
        "#plt.xticks(rotation=90)"
      ],
      "execution_count": 87,
      "outputs": []
    },
    {
      "cell_type": "markdown",
      "metadata": {
        "id": "Db77-BFlQyrX",
        "colab_type": "text"
      },
      "source": [
        "# **Analisis por Paises**\n",
        "\n",
        "\n"
      ]
    },
    {
      "cell_type": "code",
      "metadata": {
        "id": "oxJgbIz3tvs0",
        "colab_type": "code",
        "colab": {}
      },
      "source": [
        "from plotly.offline import plot\n",
        "import plotly.graph_objects as go\n",
        "import plotly.io as pio"
      ],
      "execution_count": 95,
      "outputs": []
    },
    {
      "cell_type": "code",
      "metadata": {
        "id": "sW7XIr7lTSe3",
        "colab_type": "code",
        "colab": {
          "resources": {
            "http://localhost:8080/nbextensions/google.colab/files.js": {
              "data": "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",
              "ok": true,
              "headers": [
                [
                  "content-type",
                  "application/javascript"
                ]
              ],
              "status": 200,
              "status_text": ""
            }
          },
          "base_uri": "https://localhost:8080/",
          "height": 0
        },
        "outputId": "3545f25e-4566-444d-bdee-09aeaf45c161"
      },
      "source": [
        "from google.colab import files\n",
        "uploaded = files.upload()"
      ],
      "execution_count": null,
      "outputs": [
        {
          "output_type": "display_data",
          "data": {
            "text/html": [
              "\n",
              "     <input type=\"file\" id=\"files-47a9d3d5-4817-46c9-a73b-77b9633ea796\" name=\"files[]\" multiple disabled\n",
              "        style=\"border:none\" />\n",
              "     <output id=\"result-47a9d3d5-4817-46c9-a73b-77b9633ea796\">\n",
              "      Upload widget is only available when the cell has been executed in the\n",
              "      current browser session. Please rerun this cell to enable.\n",
              "      </output>\n",
              "      <script src=\"/nbextensions/google.colab/files.js\"></script> "
            ],
            "text/plain": [
              "<IPython.core.display.HTML object>"
            ]
          },
          "metadata": {
            "tags": []
          }
        }
      ]
    },
    {
      "cell_type": "code",
      "metadata": {
        "id": "4MTBBzsVTWti",
        "colab_type": "code",
        "colab": {}
      },
      "source": [
        "import io\n",
        "universidad = pd.read_csv(io.BytesIO(uploaded['mapeo_universidades.csv']), sep =';')\n",
        "# Dataset is now stored in a Pandas Dataframe\n",
        "\n",
        "#universidad = universidad.iloc[:,1:3]\n",
        "universidad.head()"
      ],
      "execution_count": null,
      "outputs": []
    },
    {
      "cell_type": "code",
      "metadata": {
        "id": "a6YnjPGRXLds",
        "colab_type": "code",
        "colab": {}
      },
      "source": [
        "len(universidad)"
      ],
      "execution_count": null,
      "outputs": []
    },
    {
      "cell_type": "code",
      "metadata": {
        "id": "-BNwmry0Ue1g",
        "colab_type": "code",
        "colab": {}
      },
      "source": [
        "resultado = pd.merge(df_sele, universidad, how='left', on=['INSTITUCION DE DESTINO'])"
      ],
      "execution_count": null,
      "outputs": []
    },
    {
      "cell_type": "code",
      "metadata": {
        "id": "327CvYpxkG3F",
        "colab_type": "code",
        "colab": {}
      },
      "source": [
        "resultado = resultado.loc[resultado['country'] != 'NO']\n",
        "resultado"
      ],
      "execution_count": null,
      "outputs": []
    },
    {
      "cell_type": "code",
      "metadata": {
        "id": "3bKoZ7JWcE3B",
        "colab_type": "code",
        "colab": {}
      },
      "source": [
        "resultados_f = resultado.groupby('country').count()['FOLIO'].reset_index()"
      ],
      "execution_count": null,
      "outputs": []
    },
    {
      "cell_type": "code",
      "metadata": {
        "id": "24Wg9ijVosOR",
        "colab_type": "code",
        "colab": {}
      },
      "source": [
        "from plotly.offline import plot\n",
        "import plotly.graph_objects as go\n",
        "import plotly.io as pio\n",
        "\n",
        "# 1) Infection Rates\n",
        "fig_cases = go.Figure(data = go.Choropleth(locations = resultados_f['country'],\n",
        "                                     z = resultados_f['FOLIO'],\n",
        "                                     locationmode = 'country names',\n",
        "                                     colorscale = 'Blues',\n",
        "                                     colorbar_title = \"Infections\"))\n",
        "\n",
        "fig_cases.update_layout(title_text = 'Cantidad de Postulante por pais',\n",
        "                  geo = dict(showframe = False,\n",
        "                           showcoastlines = False,\n",
        "                           projection_type = 'equirectangular'))\n"
      ],
      "execution_count": null,
      "outputs": []
    },
    {
      "cell_type": "code",
      "metadata": {
        "id": "p6NULQoouwrl",
        "colab_type": "code",
        "colab": {}
      },
      "source": [
        "resultado\n",
        "\n",
        "f, ax = plt.subplots(figsize=(10, 6))\n",
        "\n",
        "sns.set_color_codes(\"pastel\")\n",
        "\n",
        "g = sns.barplot(x='country', y=\"Postulante\", data=resultado,\n",
        "            label=\"Postulante\", color=\"b\")\n",
        "\n",
        "sns.set_color_codes(\"muted\")\n",
        "g = sns.barplot(x=\"country\", y=\"SELECCIONADA\", data=resultado,\n",
        "            label=\"Seleccionados\", color=\"b\")\n",
        "\n",
        "# Add a legend and informative axis label\n",
        "ax.legend(ncol=2, loc=\"upper right\", frameon=True)\n",
        "\n",
        "plt.xticks(rotation=90)\n",
        "\n",
        "sns.despine(left=True,top = True,bottom = False)\n"
      ],
      "execution_count": null,
      "outputs": []
    },
    {
      "cell_type": "code",
      "metadata": {
        "id": "CRPrYX4wdQ8w",
        "colab_type": "code",
        "colab": {}
      },
      "source": [
        "#resultado.pivot_table(index=['INSTITUCION DE DESTINO'], values=['NO SELECCIONADA', 'SELECCIONADA'], aggfunc='sum')\n",
        "dummies = pd.get_dummies(resultado['ESTADO'])\n",
        "resultado = pd.concat([resultado, dummies], axis=1, sort=False)\n",
        "#resultado\n",
        "\n",
        "l\n"
      ],
      "execution_count": null,
      "outputs": []
    },
    {
      "cell_type": "code",
      "metadata": {
        "id": "cHzOHQkAh9Za",
        "colab_type": "code",
        "colab": {}
      },
      "source": [
        "resultado = resultado.pivot_table(index=['country'], values=['NO SELECCIONADA', 'SELECCIONADA'], aggfunc='sum').reset_index()\n",
        "\n",
        "resultado['Postulante'] = resultado['NO SELECCIONADA'] + resultado['SELECCIONADA']\n",
        "\n",
        "resultado['% Aceptacion'] = round(resultado['SELECCIONADA']/resultado['Postulante'],3)*100\n",
        "\n",
        "resultado = resultado.sort_values(by ='Postulante', ascending = False)\n",
        "\n",
        "resultado.head()"
      ],
      "execution_count": null,
      "outputs": []
    },
    {
      "cell_type": "code",
      "metadata": {
        "id": "HmeJjlgcmmYS",
        "colab_type": "code",
        "colab": {}
      },
      "source": [
        "resultado = resultado[:10]"
      ],
      "execution_count": null,
      "outputs": []
    },
    {
      "cell_type": "code",
      "metadata": {
        "id": "ZXpIyxRanA3f",
        "colab_type": "code",
        "colab": {}
      },
      "source": [
        "import plotly.express as px\n",
        "df = px.data.gapminder()\n",
        "\n",
        "fig = px.scatter(resultado, x=\"SELECCIONADA\", y=\"% Aceptacion\",\n",
        "\t         size='Postulante', color=\"country\", template = 'none',\n",
        "                  size_max=80)\n",
        "\n",
        "fig.show()"
      ],
      "execution_count": null,
      "outputs": []
    },
    {
      "cell_type": "markdown",
      "metadata": {
        "id": "5vCNO8idzspM",
        "colab_type": "text"
      },
      "source": [
        "# **Analisis de Puntajes por Universidad y Paises**\n"
      ]
    },
    {
      "cell_type": "code",
      "metadata": {
        "id": "3cjo0OkD0RxY",
        "colab_type": "code",
        "colab": {
          "base_uri": "https://localhost:8080/",
          "height": 197
        },
        "outputId": "b2c686b7-fdc0-4444-c6f8-98f5ba6043a7"
      },
      "source": [
        "resultado.head()"
      ],
      "execution_count": null,
      "outputs": [
        {
          "output_type": "execute_result",
          "data": {
            "text/html": [
              "<div>\n",
              "<style scoped>\n",
              "    .dataframe tbody tr th:only-of-type {\n",
              "        vertical-align: middle;\n",
              "    }\n",
              "\n",
              "    .dataframe tbody tr th {\n",
              "        vertical-align: top;\n",
              "    }\n",
              "\n",
              "    .dataframe thead th {\n",
              "        text-align: right;\n",
              "    }\n",
              "</style>\n",
              "<table border=\"1\" class=\"dataframe\">\n",
              "  <thead>\n",
              "    <tr style=\"text-align: right;\">\n",
              "      <th></th>\n",
              "      <th>FOLIO</th>\n",
              "      <th>SEXO</th>\n",
              "      <th>NOMBRE</th>\n",
              "      <th>ESTADO</th>\n",
              "      <th>INSTITUCION DE DESTINO</th>\n",
              "      <th>PUNTAJE</th>\n",
              "      <th>NO SELECCIONADA</th>\n",
              "      <th>SELECCIONADA</th>\n",
              "      <th>country</th>\n",
              "    </tr>\n",
              "  </thead>\n",
              "  <tbody>\n",
              "    <tr>\n",
              "      <th>0</th>\n",
              "      <td>73200636.0</td>\n",
              "      <td>FEMENINO</td>\n",
              "      <td>DELANO BAUDET PIA ALEJANDRA</td>\n",
              "      <td>NO SELECCIONADA</td>\n",
              "      <td>BOSTON UNIVERSITY</td>\n",
              "      <td>4,618</td>\n",
              "      <td>1</td>\n",
              "      <td>0</td>\n",
              "      <td>USA</td>\n",
              "    </tr>\n",
              "    <tr>\n",
              "      <th>1</th>\n",
              "      <td>73200185.0</td>\n",
              "      <td>FEMENINO</td>\n",
              "      <td>ANDRADE SEPULVEDA KAREEN NICOLE</td>\n",
              "      <td>NO SELECCIONADA</td>\n",
              "      <td>UNIVERSIDADE DE SAO PAULO</td>\n",
              "      <td>4,617</td>\n",
              "      <td>1</td>\n",
              "      <td>0</td>\n",
              "      <td>Brazil</td>\n",
              "    </tr>\n",
              "    <tr>\n",
              "      <th>2</th>\n",
              "      <td>73200547.0</td>\n",
              "      <td>FEMENINO</td>\n",
              "      <td>PEREZ PAREDES DANIELA ALEJANDRA</td>\n",
              "      <td>NO SELECCIONADA</td>\n",
              "      <td>UNIVERSITY OF MELBOURNE</td>\n",
              "      <td>4,615</td>\n",
              "      <td>1</td>\n",
              "      <td>0</td>\n",
              "      <td>Australia</td>\n",
              "    </tr>\n",
              "    <tr>\n",
              "      <th>3</th>\n",
              "      <td>73200569.0</td>\n",
              "      <td>MASCULINO</td>\n",
              "      <td>CARMONA FONATINE PEDRO LEON</td>\n",
              "      <td>NO SELECCIONADA</td>\n",
              "      <td>UNIVERSITY OF EDINBURGH</td>\n",
              "      <td>4,614</td>\n",
              "      <td>1</td>\n",
              "      <td>0</td>\n",
              "      <td>United Kingdom</td>\n",
              "    </tr>\n",
              "    <tr>\n",
              "      <th>4</th>\n",
              "      <td>73200040.0</td>\n",
              "      <td>FEMENINO</td>\n",
              "      <td>YAÑEZ TORRES MARIA FLORENCIA</td>\n",
              "      <td>NO SELECCIONADA</td>\n",
              "      <td>UNIVERSITY OF SYDNEY</td>\n",
              "      <td>4,614</td>\n",
              "      <td>1</td>\n",
              "      <td>0</td>\n",
              "      <td>Australia</td>\n",
              "    </tr>\n",
              "  </tbody>\n",
              "</table>\n",
              "</div>"
            ],
            "text/plain": [
              "        FOLIO       SEXO  ... SELECCIONADA         country\n",
              "0  73200636.0   FEMENINO  ...            0             USA\n",
              "1  73200185.0   FEMENINO  ...            0          Brazil\n",
              "2  73200547.0   FEMENINO  ...            0       Australia\n",
              "3  73200569.0  MASCULINO  ...            0  United Kingdom\n",
              "4  73200040.0   FEMENINO  ...            0       Australia\n",
              "\n",
              "[5 rows x 9 columns]"
            ]
          },
          "metadata": {
            "tags": []
          },
          "execution_count": 208
        }
      ]
    },
    {
      "cell_type": "code",
      "metadata": {
        "id": "gdjXbVq80glu",
        "colab_type": "code",
        "colab": {
          "base_uri": "https://localhost:8080/",
          "height": 419
        },
        "outputId": "24051385-4871-407d-ead4-643c776d454c"
      },
      "source": [
        "def string_numero():\n",
        "    cantidad = 0\n",
        "    valores = []\n",
        "    resultado['PUNTAJE_NUMERO'] = 0\n",
        "    for i in resultado['PUNTAJE']:\n",
        "       numero = ''\n",
        "       numero_lista = list(i)\n",
        "       for x in numero_lista:\n",
        "            if x != ',':\n",
        "              numero = numero + x\n",
        "        \n",
        "       numero = float(numero)/1000\n",
        "       #print(numero)\n",
        "       #resultado['PUNTAJE_NUMERO'][cantidad] = numero\n",
        "       valores.append(numero)\n",
        "       cantidad = cantidad + 1\n",
        "    \n",
        "    valores = pd.DataFrame(valores, columns =['PUNTAJES_NUMERO'])\n",
        "    return valores\n",
        "string_numero()"
      ],
      "execution_count": 20,
      "outputs": [
        {
          "output_type": "execute_result",
          "data": {
            "text/html": [
              "<div>\n",
              "<style scoped>\n",
              "    .dataframe tbody tr th:only-of-type {\n",
              "        vertical-align: middle;\n",
              "    }\n",
              "\n",
              "    .dataframe tbody tr th {\n",
              "        vertical-align: top;\n",
              "    }\n",
              "\n",
              "    .dataframe thead th {\n",
              "        text-align: right;\n",
              "    }\n",
              "</style>\n",
              "<table border=\"1\" class=\"dataframe\">\n",
              "  <thead>\n",
              "    <tr style=\"text-align: right;\">\n",
              "      <th></th>\n",
              "      <th>PUNTAJES_NUMERO</th>\n",
              "    </tr>\n",
              "  </thead>\n",
              "  <tbody>\n",
              "    <tr>\n",
              "      <th>0</th>\n",
              "      <td>4.618</td>\n",
              "    </tr>\n",
              "    <tr>\n",
              "      <th>1</th>\n",
              "      <td>4.617</td>\n",
              "    </tr>\n",
              "    <tr>\n",
              "      <th>2</th>\n",
              "      <td>4.615</td>\n",
              "    </tr>\n",
              "    <tr>\n",
              "      <th>3</th>\n",
              "      <td>4.614</td>\n",
              "    </tr>\n",
              "    <tr>\n",
              "      <th>4</th>\n",
              "      <td>4.614</td>\n",
              "    </tr>\n",
              "    <tr>\n",
              "      <th>...</th>\n",
              "      <td>...</td>\n",
              "    </tr>\n",
              "    <tr>\n",
              "      <th>1008</th>\n",
              "      <td>4.620</td>\n",
              "    </tr>\n",
              "    <tr>\n",
              "      <th>1009</th>\n",
              "      <td>4.620</td>\n",
              "    </tr>\n",
              "    <tr>\n",
              "      <th>1010</th>\n",
              "      <td>4.619</td>\n",
              "    </tr>\n",
              "    <tr>\n",
              "      <th>1011</th>\n",
              "      <td>4.619</td>\n",
              "    </tr>\n",
              "    <tr>\n",
              "      <th>1012</th>\n",
              "      <td>4.619</td>\n",
              "    </tr>\n",
              "  </tbody>\n",
              "</table>\n",
              "<p>1013 rows × 1 columns</p>\n",
              "</div>"
            ],
            "text/plain": [
              "      PUNTAJES_NUMERO\n",
              "0               4.618\n",
              "1               4.617\n",
              "2               4.615\n",
              "3               4.614\n",
              "4               4.614\n",
              "...               ...\n",
              "1008            4.620\n",
              "1009            4.620\n",
              "1010            4.619\n",
              "1011            4.619\n",
              "1012            4.619\n",
              "\n",
              "[1013 rows x 1 columns]"
            ]
          },
          "metadata": {
            "tags": []
          },
          "execution_count": 20
        }
      ]
    },
    {
      "cell_type": "code",
      "metadata": {
        "id": "1XWI0F5o6w8c",
        "colab_type": "code",
        "colab": {
          "base_uri": "https://localhost:8080/",
          "height": 419
        },
        "outputId": "d5d41163-73ef-4cfe-dd6c-6a9b249bc702"
      },
      "source": [
        "df_puntajes = string_numero()\n",
        "df_puntajes"
      ],
      "execution_count": 21,
      "outputs": [
        {
          "output_type": "execute_result",
          "data": {
            "text/html": [
              "<div>\n",
              "<style scoped>\n",
              "    .dataframe tbody tr th:only-of-type {\n",
              "        vertical-align: middle;\n",
              "    }\n",
              "\n",
              "    .dataframe tbody tr th {\n",
              "        vertical-align: top;\n",
              "    }\n",
              "\n",
              "    .dataframe thead th {\n",
              "        text-align: right;\n",
              "    }\n",
              "</style>\n",
              "<table border=\"1\" class=\"dataframe\">\n",
              "  <thead>\n",
              "    <tr style=\"text-align: right;\">\n",
              "      <th></th>\n",
              "      <th>PUNTAJES_NUMERO</th>\n",
              "    </tr>\n",
              "  </thead>\n",
              "  <tbody>\n",
              "    <tr>\n",
              "      <th>0</th>\n",
              "      <td>4.618</td>\n",
              "    </tr>\n",
              "    <tr>\n",
              "      <th>1</th>\n",
              "      <td>4.617</td>\n",
              "    </tr>\n",
              "    <tr>\n",
              "      <th>2</th>\n",
              "      <td>4.615</td>\n",
              "    </tr>\n",
              "    <tr>\n",
              "      <th>3</th>\n",
              "      <td>4.614</td>\n",
              "    </tr>\n",
              "    <tr>\n",
              "      <th>4</th>\n",
              "      <td>4.614</td>\n",
              "    </tr>\n",
              "    <tr>\n",
              "      <th>...</th>\n",
              "      <td>...</td>\n",
              "    </tr>\n",
              "    <tr>\n",
              "      <th>1008</th>\n",
              "      <td>4.620</td>\n",
              "    </tr>\n",
              "    <tr>\n",
              "      <th>1009</th>\n",
              "      <td>4.620</td>\n",
              "    </tr>\n",
              "    <tr>\n",
              "      <th>1010</th>\n",
              "      <td>4.619</td>\n",
              "    </tr>\n",
              "    <tr>\n",
              "      <th>1011</th>\n",
              "      <td>4.619</td>\n",
              "    </tr>\n",
              "    <tr>\n",
              "      <th>1012</th>\n",
              "      <td>4.619</td>\n",
              "    </tr>\n",
              "  </tbody>\n",
              "</table>\n",
              "<p>1013 rows × 1 columns</p>\n",
              "</div>"
            ],
            "text/plain": [
              "      PUNTAJES_NUMERO\n",
              "0               4.618\n",
              "1               4.617\n",
              "2               4.615\n",
              "3               4.614\n",
              "4               4.614\n",
              "...               ...\n",
              "1008            4.620\n",
              "1009            4.620\n",
              "1010            4.619\n",
              "1011            4.619\n",
              "1012            4.619\n",
              "\n",
              "[1013 rows x 1 columns]"
            ]
          },
          "metadata": {
            "tags": []
          },
          "execution_count": 21
        }
      ]
    },
    {
      "cell_type": "code",
      "metadata": {
        "id": "kaWucmBp4aFo",
        "colab_type": "code",
        "colab": {}
      },
      "source": [
        "#resultado = pd.concat([resultado, df_puntajes], axis=1, sort=False)\n",
        "#resultado\n",
        "\n",
        "resultado = resultado.reset_index()\n"
      ],
      "execution_count": 22,
      "outputs": []
    },
    {
      "cell_type": "code",
      "metadata": {
        "id": "Rw5quYDY7q-W",
        "colab_type": "code",
        "colab": {}
      },
      "source": [
        "resultado = pd.concat([resultado, df_puntajes], axis=1, sort=False)"
      ],
      "execution_count": 23,
      "outputs": []
    },
    {
      "cell_type": "code",
      "metadata": {
        "id": "Su3dMETr7sA2",
        "colab_type": "code",
        "colab": {}
      },
      "source": [
        "resultado.drop('PUNTAJE', inplace = True, axis = 1)"
      ],
      "execution_count": 25,
      "outputs": []
    },
    {
      "cell_type": "code",
      "metadata": {
        "id": "v5XB20swHjgc",
        "colab_type": "code",
        "colab": {}
      },
      "source": [
        "resultado.drop('PUNTAJE_NUMERO', inplace = True, axis = 1)"
      ],
      "execution_count": 26,
      "outputs": []
    },
    {
      "cell_type": "code",
      "metadata": {
        "id": "h2DhfM2q9FBf",
        "colab_type": "code",
        "colab": {
          "base_uri": "https://localhost:8080/",
          "height": 306
        },
        "outputId": "84dcc07d-7326-4c6e-b4fa-854ad097ecd5"
      },
      "source": [
        "resultado.head()"
      ],
      "execution_count": 29,
      "outputs": [
        {
          "output_type": "execute_result",
          "data": {
            "text/html": [
              "<div>\n",
              "<style scoped>\n",
              "    .dataframe tbody tr th:only-of-type {\n",
              "        vertical-align: middle;\n",
              "    }\n",
              "\n",
              "    .dataframe tbody tr th {\n",
              "        vertical-align: top;\n",
              "    }\n",
              "\n",
              "    .dataframe thead th {\n",
              "        text-align: right;\n",
              "    }\n",
              "</style>\n",
              "<table border=\"1\" class=\"dataframe\">\n",
              "  <thead>\n",
              "    <tr style=\"text-align: right;\">\n",
              "      <th></th>\n",
              "      <th>index</th>\n",
              "      <th>FOLIO</th>\n",
              "      <th>SEXO</th>\n",
              "      <th>NOMBRE</th>\n",
              "      <th>ESTADO</th>\n",
              "      <th>INSTITUCION DE DESTINO</th>\n",
              "      <th>NO SELECCIONADA</th>\n",
              "      <th>SELECCIONADA</th>\n",
              "      <th>country</th>\n",
              "      <th>PUNTAJES_NUMERO</th>\n",
              "    </tr>\n",
              "  </thead>\n",
              "  <tbody>\n",
              "    <tr>\n",
              "      <th>0</th>\n",
              "      <td>0</td>\n",
              "      <td>73200636.0</td>\n",
              "      <td>FEMENINO</td>\n",
              "      <td>DELANO BAUDET PIA ALEJANDRA</td>\n",
              "      <td>NO SELECCIONADA</td>\n",
              "      <td>BOSTON UNIVERSITY</td>\n",
              "      <td>1</td>\n",
              "      <td>0</td>\n",
              "      <td>USA</td>\n",
              "      <td>4.618</td>\n",
              "    </tr>\n",
              "    <tr>\n",
              "      <th>1</th>\n",
              "      <td>1</td>\n",
              "      <td>73200185.0</td>\n",
              "      <td>FEMENINO</td>\n",
              "      <td>ANDRADE SEPULVEDA KAREEN NICOLE</td>\n",
              "      <td>NO SELECCIONADA</td>\n",
              "      <td>UNIVERSIDADE DE SAO PAULO</td>\n",
              "      <td>1</td>\n",
              "      <td>0</td>\n",
              "      <td>Brazil</td>\n",
              "      <td>4.617</td>\n",
              "    </tr>\n",
              "    <tr>\n",
              "      <th>2</th>\n",
              "      <td>2</td>\n",
              "      <td>73200547.0</td>\n",
              "      <td>FEMENINO</td>\n",
              "      <td>PEREZ PAREDES DANIELA ALEJANDRA</td>\n",
              "      <td>NO SELECCIONADA</td>\n",
              "      <td>UNIVERSITY OF MELBOURNE</td>\n",
              "      <td>1</td>\n",
              "      <td>0</td>\n",
              "      <td>Australia</td>\n",
              "      <td>4.615</td>\n",
              "    </tr>\n",
              "    <tr>\n",
              "      <th>3</th>\n",
              "      <td>3</td>\n",
              "      <td>73200569.0</td>\n",
              "      <td>MASCULINO</td>\n",
              "      <td>CARMONA FONATINE PEDRO LEON</td>\n",
              "      <td>NO SELECCIONADA</td>\n",
              "      <td>UNIVERSITY OF EDINBURGH</td>\n",
              "      <td>1</td>\n",
              "      <td>0</td>\n",
              "      <td>United Kingdom</td>\n",
              "      <td>4.614</td>\n",
              "    </tr>\n",
              "    <tr>\n",
              "      <th>4</th>\n",
              "      <td>4</td>\n",
              "      <td>73200040.0</td>\n",
              "      <td>FEMENINO</td>\n",
              "      <td>YAÑEZ TORRES MARIA FLORENCIA</td>\n",
              "      <td>NO SELECCIONADA</td>\n",
              "      <td>UNIVERSITY OF SYDNEY</td>\n",
              "      <td>1</td>\n",
              "      <td>0</td>\n",
              "      <td>Australia</td>\n",
              "      <td>4.614</td>\n",
              "    </tr>\n",
              "  </tbody>\n",
              "</table>\n",
              "</div>"
            ],
            "text/plain": [
              "   index       FOLIO       SEXO  ... SELECCIONADA         country PUNTAJES_NUMERO\n",
              "0      0  73200636.0   FEMENINO  ...            0             USA           4.618\n",
              "1      1  73200185.0   FEMENINO  ...            0          Brazil           4.617\n",
              "2      2  73200547.0   FEMENINO  ...            0       Australia           4.615\n",
              "3      3  73200569.0  MASCULINO  ...            0  United Kingdom           4.614\n",
              "4      4  73200040.0   FEMENINO  ...            0       Australia           4.614\n",
              "\n",
              "[5 rows x 10 columns]"
            ]
          },
          "metadata": {
            "tags": []
          },
          "execution_count": 29
        }
      ]
    },
    {
      "cell_type": "code",
      "metadata": {
        "id": "onzu1-LB703d",
        "colab_type": "code",
        "colab": {
          "base_uri": "https://localhost:8080/",
          "height": 405
        },
        "outputId": "a9e1a503-d4e0-4c37-b8da-368a0cae955d"
      },
      "source": [
        "plt.figure(figsize= (12,6))\n",
        "\n",
        "sns.distplot(resultado.loc[resultado['ESTADO'] == 'NO SELECCIONADA']['PUNTAJES_NUMERO'], kde = False, bins = 10, label = 'NO SELECCIONADOS')\n",
        "sns.distplot(resultado.loc[resultado['ESTADO'] == 'SELECCIONADA']['PUNTAJES_NUMERO'], kde = False, bins = 10, label = 'SELECCIONADOS')\n",
        "\n",
        "promedio_no = round(resultado.loc[resultado['ESTADO'] == 'NO SELECCIONADA']['PUNTAJES_NUMERO'].mean(),2)\n",
        "\n",
        "promedio_si = round(resultado.loc[resultado['ESTADO'] == 'SELECCIONADA']['PUNTAJES_NUMERO'].mean(),2)\n",
        "\n",
        "plt.axvline(x=resultado.loc[resultado['ESTADO'] == 'NO SELECCIONADA']['PUNTAJES_NUMERO'].mean(), color='b', linestyle='--', label = 'Promedio No Seleccionados: {}'.format(promedio_no))\n",
        "plt.axvline(x=resultado.loc[resultado['ESTADO'] == 'SELECCIONADA']['PUNTAJES_NUMERO'].mean(), color='r', linestyle='--', label = 'Promedio Seleccionados: {}'.format(promedio_si))\n",
        "\n",
        "plt.title('Distribucion de los puntajes para los cantidados seleccionados y no seleccionados')\n",
        "\n",
        "plt.legend()\n",
        "\n",
        "sns.despine(left=True,top = True,bottom = False)"
      ],
      "execution_count": 28,
      "outputs": [
        {
          "output_type": "display_data",
          "data": {
            "image/png": "[encoded data removed]",
            "text/plain": [
              "<Figure size 864x432 with 1 Axes>"
            ]
          },
          "metadata": {
            "tags": [],
            "needs_background": "light"
          }
        }
      ]
    },
    {
      "cell_type": "code",
      "metadata": {
        "id": "MZnpiham_mwA",
        "colab_type": "code",
        "colab": {
          "base_uri": "https://localhost:8080/",
          "height": 497
        },
        "outputId": "5eac3e97-55ba-44e4-f681-0c2d7ddbbf75"
      },
      "source": [
        "paises_10 = list(resultado.groupby('country').count()['FOLIO'].reset_index().sort_values(by='FOLIO', ascending = False)[:10]['country'])\n",
        "\n",
        "resultado = resultado[resultado['country'].isin(paises_10)]\n",
        "plt.figure(figsize= (15,8))\n",
        "sns.boxplot(x = 'PUNTAJES_NUMERO', y = 'country', hue = 'ESTADO', data = resultado)\n",
        "sns.despine(left=True,top = True,bottom = False)"
      ],
      "execution_count": null,
      "outputs": [
        {
          "output_type": "display_data",
          "data": {
            "image/png": "[encoded data removed]",
            "text/plain": [
              "<Figure size 1080x576 with 1 Axes>"
            ]
          },
          "metadata": {
            "tags": [],
            "needs_background": "light"
          }
        }
      ]
    },
    {
      "cell_type": "code",
      "metadata": {
        "id": "S3eYGemjFLZ4",
        "colab_type": "code",
        "colab": {
          "base_uri": "https://localhost:8080/",
          "height": 306
        },
        "outputId": "7bcf6e73-b2d3-42aa-8242-510d419d64a7"
      },
      "source": [
        "mini_puntaje = resultado.loc[resultado['ESTADO'] =='SELECCIONADA'].groupby('country').min()['PUNTAJES_NUMERO'].reset_index()\n",
        "\n",
        "resultado.head()"
      ],
      "execution_count": 30,
      "outputs": [
        {
          "output_type": "execute_result",
          "data": {
            "text/html": [
              "<div>\n",
              "<style scoped>\n",
              "    .dataframe tbody tr th:only-of-type {\n",
              "        vertical-align: middle;\n",
              "    }\n",
              "\n",
              "    .dataframe tbody tr th {\n",
              "        vertical-align: top;\n",
              "    }\n",
              "\n",
              "    .dataframe thead th {\n",
              "        text-align: right;\n",
              "    }\n",
              "</style>\n",
              "<table border=\"1\" class=\"dataframe\">\n",
              "  <thead>\n",
              "    <tr style=\"text-align: right;\">\n",
              "      <th></th>\n",
              "      <th>index</th>\n",
              "      <th>FOLIO</th>\n",
              "      <th>SEXO</th>\n",
              "      <th>NOMBRE</th>\n",
              "      <th>ESTADO</th>\n",
              "      <th>INSTITUCION DE DESTINO</th>\n",
              "      <th>NO SELECCIONADA</th>\n",
              "      <th>SELECCIONADA</th>\n",
              "      <th>country</th>\n",
              "      <th>PUNTAJES_NUMERO</th>\n",
              "    </tr>\n",
              "  </thead>\n",
              "  <tbody>\n",
              "    <tr>\n",
              "      <th>0</th>\n",
              "      <td>0</td>\n",
              "      <td>73200636.0</td>\n",
              "      <td>FEMENINO</td>\n",
              "      <td>DELANO BAUDET PIA ALEJANDRA</td>\n",
              "      <td>NO SELECCIONADA</td>\n",
              "      <td>BOSTON UNIVERSITY</td>\n",
              "      <td>1</td>\n",
              "      <td>0</td>\n",
              "      <td>USA</td>\n",
              "      <td>4.618</td>\n",
              "    </tr>\n",
              "    <tr>\n",
              "      <th>1</th>\n",
              "      <td>1</td>\n",
              "      <td>73200185.0</td>\n",
              "      <td>FEMENINO</td>\n",
              "      <td>ANDRADE SEPULVEDA KAREEN NICOLE</td>\n",
              "      <td>NO SELECCIONADA</td>\n",
              "      <td>UNIVERSIDADE DE SAO PAULO</td>\n",
              "      <td>1</td>\n",
              "      <td>0</td>\n",
              "      <td>Brazil</td>\n",
              "      <td>4.617</td>\n",
              "    </tr>\n",
              "    <tr>\n",
              "      <th>2</th>\n",
              "      <td>2</td>\n",
              "      <td>73200547.0</td>\n",
              "      <td>FEMENINO</td>\n",
              "      <td>PEREZ PAREDES DANIELA ALEJANDRA</td>\n",
              "      <td>NO SELECCIONADA</td>\n",
              "      <td>UNIVERSITY OF MELBOURNE</td>\n",
              "      <td>1</td>\n",
              "      <td>0</td>\n",
              "      <td>Australia</td>\n",
              "      <td>4.615</td>\n",
              "    </tr>\n",
              "    <tr>\n",
              "      <th>3</th>\n",
              "      <td>3</td>\n",
              "      <td>73200569.0</td>\n",
              "      <td>MASCULINO</td>\n",
              "      <td>CARMONA FONATINE PEDRO LEON</td>\n",
              "      <td>NO SELECCIONADA</td>\n",
              "      <td>UNIVERSITY OF EDINBURGH</td>\n",
              "      <td>1</td>\n",
              "      <td>0</td>\n",
              "      <td>United Kingdom</td>\n",
              "      <td>4.614</td>\n",
              "    </tr>\n",
              "    <tr>\n",
              "      <th>4</th>\n",
              "      <td>4</td>\n",
              "      <td>73200040.0</td>\n",
              "      <td>FEMENINO</td>\n",
              "      <td>YAÑEZ TORRES MARIA FLORENCIA</td>\n",
              "      <td>NO SELECCIONADA</td>\n",
              "      <td>UNIVERSITY OF SYDNEY</td>\n",
              "      <td>1</td>\n",
              "      <td>0</td>\n",
              "      <td>Australia</td>\n",
              "      <td>4.614</td>\n",
              "    </tr>\n",
              "  </tbody>\n",
              "</table>\n",
              "</div>"
            ],
            "text/plain": [
              "   index       FOLIO       SEXO  ... SELECCIONADA         country PUNTAJES_NUMERO\n",
              "0      0  73200636.0   FEMENINO  ...            0             USA           4.618\n",
              "1      1  73200185.0   FEMENINO  ...            0          Brazil           4.617\n",
              "2      2  73200547.0   FEMENINO  ...            0       Australia           4.615\n",
              "3      3  73200569.0  MASCULINO  ...            0  United Kingdom           4.614\n",
              "4      4  73200040.0   FEMENINO  ...            0       Australia           4.614\n",
              "\n",
              "[5 rows x 10 columns]"
            ]
          },
          "metadata": {
            "tags": []
          },
          "execution_count": 30
        }
      ]
    },
    {
      "cell_type": "code",
      "metadata": {
        "id": "2m2kY9dt44UC",
        "colab_type": "code",
        "colab": {
          "base_uri": "https://localhost:8080/",
          "height": 498
        },
        "outputId": "dde1c379-11e9-40c6-f493-92aad98a70d4"
      },
      "source": [
        "universidad_25 = list(resultado.groupby('INSTITUCION DE DESTINO').count()['FOLIO'].reset_index().sort_values('FOLIO', ascending = False)[:25]['INSTITUCION DE DESTINO'])\n",
        "\n",
        "resultado_25 = resultado[resultado['INSTITUCION DE DESTINO'].isin(universidad_25)]\n",
        "plt.figure(figsize= (15,8))\n",
        "sns.boxplot(x = 'PUNTAJES_NUMERO', y = 'INSTITUCION DE DESTINO', hue = 'ESTADO', data = resultado_25)\n",
        "sns.despine(left=True,top = True,bottom = False)\n"
      ],
      "execution_count": 47,
      "outputs": [
        {
          "output_type": "display_data",
          "data": {
            "image/png": "[encoded data removed]",
            "text/plain": [
              "<Figure size 1080x576 with 1 Axes>"
            ]
          },
          "metadata": {
            "tags": [],
            "needs_background": "light"
          }
        }
      ]
    }
  ]
}